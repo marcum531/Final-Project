{
 "cells": [
  {
   "cell_type": "code",
   "execution_count": 1,
   "metadata": {},
   "outputs": [
    {
     "name": "stdout",
     "output_type": "stream",
     "text": [
      "Requirement already up-to-date: sklearn in c:\\users\\sakon\\anaconda3.1\\lib\\site-packages (0.0)\n",
      "Requirement already satisfied, skipping upgrade: scikit-learn in c:\\users\\sakon\\anaconda3.1\\lib\\site-packages (from sklearn) (0.22.1)\n",
      "Requirement already satisfied, skipping upgrade: joblib>=0.11 in c:\\users\\sakon\\anaconda3.1\\lib\\site-packages (from scikit-learn->sklearn) (0.14.1)\n",
      "Requirement already satisfied, skipping upgrade: numpy>=1.11.0 in c:\\users\\sakon\\anaconda3.1\\lib\\site-packages (from scikit-learn->sklearn) (1.18.1)\n",
      "Requirement already satisfied, skipping upgrade: scipy>=0.17.0 in c:\\users\\sakon\\anaconda3.1\\lib\\site-packages (from scikit-learn->sklearn) (1.4.1)\n"
     ]
    }
   ],
   "source": [
    "# Update sklearn to prevent version mismatches\n",
    "!pip install sklearn --upgrade"
   ]
  },
  {
   "cell_type": "code",
   "execution_count": 2,
   "metadata": {},
   "outputs": [
    {
     "name": "stdout",
     "output_type": "stream",
     "text": [
      "Requirement already satisfied: joblib in c:\\users\\sakon\\anaconda3.1\\lib\\site-packages (0.14.1)\n"
     ]
    }
   ],
   "source": [
    "# install joblib. This will be used to save your model. \n",
    "# Restart your kernel after installing \n",
    "!pip install joblib"
   ]
  },
  {
   "cell_type": "code",
   "execution_count": 3,
   "metadata": {},
   "outputs": [],
   "source": [
    "import pandas as pd\n",
    "import numpy as np\n",
    "import matplotlib.pyplot as plt\n",
    "from sklearn.feature_extraction.text import CountVectorizer"
   ]
  },
  {
   "cell_type": "markdown",
   "metadata": {},
   "source": [
    "# Read the CSV and Perform Basic Data Cleaning¶"
   ]
  },
  {
   "cell_type": "code",
   "execution_count": 4,
   "metadata": {},
   "outputs": [
    {
     "data": {
      "text/html": [
       "<div>\n",
       "<style scoped>\n",
       "    .dataframe tbody tr th:only-of-type {\n",
       "        vertical-align: middle;\n",
       "    }\n",
       "\n",
       "    .dataframe tbody tr th {\n",
       "        vertical-align: top;\n",
       "    }\n",
       "\n",
       "    .dataframe thead th {\n",
       "        text-align: right;\n",
       "    }\n",
       "</style>\n",
       "<table border=\"1\" class=\"dataframe\">\n",
       "  <thead>\n",
       "    <tr style=\"text-align: right;\">\n",
       "      <th></th>\n",
       "      <th>Cuy_Unpl</th>\n",
       "      <th>Franklin_Unpl</th>\n",
       "      <th>Butler_Unpl</th>\n",
       "      <th>Mean</th>\n",
       "    </tr>\n",
       "  </thead>\n",
       "  <tbody>\n",
       "    <tr>\n",
       "      <th>0</th>\n",
       "      <td>9.3</td>\n",
       "      <td>9.9</td>\n",
       "      <td>11.2</td>\n",
       "      <td>10.13</td>\n",
       "    </tr>\n",
       "    <tr>\n",
       "      <th>1</th>\n",
       "      <td>9.7</td>\n",
       "      <td>9.7</td>\n",
       "      <td>11.0</td>\n",
       "      <td>10.13</td>\n",
       "    </tr>\n",
       "    <tr>\n",
       "      <th>2</th>\n",
       "      <td>9.0</td>\n",
       "      <td>9.6</td>\n",
       "      <td>10.8</td>\n",
       "      <td>9.80</td>\n",
       "    </tr>\n",
       "    <tr>\n",
       "      <th>3</th>\n",
       "      <td>8.5</td>\n",
       "      <td>9.1</td>\n",
       "      <td>10.2</td>\n",
       "      <td>9.27</td>\n",
       "    </tr>\n",
       "    <tr>\n",
       "      <th>4</th>\n",
       "      <td>8.4</td>\n",
       "      <td>8.7</td>\n",
       "      <td>9.7</td>\n",
       "      <td>8.93</td>\n",
       "    </tr>\n",
       "  </tbody>\n",
       "</table>\n",
       "</div>"
      ],
      "text/plain": [
       "   Cuy_Unpl  Franklin_Unpl  Butler_Unpl   Mean\n",
       "0       9.3            9.9         11.2  10.13\n",
       "1       9.7            9.7         11.0  10.13\n",
       "2       9.0            9.6         10.8   9.80\n",
       "3       8.5            9.1         10.2   9.27\n",
       "4       8.4            8.7          9.7   8.93"
      ]
     },
     "execution_count": 4,
     "metadata": {},
     "output_type": "execute_result"
    }
   ],
   "source": [
    "df = pd.read_csv(\"Unemployment_cuy_Franklin_Butler.csv\")\n",
    "# Drop the null columns with all values are null\n",
    "df = df.dropna(axis='columns', how='all')\n",
    "# Drop the null rows\n",
    "df = df.dropna()\n",
    "df.head()"
   ]
  },
  {
   "cell_type": "markdown",
   "metadata": {},
   "source": [
    "# Select features columns"
   ]
  },
  {
   "cell_type": "code",
   "execution_count": 5,
   "metadata": {},
   "outputs": [],
   "source": [
    "# Set features and set x values.\n",
    "df.columns\n",
    "#selected_features = df[['names', 'of', 'selected', 'features', 'here']]\n",
    "selected_features = df[df.columns]\n",
    "selected_features = selected_features.drop(columns = 'Mean')"
   ]
  },
  {
   "cell_type": "code",
   "execution_count": 6,
   "metadata": {},
   "outputs": [
    {
     "data": {
      "text/plain": [
       "array([10.13, 10.13,  9.8 ,  9.27,  8.93,  9.33,  9.33,  8.97,  8.67,\n",
       "        8.47,  8.57,  8.17,  8.93,  8.73,  8.23,  7.77,  8.07,  8.9 ,\n",
       "        8.8 ,  8.3 ,  8.07,  7.67,  7.1 ,  7.1 ,  7.77,  7.73,  7.27,\n",
       "        6.57,  6.7 ,  7.4 ,  7.47,  6.9 ,  6.47,  6.37,  6.2 ,  6.63,\n",
       "        7.9 ,  7.6 ,  6.97,  6.37,  6.77,  7.6 ,  7.4 ,  7.  ,  6.83,\n",
       "        6.8 ,  6.27,  5.97,  6.77,  6.7 ,  6.1 ,  5.03,  5.4 ,  5.9 ,\n",
       "        6.  ,  5.57,  5.07,  4.8 ,  4.7 ,  4.57,  5.47,  5.2 ,  4.8 ,\n",
       "        4.4 ,  4.73,  5.03,  4.83,  4.27,  4.17,  4.13,  4.2 ,  4.2 ,\n",
       "        4.87,  4.93,  4.8 ,  4.43,  4.23,  5.  ,  4.87,  4.8 ,  4.83,\n",
       "        4.7 ,  4.4 ,  4.67,  5.5 ,  5.4 ,  4.77,  4.4 ,  4.5 ,  5.1 ,\n",
       "        5.03,  5.  ,  4.5 ,  4.17,  4.07,  4.  ,  4.53,  4.63,  4.3 ,\n",
       "        4.  ,  4.  ,  4.93,  4.57,  4.23,  3.97,  3.9 ,  3.7 ,  4.  ,\n",
       "        4.5 ,  4.1 ,  3.87,  3.3 ,  3.5 ,  4.23,  4.37,  4.  ,  3.7 ,\n",
       "        3.5 ,  3.37,  3.4 ,  4.4 ,  4.3 ,  5.2 , 17.  , 13.87, 11.87,\n",
       "       10.13,  9.6 ])"
      ]
     },
     "execution_count": 6,
     "metadata": {},
     "output_type": "execute_result"
    }
   ],
   "source": [
    "# Drop columns from df. below based on the 3 classes results.\n",
    "#selected_features  = selected_features.drop(columns = least_important_list)\n",
    "X = selected_features\n",
    "y = df['Mean'].to_numpy()\n",
    "#y = Mean.values.reshape(-1, 1)\n",
    "y"
   ]
  },
  {
   "cell_type": "code",
   "execution_count": 7,
   "metadata": {},
   "outputs": [
    {
     "data": {
      "text/html": [
       "<div>\n",
       "<style scoped>\n",
       "    .dataframe tbody tr th:only-of-type {\n",
       "        vertical-align: middle;\n",
       "    }\n",
       "\n",
       "    .dataframe tbody tr th {\n",
       "        vertical-align: top;\n",
       "    }\n",
       "\n",
       "    .dataframe thead th {\n",
       "        text-align: right;\n",
       "    }\n",
       "</style>\n",
       "<table border=\"1\" class=\"dataframe\">\n",
       "  <thead>\n",
       "    <tr style=\"text-align: right;\">\n",
       "      <th></th>\n",
       "      <th>Cuy_Unpl</th>\n",
       "      <th>Franklin_Unpl</th>\n",
       "      <th>Butler_Unpl</th>\n",
       "    </tr>\n",
       "  </thead>\n",
       "  <tbody>\n",
       "    <tr>\n",
       "      <th>0</th>\n",
       "      <td>9.3</td>\n",
       "      <td>9.9</td>\n",
       "      <td>11.2</td>\n",
       "    </tr>\n",
       "    <tr>\n",
       "      <th>1</th>\n",
       "      <td>9.7</td>\n",
       "      <td>9.7</td>\n",
       "      <td>11.0</td>\n",
       "    </tr>\n",
       "    <tr>\n",
       "      <th>2</th>\n",
       "      <td>9.0</td>\n",
       "      <td>9.6</td>\n",
       "      <td>10.8</td>\n",
       "    </tr>\n",
       "    <tr>\n",
       "      <th>3</th>\n",
       "      <td>8.5</td>\n",
       "      <td>9.1</td>\n",
       "      <td>10.2</td>\n",
       "    </tr>\n",
       "    <tr>\n",
       "      <th>4</th>\n",
       "      <td>8.4</td>\n",
       "      <td>8.7</td>\n",
       "      <td>9.7</td>\n",
       "    </tr>\n",
       "    <tr>\n",
       "      <th>...</th>\n",
       "      <td>...</td>\n",
       "      <td>...</td>\n",
       "      <td>...</td>\n",
       "    </tr>\n",
       "    <tr>\n",
       "      <th>123</th>\n",
       "      <td>22.9</td>\n",
       "      <td>13.9</td>\n",
       "      <td>14.2</td>\n",
       "    </tr>\n",
       "    <tr>\n",
       "      <th>124</th>\n",
       "      <td>18.1</td>\n",
       "      <td>11.6</td>\n",
       "      <td>11.9</td>\n",
       "    </tr>\n",
       "    <tr>\n",
       "      <th>125</th>\n",
       "      <td>15.2</td>\n",
       "      <td>10.6</td>\n",
       "      <td>9.8</td>\n",
       "    </tr>\n",
       "    <tr>\n",
       "      <th>126</th>\n",
       "      <td>13.1</td>\n",
       "      <td>9.1</td>\n",
       "      <td>8.2</td>\n",
       "    </tr>\n",
       "    <tr>\n",
       "      <th>127</th>\n",
       "      <td>11.6</td>\n",
       "      <td>9.1</td>\n",
       "      <td>8.1</td>\n",
       "    </tr>\n",
       "  </tbody>\n",
       "</table>\n",
       "<p>128 rows × 3 columns</p>\n",
       "</div>"
      ],
      "text/plain": [
       "     Cuy_Unpl  Franklin_Unpl  Butler_Unpl\n",
       "0         9.3            9.9         11.2\n",
       "1         9.7            9.7         11.0\n",
       "2         9.0            9.6         10.8\n",
       "3         8.5            9.1         10.2\n",
       "4         8.4            8.7          9.7\n",
       "..        ...            ...          ...\n",
       "123      22.9           13.9         14.2\n",
       "124      18.1           11.6         11.9\n",
       "125      15.2           10.6          9.8\n",
       "126      13.1            9.1          8.2\n",
       "127      11.6            9.1          8.1\n",
       "\n",
       "[128 rows x 3 columns]"
      ]
     },
     "execution_count": 7,
     "metadata": {},
     "output_type": "execute_result"
    }
   ],
   "source": [
    "selected_features"
   ]
  },
  {
   "cell_type": "code",
   "execution_count": 8,
   "metadata": {},
   "outputs": [],
   "source": [
    "columns = selected_features.columns.to_list()"
   ]
  },
  {
   "cell_type": "code",
   "execution_count": 9,
   "metadata": {},
   "outputs": [],
   "source": [
    "from sklearn.preprocessing import LabelEncoder\n",
    "label_encoder = LabelEncoder()\n",
    "label_encoder.fit(y)\n",
    "encoded_y = label_encoder.transform(y)"
   ]
  },
  {
   "cell_type": "code",
   "execution_count": 10,
   "metadata": {},
   "outputs": [
    {
     "data": {
      "text/plain": [
       "array([83, 83, 82, 79, 77, 80, 80, 78, 73, 71, 72, 68, 77, 74, 69, 65, 67,\n",
       "       76, 75, 70, 67, 63, 58, 58, 65, 64, 59, 49, 51, 60, 61, 55, 48, 47,\n",
       "       45, 50, 66, 62, 56, 47, 52, 62, 60, 57, 54, 53, 46, 42, 52, 51, 44,\n",
       "       33, 37, 41, 43, 40, 34, 28, 25, 22, 38, 36, 28, 18, 26, 33, 29, 15,\n",
       "       12, 11, 13, 13, 30, 31, 28, 19, 14, 32, 30, 28, 29, 25, 18, 24, 39,\n",
       "       37, 27, 18, 20, 35, 33, 32, 20, 12,  9,  8, 21, 23, 16,  8,  8, 31,\n",
       "       22, 14,  7,  6,  4,  8, 20, 10,  5,  0,  3, 14, 17,  8,  4,  3,  1,\n",
       "        2, 18, 16, 36, 86, 85, 84, 83, 81], dtype=int64)"
      ]
     },
     "execution_count": 10,
     "metadata": {},
     "output_type": "execute_result"
    }
   ],
   "source": [
    "label_encoder.fit(y).transform(y)"
   ]
  },
  {
   "cell_type": "code",
   "execution_count": 11,
   "metadata": {},
   "outputs": [
    {
     "name": "stdout",
     "output_type": "stream",
     "text": [
      "Original Class: 10.13\n",
      "Encoded Label: 83\n",
      "------------\n",
      "Original Class: 10.13\n",
      "Encoded Label: 83\n",
      "------------\n",
      "Original Class: 9.8\n",
      "Encoded Label: 82\n",
      "------------\n",
      "Original Class: 9.27\n",
      "Encoded Label: 79\n",
      "------------\n",
      "Original Class: 8.93\n",
      "Encoded Label: 77\n",
      "------------\n",
      "Original Class: 9.33\n",
      "Encoded Label: 80\n",
      "------------\n",
      "Original Class: 9.33\n",
      "Encoded Label: 80\n",
      "------------\n",
      "Original Class: 8.97\n",
      "Encoded Label: 78\n",
      "------------\n",
      "Original Class: 8.67\n",
      "Encoded Label: 73\n",
      "------------\n",
      "Original Class: 8.47\n",
      "Encoded Label: 71\n",
      "------------\n",
      "Original Class: 8.57\n",
      "Encoded Label: 72\n",
      "------------\n",
      "Original Class: 8.17\n",
      "Encoded Label: 68\n",
      "------------\n",
      "Original Class: 8.93\n",
      "Encoded Label: 77\n",
      "------------\n",
      "Original Class: 8.73\n",
      "Encoded Label: 74\n",
      "------------\n",
      "Original Class: 8.23\n",
      "Encoded Label: 69\n",
      "------------\n",
      "Original Class: 7.77\n",
      "Encoded Label: 65\n",
      "------------\n",
      "Original Class: 8.07\n",
      "Encoded Label: 67\n",
      "------------\n",
      "Original Class: 8.9\n",
      "Encoded Label: 76\n",
      "------------\n",
      "Original Class: 8.8\n",
      "Encoded Label: 75\n",
      "------------\n",
      "Original Class: 8.3\n",
      "Encoded Label: 70\n",
      "------------\n",
      "Original Class: 8.07\n",
      "Encoded Label: 67\n",
      "------------\n",
      "Original Class: 7.67\n",
      "Encoded Label: 63\n",
      "------------\n",
      "Original Class: 7.1\n",
      "Encoded Label: 58\n",
      "------------\n",
      "Original Class: 7.1\n",
      "Encoded Label: 58\n",
      "------------\n",
      "Original Class: 7.77\n",
      "Encoded Label: 65\n",
      "------------\n",
      "Original Class: 7.73\n",
      "Encoded Label: 64\n",
      "------------\n",
      "Original Class: 7.27\n",
      "Encoded Label: 59\n",
      "------------\n",
      "Original Class: 6.57\n",
      "Encoded Label: 49\n",
      "------------\n",
      "Original Class: 6.7\n",
      "Encoded Label: 51\n",
      "------------\n",
      "Original Class: 7.4\n",
      "Encoded Label: 60\n",
      "------------\n",
      "Original Class: 7.47\n",
      "Encoded Label: 61\n",
      "------------\n",
      "Original Class: 6.9\n",
      "Encoded Label: 55\n",
      "------------\n",
      "Original Class: 6.47\n",
      "Encoded Label: 48\n",
      "------------\n",
      "Original Class: 6.37\n",
      "Encoded Label: 47\n",
      "------------\n",
      "Original Class: 6.2\n",
      "Encoded Label: 45\n",
      "------------\n",
      "Original Class: 6.63\n",
      "Encoded Label: 50\n",
      "------------\n",
      "Original Class: 7.9\n",
      "Encoded Label: 66\n",
      "------------\n",
      "Original Class: 7.6\n",
      "Encoded Label: 62\n",
      "------------\n",
      "Original Class: 6.97\n",
      "Encoded Label: 56\n",
      "------------\n",
      "Original Class: 6.37\n",
      "Encoded Label: 47\n",
      "------------\n",
      "Original Class: 6.77\n",
      "Encoded Label: 52\n",
      "------------\n",
      "Original Class: 7.6\n",
      "Encoded Label: 62\n",
      "------------\n",
      "Original Class: 7.4\n",
      "Encoded Label: 60\n",
      "------------\n",
      "Original Class: 7.0\n",
      "Encoded Label: 57\n",
      "------------\n",
      "Original Class: 6.83\n",
      "Encoded Label: 54\n",
      "------------\n",
      "Original Class: 6.8\n",
      "Encoded Label: 53\n",
      "------------\n",
      "Original Class: 6.27\n",
      "Encoded Label: 46\n",
      "------------\n",
      "Original Class: 5.97\n",
      "Encoded Label: 42\n",
      "------------\n",
      "Original Class: 6.77\n",
      "Encoded Label: 52\n",
      "------------\n",
      "Original Class: 6.7\n",
      "Encoded Label: 51\n",
      "------------\n",
      "Original Class: 6.1\n",
      "Encoded Label: 44\n",
      "------------\n",
      "Original Class: 5.03\n",
      "Encoded Label: 33\n",
      "------------\n",
      "Original Class: 5.4\n",
      "Encoded Label: 37\n",
      "------------\n",
      "Original Class: 5.9\n",
      "Encoded Label: 41\n",
      "------------\n",
      "Original Class: 6.0\n",
      "Encoded Label: 43\n",
      "------------\n",
      "Original Class: 5.57\n",
      "Encoded Label: 40\n",
      "------------\n",
      "Original Class: 5.07\n",
      "Encoded Label: 34\n",
      "------------\n",
      "Original Class: 4.8\n",
      "Encoded Label: 28\n",
      "------------\n",
      "Original Class: 4.7\n",
      "Encoded Label: 25\n",
      "------------\n",
      "Original Class: 4.57\n",
      "Encoded Label: 22\n",
      "------------\n",
      "Original Class: 5.47\n",
      "Encoded Label: 38\n",
      "------------\n",
      "Original Class: 5.2\n",
      "Encoded Label: 36\n",
      "------------\n",
      "Original Class: 4.8\n",
      "Encoded Label: 28\n",
      "------------\n",
      "Original Class: 4.4\n",
      "Encoded Label: 18\n",
      "------------\n",
      "Original Class: 4.73\n",
      "Encoded Label: 26\n",
      "------------\n",
      "Original Class: 5.03\n",
      "Encoded Label: 33\n",
      "------------\n",
      "Original Class: 4.83\n",
      "Encoded Label: 29\n",
      "------------\n",
      "Original Class: 4.27\n",
      "Encoded Label: 15\n",
      "------------\n",
      "Original Class: 4.17\n",
      "Encoded Label: 12\n",
      "------------\n",
      "Original Class: 4.13\n",
      "Encoded Label: 11\n",
      "------------\n",
      "Original Class: 4.2\n",
      "Encoded Label: 13\n",
      "------------\n",
      "Original Class: 4.2\n",
      "Encoded Label: 13\n",
      "------------\n",
      "Original Class: 4.87\n",
      "Encoded Label: 30\n",
      "------------\n",
      "Original Class: 4.93\n",
      "Encoded Label: 31\n",
      "------------\n",
      "Original Class: 4.8\n",
      "Encoded Label: 28\n",
      "------------\n",
      "Original Class: 4.43\n",
      "Encoded Label: 19\n",
      "------------\n",
      "Original Class: 4.23\n",
      "Encoded Label: 14\n",
      "------------\n",
      "Original Class: 5.0\n",
      "Encoded Label: 32\n",
      "------------\n",
      "Original Class: 4.87\n",
      "Encoded Label: 30\n",
      "------------\n",
      "Original Class: 4.8\n",
      "Encoded Label: 28\n",
      "------------\n",
      "Original Class: 4.83\n",
      "Encoded Label: 29\n",
      "------------\n",
      "Original Class: 4.7\n",
      "Encoded Label: 25\n",
      "------------\n",
      "Original Class: 4.4\n",
      "Encoded Label: 18\n",
      "------------\n",
      "Original Class: 4.67\n",
      "Encoded Label: 24\n",
      "------------\n",
      "Original Class: 5.5\n",
      "Encoded Label: 39\n",
      "------------\n",
      "Original Class: 5.4\n",
      "Encoded Label: 37\n",
      "------------\n",
      "Original Class: 4.77\n",
      "Encoded Label: 27\n",
      "------------\n",
      "Original Class: 4.4\n",
      "Encoded Label: 18\n",
      "------------\n",
      "Original Class: 4.5\n",
      "Encoded Label: 20\n",
      "------------\n",
      "Original Class: 5.1\n",
      "Encoded Label: 35\n",
      "------------\n",
      "Original Class: 5.03\n",
      "Encoded Label: 33\n",
      "------------\n",
      "Original Class: 5.0\n",
      "Encoded Label: 32\n",
      "------------\n",
      "Original Class: 4.5\n",
      "Encoded Label: 20\n",
      "------------\n",
      "Original Class: 4.17\n",
      "Encoded Label: 12\n",
      "------------\n",
      "Original Class: 4.07\n",
      "Encoded Label: 9\n",
      "------------\n",
      "Original Class: 4.0\n",
      "Encoded Label: 8\n",
      "------------\n",
      "Original Class: 4.53\n",
      "Encoded Label: 21\n",
      "------------\n",
      "Original Class: 4.63\n",
      "Encoded Label: 23\n",
      "------------\n",
      "Original Class: 4.3\n",
      "Encoded Label: 16\n",
      "------------\n",
      "Original Class: 4.0\n",
      "Encoded Label: 8\n",
      "------------\n",
      "Original Class: 4.0\n",
      "Encoded Label: 8\n",
      "------------\n",
      "Original Class: 4.93\n",
      "Encoded Label: 31\n",
      "------------\n",
      "Original Class: 4.57\n",
      "Encoded Label: 22\n",
      "------------\n",
      "Original Class: 4.23\n",
      "Encoded Label: 14\n",
      "------------\n",
      "Original Class: 3.97\n",
      "Encoded Label: 7\n",
      "------------\n",
      "Original Class: 3.9\n",
      "Encoded Label: 6\n",
      "------------\n",
      "Original Class: 3.7\n",
      "Encoded Label: 4\n",
      "------------\n",
      "Original Class: 4.0\n",
      "Encoded Label: 8\n",
      "------------\n",
      "Original Class: 4.5\n",
      "Encoded Label: 20\n",
      "------------\n",
      "Original Class: 4.1\n",
      "Encoded Label: 10\n",
      "------------\n",
      "Original Class: 3.87\n",
      "Encoded Label: 5\n",
      "------------\n",
      "Original Class: 3.3\n",
      "Encoded Label: 0\n",
      "------------\n",
      "Original Class: 3.5\n",
      "Encoded Label: 3\n",
      "------------\n",
      "Original Class: 4.23\n",
      "Encoded Label: 14\n",
      "------------\n",
      "Original Class: 4.37\n",
      "Encoded Label: 17\n",
      "------------\n",
      "Original Class: 4.0\n",
      "Encoded Label: 8\n",
      "------------\n",
      "Original Class: 3.7\n",
      "Encoded Label: 4\n",
      "------------\n",
      "Original Class: 3.5\n",
      "Encoded Label: 3\n",
      "------------\n",
      "Original Class: 3.37\n",
      "Encoded Label: 1\n",
      "------------\n",
      "Original Class: 3.4\n",
      "Encoded Label: 2\n",
      "------------\n",
      "Original Class: 4.4\n",
      "Encoded Label: 18\n",
      "------------\n",
      "Original Class: 4.3\n",
      "Encoded Label: 16\n",
      "------------\n",
      "Original Class: 5.2\n",
      "Encoded Label: 36\n",
      "------------\n",
      "Original Class: 17.0\n",
      "Encoded Label: 86\n",
      "------------\n",
      "Original Class: 13.87\n",
      "Encoded Label: 85\n",
      "------------\n",
      "Original Class: 11.87\n",
      "Encoded Label: 84\n",
      "------------\n",
      "Original Class: 10.13\n",
      "Encoded Label: 83\n",
      "------------\n",
      "Original Class: 9.6\n",
      "Encoded Label: 81\n",
      "------------\n"
     ]
    }
   ],
   "source": [
    "for label, original_class in zip(encoded_y, y):\n",
    "    print('Original Class: ' + str(original_class))\n",
    "    print('Encoded Label: ' + str(label))\n",
    "    print('-' * 12)"
   ]
  },
  {
   "cell_type": "code",
   "execution_count": 12,
   "metadata": {},
   "outputs": [
    {
     "data": {
      "text/plain": [
       "array([83, 83, 82, 79, 77, 80, 80, 78, 73, 71, 72, 68, 77, 74, 69, 65, 67,\n",
       "       76, 75, 70, 67, 63, 58, 58, 65, 64, 59, 49, 51, 60, 61, 55, 48, 47,\n",
       "       45, 50, 66, 62, 56, 47, 52, 62, 60, 57, 54, 53, 46, 42, 52, 51, 44,\n",
       "       33, 37, 41, 43, 40, 34, 28, 25, 22, 38, 36, 28, 18, 26, 33, 29, 15,\n",
       "       12, 11, 13, 13, 30, 31, 28, 19, 14, 32, 30, 28, 29, 25, 18, 24, 39,\n",
       "       37, 27, 18, 20, 35, 33, 32, 20, 12,  9,  8, 21, 23, 16,  8,  8, 31,\n",
       "       22, 14,  7,  6,  4,  8, 20, 10,  5,  0,  3, 14, 17,  8,  4,  3,  1,\n",
       "        2, 18, 16, 36, 86, 85, 84, 83, 81], dtype=int64)"
      ]
     },
     "execution_count": 12,
     "metadata": {},
     "output_type": "execute_result"
    }
   ],
   "source": [
    "encoded_y"
   ]
  },
  {
   "cell_type": "code",
   "execution_count": 13,
   "metadata": {},
   "outputs": [],
   "source": [
    "encoded_y = encoded_y.reshape(-1,1)"
   ]
  },
  {
   "cell_type": "code",
   "execution_count": 14,
   "metadata": {},
   "outputs": [
    {
     "name": "stdout",
     "output_type": "stream",
     "text": [
      "(128, 3) (128,)\n"
     ]
    }
   ],
   "source": [
    "print(X.shape, y.shape)"
   ]
  },
  {
   "cell_type": "code",
   "execution_count": 15,
   "metadata": {},
   "outputs": [
    {
     "data": {
      "text/plain": [
       "(128, 1)"
      ]
     },
     "execution_count": 15,
     "metadata": {},
     "output_type": "execute_result"
    }
   ],
   "source": [
    "encoded_y.shape"
   ]
  },
  {
   "cell_type": "markdown",
   "metadata": {},
   "source": [
    "# Create a Train Test Split\n",
    "\n",
    "#Use Mean for the y values"
   ]
  },
  {
   "cell_type": "code",
   "execution_count": 16,
   "metadata": {},
   "outputs": [],
   "source": [
    "from sklearn.model_selection import train_test_split\n",
    "X_train, X_test, encoded_y_train, encoded_y_test = train_test_split(X, encoded_y, random_state=1)"
   ]
  },
  {
   "cell_type": "code",
   "execution_count": 17,
   "metadata": {},
   "outputs": [
    {
     "data": {
      "text/html": [
       "<div>\n",
       "<style scoped>\n",
       "    .dataframe tbody tr th:only-of-type {\n",
       "        vertical-align: middle;\n",
       "    }\n",
       "\n",
       "    .dataframe tbody tr th {\n",
       "        vertical-align: top;\n",
       "    }\n",
       "\n",
       "    .dataframe thead th {\n",
       "        text-align: right;\n",
       "    }\n",
       "</style>\n",
       "<table border=\"1\" class=\"dataframe\">\n",
       "  <thead>\n",
       "    <tr style=\"text-align: right;\">\n",
       "      <th></th>\n",
       "      <th>Cuy_Unpl</th>\n",
       "      <th>Franklin_Unpl</th>\n",
       "      <th>Butler_Unpl</th>\n",
       "    </tr>\n",
       "  </thead>\n",
       "  <tbody>\n",
       "    <tr>\n",
       "      <th>88</th>\n",
       "      <td>5.6</td>\n",
       "      <td>3.8</td>\n",
       "      <td>4.1</td>\n",
       "    </tr>\n",
       "    <tr>\n",
       "      <th>74</th>\n",
       "      <td>5.5</td>\n",
       "      <td>4.3</td>\n",
       "      <td>4.6</td>\n",
       "    </tr>\n",
       "    <tr>\n",
       "      <th>120</th>\n",
       "      <td>4.7</td>\n",
       "      <td>4.0</td>\n",
       "      <td>4.5</td>\n",
       "    </tr>\n",
       "    <tr>\n",
       "      <th>45</th>\n",
       "      <td>6.8</td>\n",
       "      <td>6.3</td>\n",
       "      <td>7.3</td>\n",
       "    </tr>\n",
       "    <tr>\n",
       "      <th>77</th>\n",
       "      <td>5.9</td>\n",
       "      <td>4.3</td>\n",
       "      <td>4.8</td>\n",
       "    </tr>\n",
       "  </tbody>\n",
       "</table>\n",
       "</div>"
      ],
      "text/plain": [
       "     Cuy_Unpl  Franklin_Unpl  Butler_Unpl\n",
       "88        5.6            3.8          4.1\n",
       "74        5.5            4.3          4.6\n",
       "120       4.7            4.0          4.5\n",
       "45        6.8            6.3          7.3\n",
       "77        5.9            4.3          4.8"
      ]
     },
     "execution_count": 17,
     "metadata": {},
     "output_type": "execute_result"
    }
   ],
   "source": [
    "X_train.head()"
   ]
  },
  {
   "cell_type": "code",
   "execution_count": 18,
   "metadata": {},
   "outputs": [
    {
     "name": "stdout",
     "output_type": "stream",
     "text": [
      "(96, 3) (96, 1)\n"
     ]
    }
   ],
   "source": [
    "print(X_train.shape, encoded_y_train.shape)"
   ]
  },
  {
   "cell_type": "markdown",
   "metadata": {},
   "source": [
    "# Pre-processing\n",
    "#Scale the data using the MinMaxScaler and perform some feature selection"
   ]
  },
  {
   "cell_type": "code",
   "execution_count": 19,
   "metadata": {},
   "outputs": [],
   "source": [
    "# Scaling data\n",
    "from sklearn.preprocessing import MinMaxScaler\n",
    "X_scaler = MinMaxScaler().fit(X_train)\n",
    "#y_scaler = MinMaxScaler().fit(encoded_y_train)"
   ]
  },
  {
   "cell_type": "code",
   "execution_count": 20,
   "metadata": {},
   "outputs": [],
   "source": [
    "X_scaled_train = X_scaler.transform(X_train)\n",
    "X_scaled_test = X_scaler.transform(X_test)\n",
    "#y_scaled_train = y_scaler.transform(encoded_y_train)\n",
    "#y_scaled_test = y_scaler.transform(encoded_y_test)"
   ]
  },
  {
   "cell_type": "code",
   "execution_count": 21,
   "metadata": {},
   "outputs": [
    {
     "data": {
      "text/plain": [
       "array([[0.10824742, 0.0733945 , 0.09009009],\n",
       "       [0.10309278, 0.11926606, 0.13513514],\n",
       "       [0.06185567, 0.09174312, 0.12612613],\n",
       "       [0.17010309, 0.30275229, 0.37837838],\n",
       "       [0.12371134, 0.11926606, 0.15315315],\n",
       "       [0.03092784, 0.06422018, 0.07207207],\n",
       "       [0.10824742, 0.08256881, 0.11711712],\n",
       "       [0.08247423, 0.11009174, 0.15315315],\n",
       "       [0.20103093, 0.34862385, 0.44144144],\n",
       "       [0.10309278, 0.11009174, 0.15315315],\n",
       "       [0.17010309, 0.13761468, 0.16216216],\n",
       "       [0.22680412, 0.48623853, 0.57657658],\n",
       "       [0.09793814, 0.11009174, 0.15315315],\n",
       "       [0.1443299 , 0.27522936, 0.36036036],\n",
       "       [0.49484536, 0.55963303, 0.45945946],\n",
       "       [0.17010309, 0.32110092, 0.40540541],\n",
       "       [0.21134021, 0.4587156 , 0.55855856],\n",
       "       [0.41752577, 0.55963303, 0.45045045],\n",
       "       [0.1443299 , 0.28440367, 0.37837838],\n",
       "       [0.20618557, 0.40366972, 0.51351351],\n",
       "       [0.1185567 , 0.12844037, 0.15315315],\n",
       "       [0.13917526, 0.27522936, 0.34234234],\n",
       "       [0.11340206, 0.11926606, 0.15315315],\n",
       "       [0.07731959, 0.0733945 , 0.09009009],\n",
       "       [0.12886598, 0.11926606, 0.15315315],\n",
       "       [0.17010309, 0.30275229, 0.36936937],\n",
       "       [0.11340206, 0.12844037, 0.17117117],\n",
       "       [0.04123711, 0.08256881, 0.0990991 ],\n",
       "       [0.05670103, 0.0733945 , 0.09009009],\n",
       "       [0.16494845, 0.33027523, 0.44144144],\n",
       "       [0.12371134, 0.25688073, 0.34234234],\n",
       "       [0.08247423, 0.08256881, 0.0990991 ],\n",
       "       [0.0257732 , 0.01834862, 0.01801802],\n",
       "       [0.00515464, 0.01834862, 0.02702703],\n",
       "       [0.18556701, 0.41284404, 0.5045045 ],\n",
       "       [0.21649485, 0.36697248, 0.45045045],\n",
       "       [0.1443299 , 0.1559633 , 0.18918919],\n",
       "       [0.18041237, 0.33944954, 0.45045045],\n",
       "       [0.18041237, 0.32110092, 0.3963964 ],\n",
       "       [0.19587629, 0.39449541, 0.5045045 ],\n",
       "       [0.06701031, 0.08256881, 0.11711712],\n",
       "       [0.1185567 , 0.11009174, 0.13513514],\n",
       "       [0.13402062, 0.12844037, 0.15315315],\n",
       "       [0.21134021, 0.25688073, 0.32432432],\n",
       "       [0.18556701, 0.39449541, 0.4954955 ],\n",
       "       [0.04123711, 0.08256881, 0.11711712],\n",
       "       [0.25773196, 0.55963303, 0.63963964],\n",
       "       [0.03608247, 0.0733945 , 0.08108108],\n",
       "       [0.20103093, 0.34862385, 0.45945946],\n",
       "       [0.75257732, 0.78899083, 0.79279279],\n",
       "       [0.1443299 , 0.21100917, 0.28828829],\n",
       "       [0.05154639, 0.05504587, 0.07207207],\n",
       "       [0.2371134 , 0.49541284, 0.57657658],\n",
       "       [0.09793814, 0.11009174, 0.12612613],\n",
       "       [0.12371134, 0.17431193, 0.22522523],\n",
       "       [0.29896907, 0.63302752, 0.72972973],\n",
       "       [0.        , 0.03669725, 0.04504505],\n",
       "       [0.09278351, 0.11926606, 0.15315315],\n",
       "       [0.15979381, 0.33944954, 0.44144144],\n",
       "       [0.13402062, 0.12844037, 0.18018018],\n",
       "       [0.07731959, 0.08256881, 0.10810811],\n",
       "       [0.25257732, 0.52293578, 0.6036036 ],\n",
       "       [1.        , 1.        , 1.        ],\n",
       "       [0.25257732, 0.47706422, 0.58558559],\n",
       "       [0.12371134, 0.10091743, 0.10810811],\n",
       "       [0.08247423, 0.09174312, 0.12612613],\n",
       "       [0.05154639, 0.06422018, 0.08108108],\n",
       "       [0.06185567, 0.04587156, 0.06306306],\n",
       "       [0.09793814, 0.06422018, 0.09009009],\n",
       "       [0.05154639, 0.0733945 , 0.0990991 ],\n",
       "       [0.01546392, 0.        , 0.        ],\n",
       "       [0.21134021, 0.44954128, 0.54954955],\n",
       "       [0.20618557, 0.33944954, 0.44144144],\n",
       "       [0.16494845, 0.28440367, 0.37837838],\n",
       "       [0.20618557, 0.44954128, 0.54054054],\n",
       "       [0.14948454, 0.16513761, 0.1981982 ],\n",
       "       [0.24226804, 0.49541284, 0.6036036 ],\n",
       "       [0.10824742, 0.12844037, 0.15315315],\n",
       "       [0.20618557, 0.43119266, 0.53153153],\n",
       "       [0.17010309, 0.22018349, 0.27027027],\n",
       "       [0.21649485, 0.37614679, 0.47747748],\n",
       "       [0.27835052, 0.55045872, 0.63063063],\n",
       "       [0.06701031, 0.05504587, 0.07207207],\n",
       "       [0.04639175, 0.08256881, 0.10810811],\n",
       "       [0.08247423, 0.06422018, 0.07207207],\n",
       "       [0.31958763, 0.6146789 , 0.71171171],\n",
       "       [0.20618557, 0.43119266, 0.53153153],\n",
       "       [0.10824742, 0.10091743, 0.12612613],\n",
       "       [0.10824742, 0.11009174, 0.13513514],\n",
       "       [0.27835052, 0.55045872, 0.63063063],\n",
       "       [0.08247423, 0.08256881, 0.10810811],\n",
       "       [0.21649485, 0.48623853, 0.56756757],\n",
       "       [0.08247423, 0.13761468, 0.17117117],\n",
       "       [0.24226804, 0.51376147, 0.62162162],\n",
       "       [0.03608247, 0.0733945 , 0.08108108],\n",
       "       [0.22164948, 0.35779817, 0.45045045]])"
      ]
     },
     "execution_count": 21,
     "metadata": {},
     "output_type": "execute_result"
    }
   ],
   "source": [
    "X_scaled_train"
   ]
  },
  {
   "cell_type": "code",
   "execution_count": 22,
   "metadata": {},
   "outputs": [
    {
     "data": {
      "text/plain": [
       "array([20, 28, 18, 53, 32,  6, 23, 25, 60, 29, 37, 72, 28, 48, 83, 56, 70,\n",
       "       81, 49, 66, 32, 47, 31, 16, 33, 52, 33, 11, 12, 58, 45, 18,  3,  2,\n",
       "       65, 62, 37, 59, 57, 65, 17, 30, 35, 51, 63, 13, 79,  8, 61, 85, 42,\n",
       "        8, 73, 25, 38, 83,  3, 28, 58, 36, 18, 78, 86, 74, 27, 21,  9,  8,\n",
       "       18, 12,  0, 69, 60, 51, 68, 39, 75, 31, 67, 44, 64, 80, 10, 13, 14,\n",
       "       83, 67, 26, 28, 80, 19, 71, 30, 77,  8, 62], dtype=int64)"
      ]
     },
     "execution_count": 22,
     "metadata": {},
     "output_type": "execute_result"
    }
   ],
   "source": [
    "encoded_y_train.ravel()"
   ]
  },
  {
   "cell_type": "markdown",
   "metadata": {},
   "source": [
    "# Train the Model"
   ]
  },
  {
   "cell_type": "code",
   "execution_count": 23,
   "metadata": {},
   "outputs": [
    {
     "data": {
      "text/plain": [
       "array([20, 28, 18, 53, 32,  6, 23, 25, 60, 29, 37, 72, 28, 48, 83, 56, 70,\n",
       "       81, 49, 66, 32, 47, 31, 16, 33, 52, 33, 11, 12, 58, 45, 18,  3,  2,\n",
       "       65, 62, 37, 59, 57, 65, 17, 30, 35, 51, 63, 13, 79,  8, 61, 85, 42,\n",
       "        8, 73, 25, 38, 83,  3, 28, 58, 36, 18, 78, 86, 74, 27, 21,  9,  8,\n",
       "       18, 12,  0, 69, 60, 51, 68, 39, 75, 31, 67, 44, 64, 80, 10, 13, 14,\n",
       "       83, 67, 26, 28, 80, 19, 71, 30, 77,  8, 62], dtype=int64)"
      ]
     },
     "execution_count": 23,
     "metadata": {},
     "output_type": "execute_result"
    }
   ],
   "source": [
    "encoded_y_train = encoded_y_train.ravel()\n",
    "encoded_y_train"
   ]
  },
  {
   "cell_type": "code",
   "execution_count": 24,
   "metadata": {},
   "outputs": [],
   "source": [
    "# random forest generator classifier\n",
    "from sklearn.ensemble import RandomForestClassifier"
   ]
  },
  {
   "cell_type": "code",
   "execution_count": 25,
   "metadata": {},
   "outputs": [
    {
     "data": {
      "text/plain": [
       "0.09375"
      ]
     },
     "execution_count": 25,
     "metadata": {},
     "output_type": "execute_result"
    }
   ],
   "source": [
    "rf = RandomForestClassifier()\n",
    "rf = rf.fit(X_scaled_train, encoded_y_train)\n",
    "rf.score(X_scaled_test, encoded_y_test)"
   ]
  },
  {
   "cell_type": "code",
   "execution_count": 26,
   "metadata": {},
   "outputs": [
    {
     "name": "stdout",
     "output_type": "stream",
     "text": [
      "Training Data Score: 1.0\n",
      "Testing Data Score: 0.09375\n"
     ]
    }
   ],
   "source": [
    "print(f\"Training Data Score: {rf.score(X_scaled_train, encoded_y_train)}\")\n",
    "print(f\"Testing Data Score: {rf.score(X_scaled_test, encoded_y_test)}\")"
   ]
  },
  {
   "cell_type": "code",
   "execution_count": 27,
   "metadata": {},
   "outputs": [
    {
     "data": {
      "text/plain": [
       "array([0.37039759, 0.3036469 , 0.32595552])"
      ]
     },
     "execution_count": 27,
     "metadata": {},
     "output_type": "execute_result"
    }
   ],
   "source": [
    "# Random Forests in sklearn will automatically calculate feature importance\n",
    "importances = rf.feature_importances_\n",
    "importances"
   ]
  },
  {
   "cell_type": "code",
   "execution_count": 28,
   "metadata": {},
   "outputs": [
    {
     "data": {
      "text/plain": [
       "[(0.37039758779932536, 'Cuy_Unpl'),\n",
       " (0.32595551655656024, 'Butler_Unpl'),\n",
       " (0.30364689564411446, 'Franklin_Unpl')]"
      ]
     },
     "execution_count": 28,
     "metadata": {},
     "output_type": "execute_result"
    }
   ],
   "source": [
    "# Sort the features by their importance\n",
    "sorted(zip(rf.feature_importances_, columns), reverse=True)"
   ]
  },
  {
   "cell_type": "code",
   "execution_count": 29,
   "metadata": {},
   "outputs": [
    {
     "data": {
      "text/plain": [
       "array([10.13, 10.13,  9.8 ,  9.27,  8.93,  9.33,  9.33,  8.97,  8.67,\n",
       "        8.47,  8.57,  8.17,  8.93,  8.73,  8.23,  7.77,  8.07,  8.9 ,\n",
       "        8.8 ,  8.3 ,  8.07,  7.67,  7.1 ,  7.1 ,  7.77,  7.73,  7.27,\n",
       "        6.57,  6.7 ,  7.4 ,  7.47,  6.9 ,  6.47,  6.37,  6.2 ,  6.63,\n",
       "        7.9 ,  7.6 ,  6.97,  6.37,  6.77,  7.6 ,  7.4 ,  7.  ,  6.83,\n",
       "        6.8 ,  6.27,  5.97,  6.77,  6.7 ,  6.1 ,  5.03,  5.4 ,  5.9 ,\n",
       "        6.  ,  5.57,  5.07,  4.8 ,  4.7 ,  4.57,  5.47,  5.2 ,  4.8 ,\n",
       "        4.4 ,  4.73,  5.03,  4.83,  4.27,  4.17,  4.13,  4.2 ,  4.2 ,\n",
       "        4.87,  4.93,  4.8 ,  4.43,  4.23,  5.  ,  4.87,  4.8 ,  4.83,\n",
       "        4.7 ,  4.4 ,  4.67,  5.5 ,  5.4 ,  4.77,  4.4 ,  4.5 ,  5.1 ,\n",
       "        5.03,  5.  ,  4.5 ,  4.17,  4.07,  4.  ,  4.53,  4.63,  4.3 ,\n",
       "        4.  ,  4.  ,  4.93,  4.57,  4.23,  3.97,  3.9 ,  3.7 ,  4.  ,\n",
       "        4.5 ,  4.1 ,  3.87,  3.3 ,  3.5 ,  4.23,  4.37,  4.  ,  3.7 ,\n",
       "        3.5 ,  3.37,  3.4 ,  4.4 ,  4.3 ,  5.2 , 17.  , 13.87, 11.87,\n",
       "       10.13,  9.6 ])"
      ]
     },
     "execution_count": 29,
     "metadata": {},
     "output_type": "execute_result"
    }
   ],
   "source": [
    "y"
   ]
  },
  {
   "cell_type": "code",
   "execution_count": 30,
   "metadata": {},
   "outputs": [
    {
     "data": {
      "text/html": [
       "<div>\n",
       "<style scoped>\n",
       "    .dataframe tbody tr th:only-of-type {\n",
       "        vertical-align: middle;\n",
       "    }\n",
       "\n",
       "    .dataframe tbody tr th {\n",
       "        vertical-align: top;\n",
       "    }\n",
       "\n",
       "    .dataframe thead th {\n",
       "        text-align: right;\n",
       "    }\n",
       "</style>\n",
       "<table border=\"1\" class=\"dataframe\">\n",
       "  <thead>\n",
       "    <tr style=\"text-align: right;\">\n",
       "      <th></th>\n",
       "      <th>index</th>\n",
       "      <th>Mean</th>\n",
       "    </tr>\n",
       "  </thead>\n",
       "  <tbody>\n",
       "    <tr>\n",
       "      <th>0</th>\n",
       "      <td>0</td>\n",
       "      <td>10.13</td>\n",
       "    </tr>\n",
       "    <tr>\n",
       "      <th>1</th>\n",
       "      <td>1</td>\n",
       "      <td>10.13</td>\n",
       "    </tr>\n",
       "    <tr>\n",
       "      <th>2</th>\n",
       "      <td>2</td>\n",
       "      <td>9.80</td>\n",
       "    </tr>\n",
       "    <tr>\n",
       "      <th>3</th>\n",
       "      <td>3</td>\n",
       "      <td>9.27</td>\n",
       "    </tr>\n",
       "    <tr>\n",
       "      <th>4</th>\n",
       "      <td>4</td>\n",
       "      <td>8.93</td>\n",
       "    </tr>\n",
       "    <tr>\n",
       "      <th>...</th>\n",
       "      <td>...</td>\n",
       "      <td>...</td>\n",
       "    </tr>\n",
       "    <tr>\n",
       "      <th>123</th>\n",
       "      <td>123</td>\n",
       "      <td>17.00</td>\n",
       "    </tr>\n",
       "    <tr>\n",
       "      <th>124</th>\n",
       "      <td>124</td>\n",
       "      <td>13.87</td>\n",
       "    </tr>\n",
       "    <tr>\n",
       "      <th>125</th>\n",
       "      <td>125</td>\n",
       "      <td>11.87</td>\n",
       "    </tr>\n",
       "    <tr>\n",
       "      <th>126</th>\n",
       "      <td>126</td>\n",
       "      <td>10.13</td>\n",
       "    </tr>\n",
       "    <tr>\n",
       "      <th>127</th>\n",
       "      <td>127</td>\n",
       "      <td>9.60</td>\n",
       "    </tr>\n",
       "  </tbody>\n",
       "</table>\n",
       "<p>128 rows × 2 columns</p>\n",
       "</div>"
      ],
      "text/plain": [
       "     index   Mean\n",
       "0        0  10.13\n",
       "1        1  10.13\n",
       "2        2   9.80\n",
       "3        3   9.27\n",
       "4        4   8.93\n",
       "..     ...    ...\n",
       "123    123  17.00\n",
       "124    124  13.87\n",
       "125    125  11.87\n",
       "126    126  10.13\n",
       "127    127   9.60\n",
       "\n",
       "[128 rows x 2 columns]"
      ]
     },
     "execution_count": 30,
     "metadata": {},
     "output_type": "execute_result"
    }
   ],
   "source": [
    "df_test = pd.DataFrame(y)\n",
    "df_test = df_test.rename(columns = {0: 'Mean'}).reset_index()\n",
    "df_test"
   ]
  },
  {
   "cell_type": "code",
   "execution_count": 31,
   "metadata": {},
   "outputs": [
    {
     "data": {
      "text/html": [
       "<div>\n",
       "<style scoped>\n",
       "    .dataframe tbody tr th:only-of-type {\n",
       "        vertical-align: middle;\n",
       "    }\n",
       "\n",
       "    .dataframe tbody tr th {\n",
       "        vertical-align: top;\n",
       "    }\n",
       "\n",
       "    .dataframe thead th {\n",
       "        text-align: right;\n",
       "    }\n",
       "</style>\n",
       "<table border=\"1\" class=\"dataframe\">\n",
       "  <thead>\n",
       "    <tr style=\"text-align: right;\">\n",
       "      <th></th>\n",
       "      <th>index</th>\n",
       "    </tr>\n",
       "    <tr>\n",
       "      <th>Mean</th>\n",
       "      <th></th>\n",
       "    </tr>\n",
       "  </thead>\n",
       "  <tbody>\n",
       "    <tr>\n",
       "      <th>3.30</th>\n",
       "      <td>1</td>\n",
       "    </tr>\n",
       "    <tr>\n",
       "      <th>3.37</th>\n",
       "      <td>1</td>\n",
       "    </tr>\n",
       "    <tr>\n",
       "      <th>3.40</th>\n",
       "      <td>1</td>\n",
       "    </tr>\n",
       "    <tr>\n",
       "      <th>3.50</th>\n",
       "      <td>2</td>\n",
       "    </tr>\n",
       "    <tr>\n",
       "      <th>3.70</th>\n",
       "      <td>2</td>\n",
       "    </tr>\n",
       "    <tr>\n",
       "      <th>...</th>\n",
       "      <td>...</td>\n",
       "    </tr>\n",
       "    <tr>\n",
       "      <th>9.80</th>\n",
       "      <td>1</td>\n",
       "    </tr>\n",
       "    <tr>\n",
       "      <th>10.13</th>\n",
       "      <td>3</td>\n",
       "    </tr>\n",
       "    <tr>\n",
       "      <th>11.87</th>\n",
       "      <td>1</td>\n",
       "    </tr>\n",
       "    <tr>\n",
       "      <th>13.87</th>\n",
       "      <td>1</td>\n",
       "    </tr>\n",
       "    <tr>\n",
       "      <th>17.00</th>\n",
       "      <td>1</td>\n",
       "    </tr>\n",
       "  </tbody>\n",
       "</table>\n",
       "<p>87 rows × 1 columns</p>\n",
       "</div>"
      ],
      "text/plain": [
       "       index\n",
       "Mean        \n",
       "3.30       1\n",
       "3.37       1\n",
       "3.40       1\n",
       "3.50       2\n",
       "3.70       2\n",
       "...      ...\n",
       "9.80       1\n",
       "10.13      3\n",
       "11.87      1\n",
       "13.87      1\n",
       "17.00      1\n",
       "\n",
       "[87 rows x 1 columns]"
      ]
     },
     "execution_count": 31,
     "metadata": {},
     "output_type": "execute_result"
    }
   ],
   "source": [
    "df_test_count = df_test.groupby(by = 'Mean').count()\n",
    "df_test_count"
   ]
  },
  {
   "cell_type": "code",
   "execution_count": 32,
   "metadata": {},
   "outputs": [
    {
     "data": {
      "text/html": [
       "<div>\n",
       "<style scoped>\n",
       "    .dataframe tbody tr th:only-of-type {\n",
       "        vertical-align: middle;\n",
       "    }\n",
       "\n",
       "    .dataframe tbody tr th {\n",
       "        vertical-align: top;\n",
       "    }\n",
       "\n",
       "    .dataframe thead th {\n",
       "        text-align: right;\n",
       "    }\n",
       "</style>\n",
       "<table border=\"1\" class=\"dataframe\">\n",
       "  <thead>\n",
       "    <tr style=\"text-align: right;\">\n",
       "      <th></th>\n",
       "      <th>index</th>\n",
       "    </tr>\n",
       "    <tr>\n",
       "      <th>Mean</th>\n",
       "      <th></th>\n",
       "    </tr>\n",
       "  </thead>\n",
       "  <tbody>\n",
       "    <tr>\n",
       "      <th>3.30</th>\n",
       "      <td>1</td>\n",
       "    </tr>\n",
       "    <tr>\n",
       "      <th>3.37</th>\n",
       "      <td>1</td>\n",
       "    </tr>\n",
       "    <tr>\n",
       "      <th>3.40</th>\n",
       "      <td>1</td>\n",
       "    </tr>\n",
       "    <tr>\n",
       "      <th>3.50</th>\n",
       "      <td>2</td>\n",
       "    </tr>\n",
       "    <tr>\n",
       "      <th>3.70</th>\n",
       "      <td>2</td>\n",
       "    </tr>\n",
       "    <tr>\n",
       "      <th>...</th>\n",
       "      <td>...</td>\n",
       "    </tr>\n",
       "    <tr>\n",
       "      <th>9.80</th>\n",
       "      <td>1</td>\n",
       "    </tr>\n",
       "    <tr>\n",
       "      <th>10.13</th>\n",
       "      <td>3</td>\n",
       "    </tr>\n",
       "    <tr>\n",
       "      <th>11.87</th>\n",
       "      <td>1</td>\n",
       "    </tr>\n",
       "    <tr>\n",
       "      <th>13.87</th>\n",
       "      <td>1</td>\n",
       "    </tr>\n",
       "    <tr>\n",
       "      <th>17.00</th>\n",
       "      <td>1</td>\n",
       "    </tr>\n",
       "  </tbody>\n",
       "</table>\n",
       "<p>87 rows × 1 columns</p>\n",
       "</div>"
      ],
      "text/plain": [
       "       index\n",
       "Mean        \n",
       "3.30       1\n",
       "3.37       1\n",
       "3.40       1\n",
       "3.50       2\n",
       "3.70       2\n",
       "...      ...\n",
       "9.80       1\n",
       "10.13      3\n",
       "11.87      1\n",
       "13.87      1\n",
       "17.00      1\n",
       "\n",
       "[87 rows x 1 columns]"
      ]
     },
     "execution_count": 32,
     "metadata": {},
     "output_type": "execute_result"
    }
   ],
   "source": [
    "df_test_count = df_test.groupby(by = 'Mean').count()\n",
    "df_test_count"
   ]
  },
  {
   "cell_type": "code",
   "execution_count": 33,
   "metadata": {},
   "outputs": [
    {
     "name": "stderr",
     "output_type": "stream",
     "text": [
      "C:\\Users\\sakon\\anaconda3.1\\lib\\site-packages\\ipykernel_launcher.py:3: UserWarning: Pandas doesn't allow columns to be created via a new attribute name - see https://pandas.pydata.org/pandas-docs/stable/indexing.html#attribute-access\n",
      "  This is separate from the ipykernel package so we can avoid doing imports until\n"
     ]
    },
    {
     "ename": "AttributeError",
     "evalue": "'numpy.ndarray' object has no attribute 'head'",
     "output_type": "error",
     "traceback": [
      "\u001b[1;31m---------------------------------------------------------------------------\u001b[0m",
      "\u001b[1;31mAttributeError\u001b[0m                            Traceback (most recent call last)",
      "\u001b[1;32m<ipython-input-33-54982552b699>\u001b[0m in \u001b[0;36m<module>\u001b[1;34m\u001b[0m\n\u001b[0;32m      3\u001b[0m \u001b[0mdf\u001b[0m\u001b[1;33m.\u001b[0m\u001b[0mMain\u001b[0m \u001b[1;33m=\u001b[0m \u001b[0mfactor\u001b[0m\u001b[1;33m[\u001b[0m\u001b[1;36m0\u001b[0m\u001b[1;33m]\u001b[0m\u001b[1;33m\u001b[0m\u001b[1;33m\u001b[0m\u001b[0m\n\u001b[0;32m      4\u001b[0m \u001b[0mdefinitions\u001b[0m \u001b[1;33m=\u001b[0m \u001b[0mfactor\u001b[0m\u001b[1;33m[\u001b[0m\u001b[1;36m1\u001b[0m\u001b[1;33m]\u001b[0m\u001b[1;33m\u001b[0m\u001b[1;33m\u001b[0m\u001b[0m\n\u001b[1;32m----> 5\u001b[1;33m \u001b[0mprint\u001b[0m\u001b[1;33m(\u001b[0m\u001b[0mdf\u001b[0m\u001b[1;33m.\u001b[0m\u001b[0mMain\u001b[0m\u001b[1;33m.\u001b[0m\u001b[0mhead\u001b[0m\u001b[1;33m(\u001b[0m\u001b[1;33m)\u001b[0m\u001b[1;33m)\u001b[0m\u001b[1;33m\u001b[0m\u001b[1;33m\u001b[0m\u001b[0m\n\u001b[0m\u001b[0;32m      6\u001b[0m \u001b[0mprint\u001b[0m\u001b[1;33m(\u001b[0m\u001b[0mdefinitions\u001b[0m\u001b[1;33m)\u001b[0m\u001b[1;33m\u001b[0m\u001b[1;33m\u001b[0m\u001b[0m\n",
      "\u001b[1;31mAttributeError\u001b[0m: 'numpy.ndarray' object has no attribute 'head'"
     ]
    }
   ],
   "source": [
    "#Creating the dependent variable class\n",
    "factor = pd.factorize(y)\n",
    "df.Main = factor[0]\n",
    "definitions = factor[1]\n",
    "print(df.Main.head())\n",
    "print(definitions)"
   ]
  },
  {
   "cell_type": "code",
   "execution_count": 42,
   "metadata": {},
   "outputs": [
    {
     "name": "stdout",
     "output_type": "stream",
     "text": [
      "Predicted result  9.27\n",
      "Actual result         \n",
      "9.8                  1\n"
     ]
    }
   ],
   "source": [
    "# Predicting the Test set results\n",
    "y_pred = rf.predict(X_scaled_test)\n",
    "\n",
    "#Reverse factorize (converting y_pred from 0s,1s and 2s to Iris-setosa, Iris-versicolor and Iris-virginica\n",
    "reversefactor = dict(zip(range(3),definitions))\n",
    "y_test = np.vectorize(reversefactor.get)(encoded_y_test).ravel()\n",
    "\n",
    "y_pred = np.vectorize(reversefactor.get)(y_pred)\n",
    "# Making the Confusion Matrix\n",
    "print(pd.crosstab(y_test, y_pred, rownames=['Actual result'], colnames=['Predicted result']))"
   ]
  },
  {
   "cell_type": "code",
   "execution_count": 43,
   "metadata": {},
   "outputs": [
    {
     "data": {
      "text/plain": [
       "array([10.13, 10.13,  9.8 ,  9.27,  8.93,  9.33,  9.33,  8.97,  8.67,\n",
       "        8.47,  8.57,  8.17,  8.93,  8.73,  8.23,  7.77,  8.07,  8.9 ,\n",
       "        8.8 ,  8.3 ,  8.07,  7.67,  7.1 ,  7.1 ,  7.77,  7.73,  7.27,\n",
       "        6.57,  6.7 ,  7.4 ,  7.47,  6.9 ,  6.47,  6.37,  6.2 ,  6.63,\n",
       "        7.9 ,  7.6 ,  6.97,  6.37,  6.77,  7.6 ,  7.4 ,  7.  ,  6.83,\n",
       "        6.8 ,  6.27,  5.97,  6.77,  6.7 ,  6.1 ,  5.03,  5.4 ,  5.9 ,\n",
       "        6.  ,  5.57,  5.07,  4.8 ,  4.7 ,  4.57,  5.47,  5.2 ,  4.8 ,\n",
       "        4.4 ,  4.73,  5.03,  4.83,  4.27,  4.17,  4.13,  4.2 ,  4.2 ,\n",
       "        4.87,  4.93,  4.8 ,  4.43,  4.23,  5.  ,  4.87,  4.8 ,  4.83,\n",
       "        4.7 ,  4.4 ,  4.67,  5.5 ,  5.4 ,  4.77,  4.4 ,  4.5 ,  5.1 ,\n",
       "        5.03,  5.  ,  4.5 ,  4.17,  4.07,  4.  ,  4.53,  4.63,  4.3 ,\n",
       "        4.  ,  4.  ,  4.93,  4.57,  4.23,  3.97,  3.9 ,  3.7 ,  4.  ,\n",
       "        4.5 ,  4.1 ,  3.87,  3.3 ,  3.5 ,  4.23,  4.37,  4.  ,  3.7 ,\n",
       "        3.5 ,  3.37,  3.4 ,  4.4 ,  4.3 ,  5.2 , 17.  , 13.87, 11.87,\n",
       "       10.13,  9.6 ])"
      ]
     },
     "execution_count": 43,
     "metadata": {},
     "output_type": "execute_result"
    }
   ],
   "source": [
    "y"
   ]
  },
  {
   "cell_type": "code",
   "execution_count": 44,
   "metadata": {},
   "outputs": [
    {
     "data": {
      "text/html": [
       "<div>\n",
       "<style scoped>\n",
       "    .dataframe tbody tr th:only-of-type {\n",
       "        vertical-align: middle;\n",
       "    }\n",
       "\n",
       "    .dataframe tbody tr th {\n",
       "        vertical-align: top;\n",
       "    }\n",
       "\n",
       "    .dataframe thead th {\n",
       "        text-align: right;\n",
       "    }\n",
       "</style>\n",
       "<table border=\"1\" class=\"dataframe\">\n",
       "  <thead>\n",
       "    <tr style=\"text-align: right;\">\n",
       "      <th></th>\n",
       "      <th>Cuy_Unpl</th>\n",
       "      <th>Franklin_Unpl</th>\n",
       "      <th>Butler_Unpl</th>\n",
       "    </tr>\n",
       "    <tr>\n",
       "      <th>Mean</th>\n",
       "      <th></th>\n",
       "      <th></th>\n",
       "      <th></th>\n",
       "    </tr>\n",
       "  </thead>\n",
       "  <tbody>\n",
       "    <tr>\n",
       "      <th>3.30</th>\n",
       "      <td>1</td>\n",
       "      <td>1</td>\n",
       "      <td>1</td>\n",
       "    </tr>\n",
       "    <tr>\n",
       "      <th>3.37</th>\n",
       "      <td>1</td>\n",
       "      <td>1</td>\n",
       "      <td>1</td>\n",
       "    </tr>\n",
       "    <tr>\n",
       "      <th>3.40</th>\n",
       "      <td>1</td>\n",
       "      <td>1</td>\n",
       "      <td>1</td>\n",
       "    </tr>\n",
       "    <tr>\n",
       "      <th>3.50</th>\n",
       "      <td>2</td>\n",
       "      <td>2</td>\n",
       "      <td>2</td>\n",
       "    </tr>\n",
       "    <tr>\n",
       "      <th>3.70</th>\n",
       "      <td>2</td>\n",
       "      <td>2</td>\n",
       "      <td>2</td>\n",
       "    </tr>\n",
       "    <tr>\n",
       "      <th>...</th>\n",
       "      <td>...</td>\n",
       "      <td>...</td>\n",
       "      <td>...</td>\n",
       "    </tr>\n",
       "    <tr>\n",
       "      <th>9.80</th>\n",
       "      <td>1</td>\n",
       "      <td>1</td>\n",
       "      <td>1</td>\n",
       "    </tr>\n",
       "    <tr>\n",
       "      <th>10.13</th>\n",
       "      <td>3</td>\n",
       "      <td>3</td>\n",
       "      <td>3</td>\n",
       "    </tr>\n",
       "    <tr>\n",
       "      <th>11.87</th>\n",
       "      <td>1</td>\n",
       "      <td>1</td>\n",
       "      <td>1</td>\n",
       "    </tr>\n",
       "    <tr>\n",
       "      <th>13.87</th>\n",
       "      <td>1</td>\n",
       "      <td>1</td>\n",
       "      <td>1</td>\n",
       "    </tr>\n",
       "    <tr>\n",
       "      <th>17.00</th>\n",
       "      <td>1</td>\n",
       "      <td>1</td>\n",
       "      <td>1</td>\n",
       "    </tr>\n",
       "  </tbody>\n",
       "</table>\n",
       "<p>87 rows × 3 columns</p>\n",
       "</div>"
      ],
      "text/plain": [
       "       Cuy_Unpl  Franklin_Unpl  Butler_Unpl\n",
       "Mean                                       \n",
       "3.30          1              1            1\n",
       "3.37          1              1            1\n",
       "3.40          1              1            1\n",
       "3.50          2              2            2\n",
       "3.70          2              2            2\n",
       "...         ...            ...          ...\n",
       "9.80          1              1            1\n",
       "10.13         3              3            3\n",
       "11.87         1              1            1\n",
       "13.87         1              1            1\n",
       "17.00         1              1            1\n",
       "\n",
       "[87 rows x 3 columns]"
      ]
     },
     "execution_count": 44,
     "metadata": {},
     "output_type": "execute_result"
    }
   ],
   "source": [
    "df.groupby(by = 'Mean').count()"
   ]
  },
  {
   "cell_type": "code",
   "execution_count": 45,
   "metadata": {},
   "outputs": [
    {
     "data": {
      "text/plain": [
       "{'n_estimators': [200, 400, 600, 800, 1000, 1200, 1400, 1600, 1800, 2000],\n",
       " 'min_impurity_decrease': [0, 1, 5, 10],\n",
       " 'max_features': ['auto', 'sqrt'],\n",
       " 'max_depth': [10, 20, 30, 40, 50, 60, 70, 80, 90, 100, 110, None],\n",
       " 'criterion': ['gini', 'entropy'],\n",
       " 'min_samples_split': [2, 5, 10],\n",
       " 'min_samples_leaf': [1, 2, 4],\n",
       " 'bootstrap': [True, False],\n",
       " 'oob_score': [True, False]}"
      ]
     },
     "execution_count": 45,
     "metadata": {},
     "output_type": "execute_result"
    }
   ],
   "source": [
    "# Create the RandomizedSearchCV model\n",
    "from sklearn.model_selection import RandomizedSearchCV# Number of trees in random forest\n",
    "n_estimators = [int(x) for x in np.linspace(start = 200, stop = 2000, num = 10)]\n",
    "# Number of features to consider at every split\n",
    "max_features = ['auto', 'sqrt']\n",
    "# Maximum number of levels in tree\n",
    "max_depth = [int(x) for x in np.linspace(10, 110, num = 11)]\n",
    "max_depth.append(None)\n",
    "# Minimum number of samples required to split a node\n",
    "min_samples_split = [2, 5, 10]\n",
    "#impurity decrease\n",
    "impurity_decrease = [0, 1, 5, 10]\n",
    "# Minimum number of samples required at each leaf node\n",
    "min_samples_leaf = [1, 2, 4]\n",
    "# Method of selecting samples for training each tree\n",
    "bootstrap = [True, False]# Create the random grid\n",
    "random_grid = {'n_estimators': n_estimators,\n",
    "               'min_impurity_decrease' : impurity_decrease,\n",
    "               'max_features': max_features,\n",
    "               'max_depth': max_depth,\n",
    "               'criterion': ['gini', 'entropy'],\n",
    "               'min_samples_split': min_samples_split,\n",
    "               'min_samples_leaf': min_samples_leaf,\n",
    "               'bootstrap': bootstrap,\n",
    "                'oob_score': [True, False]}\n",
    "random_grid"
   ]
  },
  {
   "cell_type": "code",
   "execution_count": 46,
   "metadata": {},
   "outputs": [],
   "source": [
    "rf_random = RandomizedSearchCV(estimator = rf, param_distributions = random_grid, cv = 3, verbose = 2, n_iter = 100, random_state=42, n_jobs = -1)"
   ]
  },
  {
   "cell_type": "code",
   "execution_count": null,
   "metadata": {},
   "outputs": [
    {
     "name": "stdout",
     "output_type": "stream",
     "text": [
      "Fitting 3 folds for each of 100 candidates, totalling 300 fits\n"
     ]
    },
    {
     "name": "stderr",
     "output_type": "stream",
     "text": [
      "C:\\Users\\sakon\\anaconda3.1\\lib\\site-packages\\sklearn\\model_selection\\_split.py:667: UserWarning: The least populated class in y has only 1 members, which is less than n_splits=3.\n",
      "  % (min_groups, self.n_splits)), UserWarning)\n",
      "[Parallel(n_jobs=-1)]: Using backend LokyBackend with 4 concurrent workers.\n",
      "[Parallel(n_jobs=-1)]: Done  33 tasks      | elapsed:   10.3s\n",
      "[Parallel(n_jobs=-1)]: Done 154 tasks      | elapsed:  1.6min\n"
     ]
    }
   ],
   "source": [
    "rf_random.fit(X_scaled_train, encoded_y_train)"
   ]
  },
  {
   "cell_type": "code",
   "execution_count": null,
   "metadata": {},
   "outputs": [],
   "source": [
    "rf_random.best_params_"
   ]
  },
  {
   "cell_type": "code",
   "execution_count": null,
   "metadata": {},
   "outputs": [],
   "source": [
    "rf_random.best_params_"
   ]
  },
  {
   "cell_type": "code",
   "execution_count": null,
   "metadata": {},
   "outputs": [],
   "source": [
    "rf_random.best_estimator_"
   ]
  },
  {
   "cell_type": "code",
   "execution_count": null,
   "metadata": {},
   "outputs": [],
   "source": [
    "rf_random.best_estimator_"
   ]
  },
  {
   "cell_type": "code",
   "execution_count": null,
   "metadata": {},
   "outputs": [],
   "source": [
    "rf_random.score(X_scaled_test, encoded_y_test)"
   ]
  },
  {
   "cell_type": "code",
   "execution_count": null,
   "metadata": {},
   "outputs": [],
   "source": [
    "rf_random.score(X_scaled_test, encoded_y_test)"
   ]
  },
  {
   "cell_type": "code",
   "execution_count": null,
   "metadata": {},
   "outputs": [],
   "source": [
    "# Train the model with GridSearch\n",
    "grid.fit(X_scaled_train, encoded_y_train.ravel())"
   ]
  },
  {
   "cell_type": "code",
   "execution_count": 55,
   "metadata": {},
   "outputs": [
    {
     "ename": "NameError",
     "evalue": "name 'grid' is not defined",
     "output_type": "error",
     "traceback": [
      "\u001b[1;31m---------------------------------------------------------------------------\u001b[0m",
      "\u001b[1;31mNameError\u001b[0m                                 Traceback (most recent call last)",
      "\u001b[1;32m<ipython-input-55-307f9b705697>\u001b[0m in \u001b[0;36m<module>\u001b[1;34m\u001b[0m\n\u001b[1;32m----> 1\u001b[1;33m \u001b[0mprint\u001b[0m\u001b[1;33m(\u001b[0m\u001b[0mgrid\u001b[0m\u001b[1;33m.\u001b[0m\u001b[0mbest_params_\u001b[0m\u001b[1;33m)\u001b[0m\u001b[1;33m\u001b[0m\u001b[1;33m\u001b[0m\u001b[0m\n\u001b[0m\u001b[0;32m      2\u001b[0m \u001b[0mprint\u001b[0m\u001b[1;33m(\u001b[0m\u001b[0mgrid\u001b[0m\u001b[1;33m.\u001b[0m\u001b[0mbest_score_\u001b[0m\u001b[1;33m)\u001b[0m\u001b[1;33m\u001b[0m\u001b[1;33m\u001b[0m\u001b[0m\n\u001b[0;32m      3\u001b[0m \u001b[0mprint\u001b[0m\u001b[1;33m(\u001b[0m\u001b[0mgrid\u001b[0m\u001b[1;33m.\u001b[0m\u001b[0mbest_index_\u001b[0m\u001b[1;33m)\u001b[0m\u001b[1;33m\u001b[0m\u001b[1;33m\u001b[0m\u001b[0m\n",
      "\u001b[1;31mNameError\u001b[0m: name 'grid' is not defined"
     ]
    }
   ],
   "source": [
    "print(grid.best_params_)\n",
    "print(grid.best_score_)\n",
    "print(grid.best_index_)"
   ]
  },
  {
   "cell_type": "code",
   "execution_count": 58,
   "metadata": {},
   "outputs": [],
   "source": [
    "def plot_coefficients(classifier, feature_names, top_features=15, class_num =1):\n",
    "\n",
    "    coef = classifier.coef_[class_num].ravel()\n",
    "    print(\"classifier.coef type\",type(classifier.coef_))\n",
    "    print(\"classifier.coef\", classifier.coef_)\n",
    "    print(\"type coef\",type(coef))\n",
    "    print(\"len(coeff)\", len(coef))\n",
    "    print(\"coef\",coef)\n",
    "    print(\"argsrt(coeff)\",np.argsort(coef))\n",
    "    top_positive_coefficients = np.argsort(coef)[-top_features:]\n",
    "    print(len(top_positive_coefficients))\n",
    "    print(type(top_positive_coefficients))\n",
    "    print(top_positive_coefficients)\n",
    "    top_negative_coefficients = np.argsort(coef)[:top_features]\n",
    "    print(top_negative_coefficients)\n",
    "    top_coefficients = np.hstack([top_negative_coefficients, top_positive_coefficients])\n",
    "    print(top_coefficients)\n",
    "    print(np.array(feature_names))\n",
    "    #print(np.array(feature_names)[top_coefficients])\n",
    "    #x_labels = np.array(feature_names)[top_coefficients]\n",
    "    \n",
    " # create plot\n",
    "    plt.figure(figsize=(15, 5))\n",
    "    colors = ['red' if c < 0 else 'blue' for c in coef[top_coefficients]]\n",
    "    print(\"coef[top_coefficients]\",coef[top_coefficients])\n",
    "    #print(feature_names[top_coefficients])\n",
    "    plt.bar(np.arange(2 * top_features), coef[top_coefficients], color=colors)\n",
    "    feature_names = np.array(feature_names)\n",
    "    print(\"feature names\",feature_names)\n",
    "    print(\"top coefficients\", top_coefficients)\n",
    "    print(\"feature_name_top\", feature_names[top_coefficients])\n",
    "    features = feature_names[top_coefficients]\n",
    "    plt.xticks(np.arange(1, 1 + 2 * top_features), features, rotation=60, ha='right')\n",
    "    plt.show()"
   ]
  },
  {
   "cell_type": "code",
   "execution_count": 59,
   "metadata": {},
   "outputs": [
    {
     "ename": "NameError",
     "evalue": "name 'model' is not defined",
     "output_type": "error",
     "traceback": [
      "\u001b[1;31m---------------------------------------------------------------------------\u001b[0m",
      "\u001b[1;31mNameError\u001b[0m                                 Traceback (most recent call last)",
      "\u001b[1;32m<ipython-input-59-bd3153152e63>\u001b[0m in \u001b[0;36m<module>\u001b[1;34m\u001b[0m\n\u001b[1;32m----> 1\u001b[1;33m \u001b[0mdf_coef_1\u001b[0m \u001b[1;33m=\u001b[0m \u001b[0mmodel\u001b[0m\u001b[1;33m.\u001b[0m\u001b[0mcoef_\u001b[0m\u001b[1;33m[\u001b[0m\u001b[1;36m0\u001b[0m\u001b[1;33m]\u001b[0m\u001b[1;33m\u001b[0m\u001b[1;33m\u001b[0m\u001b[0m\n\u001b[0m",
      "\u001b[1;31mNameError\u001b[0m: name 'model' is not defined"
     ]
    }
   ],
   "source": [
    "df_coef_1 = model.coef_[0]"
   ]
  },
  {
   "cell_type": "code",
   "execution_count": 62,
   "metadata": {},
   "outputs": [
    {
     "name": "stdout",
     "output_type": "stream",
     "text": [
      "3\n",
      "3\n",
      "['butler_unpl', 'cuy_unpl', 'franklin_unpl']\n"
     ]
    }
   ],
   "source": [
    "cv = CountVectorizer()\n",
    "cv.fit(selected_features)\n",
    "print (len(cv.vocabulary_))\n",
    "print(len(cv.get_feature_names()))\n",
    "print (cv.get_feature_names())"
   ]
  },
  {
   "cell_type": "code",
   "execution_count": 63,
   "metadata": {},
   "outputs": [
    {
     "ename": "NameError",
     "evalue": "name 'model' is not defined",
     "output_type": "error",
     "traceback": [
      "\u001b[1;31m---------------------------------------------------------------------------\u001b[0m",
      "\u001b[1;31mNameError\u001b[0m                                 Traceback (most recent call last)",
      "\u001b[1;32m<ipython-input-63-87895331ec49>\u001b[0m in \u001b[0;36m<module>\u001b[1;34m\u001b[0m\n\u001b[1;32m----> 1\u001b[1;33m \u001b[0mplot_coefficients\u001b[0m\u001b[1;33m(\u001b[0m\u001b[0mmodel\u001b[0m\u001b[1;33m,\u001b[0m \u001b[0mcv\u001b[0m\u001b[1;33m.\u001b[0m\u001b[0mget_feature_names\u001b[0m\u001b[1;33m(\u001b[0m\u001b[1;33m)\u001b[0m\u001b[1;33m,\u001b[0m \u001b[1;36m9\u001b[0m\u001b[1;33m,\u001b[0m\u001b[1;36m0\u001b[0m\u001b[1;33m)\u001b[0m\u001b[1;33m\u001b[0m\u001b[1;33m\u001b[0m\u001b[0m\n\u001b[0m",
      "\u001b[1;31mNameError\u001b[0m: name 'model' is not defined"
     ]
    }
   ],
   "source": [
    "plot_coefficients(model, cv.get_feature_names(), 9,0)"
   ]
  },
  {
   "cell_type": "code",
   "execution_count": 64,
   "metadata": {},
   "outputs": [
    {
     "ename": "NameError",
     "evalue": "name 'model' is not defined",
     "output_type": "error",
     "traceback": [
      "\u001b[1;31m---------------------------------------------------------------------------\u001b[0m",
      "\u001b[1;31mNameError\u001b[0m                                 Traceback (most recent call last)",
      "\u001b[1;32m<ipython-input-64-718773be82ed>\u001b[0m in \u001b[0;36m<module>\u001b[1;34m\u001b[0m\n\u001b[1;32m----> 1\u001b[1;33m \u001b[0mplot_coefficients\u001b[0m\u001b[1;33m(\u001b[0m\u001b[0mmodel\u001b[0m\u001b[1;33m,\u001b[0m \u001b[0mcv\u001b[0m\u001b[1;33m.\u001b[0m\u001b[0mget_feature_names\u001b[0m\u001b[1;33m(\u001b[0m\u001b[1;33m)\u001b[0m\u001b[1;33m,\u001b[0m \u001b[1;36m9\u001b[0m\u001b[1;33m,\u001b[0m \u001b[1;36m1\u001b[0m\u001b[1;33m)\u001b[0m\u001b[1;33m\u001b[0m\u001b[1;33m\u001b[0m\u001b[0m\n\u001b[0m",
      "\u001b[1;31mNameError\u001b[0m: name 'model' is not defined"
     ]
    }
   ],
   "source": [
    "plot_coefficients(model, cv.get_feature_names(), 9, 1)"
   ]
  },
  {
   "cell_type": "code",
   "execution_count": 65,
   "metadata": {},
   "outputs": [
    {
     "ename": "NameError",
     "evalue": "name 'model' is not defined",
     "output_type": "error",
     "traceback": [
      "\u001b[1;31m---------------------------------------------------------------------------\u001b[0m",
      "\u001b[1;31mNameError\u001b[0m                                 Traceback (most recent call last)",
      "\u001b[1;32m<ipython-input-65-6ae583981fbe>\u001b[0m in \u001b[0;36m<module>\u001b[1;34m\u001b[0m\n\u001b[1;32m----> 1\u001b[1;33m \u001b[0mplot_coefficients\u001b[0m\u001b[1;33m(\u001b[0m\u001b[0mmodel\u001b[0m\u001b[1;33m,\u001b[0m \u001b[0mcv\u001b[0m\u001b[1;33m.\u001b[0m\u001b[0mget_feature_names\u001b[0m\u001b[1;33m(\u001b[0m\u001b[1;33m)\u001b[0m\u001b[1;33m,\u001b[0m \u001b[1;36m9\u001b[0m\u001b[1;33m,\u001b[0m \u001b[1;36m2\u001b[0m\u001b[1;33m)\u001b[0m\u001b[1;33m\u001b[0m\u001b[1;33m\u001b[0m\u001b[0m\n\u001b[0m",
      "\u001b[1;31mNameError\u001b[0m: name 'model' is not defined"
     ]
    }
   ],
   "source": [
    "\n",
    "plot_coefficients(model, cv.get_feature_names(), 9, 2)"
   ]
  },
  {
   "cell_type": "code",
   "execution_count": 66,
   "metadata": {},
   "outputs": [],
   "source": [
    "def f_importances(coef, names):\n",
    "    imp = coef\n",
    "    print(imp)\n",
    "    print(names)\n",
    "    imp,names = zip(*sorted(zip(imp,names)))\n",
    "    plt.barh(range(len(names)), imp, align='center')\n",
    "    plt.yticks(range(len(names)), names)\n",
    "    plt.show()"
   ]
  },
  {
   "cell_type": "code",
   "execution_count": 67,
   "metadata": {},
   "outputs": [
    {
     "ename": "NameError",
     "evalue": "name 'model' is not defined",
     "output_type": "error",
     "traceback": [
      "\u001b[1;31m---------------------------------------------------------------------------\u001b[0m",
      "\u001b[1;31mNameError\u001b[0m                                 Traceback (most recent call last)",
      "\u001b[1;32m<ipython-input-67-23205660034a>\u001b[0m in \u001b[0;36m<module>\u001b[1;34m\u001b[0m\n\u001b[1;32m----> 1\u001b[1;33m \u001b[0mdf_coef_0\u001b[0m \u001b[1;33m=\u001b[0m \u001b[0mpd\u001b[0m\u001b[1;33m.\u001b[0m\u001b[0mDataFrame\u001b[0m\u001b[1;33m(\u001b[0m\u001b[1;33m{\u001b[0m\u001b[1;34m'coef'\u001b[0m \u001b[1;33m:\u001b[0m \u001b[0mmodel\u001b[0m\u001b[1;33m.\u001b[0m\u001b[0mcoef_\u001b[0m\u001b[1;33m[\u001b[0m\u001b[1;36m0\u001b[0m\u001b[1;33m]\u001b[0m\u001b[1;33m,\u001b[0m\u001b[1;34m'abs(coef_)'\u001b[0m\u001b[1;33m:\u001b[0m \u001b[0mabs\u001b[0m\u001b[1;33m(\u001b[0m\u001b[0mmodel\u001b[0m\u001b[1;33m.\u001b[0m\u001b[0mcoef_\u001b[0m\u001b[1;33m[\u001b[0m\u001b[1;36m0\u001b[0m\u001b[1;33m]\u001b[0m\u001b[1;33m)\u001b[0m\u001b[1;33m,\u001b[0m \u001b[1;34m'name'\u001b[0m\u001b[1;33m:\u001b[0m \u001b[0mcolumns\u001b[0m\u001b[1;33m}\u001b[0m\u001b[1;33m)\u001b[0m\u001b[1;33m\u001b[0m\u001b[1;33m\u001b[0m\u001b[0m\n\u001b[0m\u001b[0;32m      2\u001b[0m \u001b[0mdf_coef_0\u001b[0m\u001b[1;33m=\u001b[0m\u001b[0mdf_coef_0\u001b[0m\u001b[1;33m.\u001b[0m\u001b[0msort_values\u001b[0m\u001b[1;33m(\u001b[0m\u001b[1;34m'abs(coef_)'\u001b[0m\u001b[1;33m,\u001b[0m \u001b[0mascending\u001b[0m \u001b[1;33m=\u001b[0m \u001b[1;32mFalse\u001b[0m\u001b[1;33m)\u001b[0m\u001b[1;33m[\u001b[0m\u001b[1;33m-\u001b[0m\u001b[1;36m1\u001b[0m\u001b[1;33m:\u001b[0m\u001b[1;33m]\u001b[0m\u001b[1;33m.\u001b[0m\u001b[0mreset_index\u001b[0m\u001b[1;33m(\u001b[0m\u001b[1;33m)\u001b[0m\u001b[1;33m\u001b[0m\u001b[1;33m\u001b[0m\u001b[0m\n\u001b[0;32m      3\u001b[0m \u001b[0mdf_coef_0\u001b[0m\u001b[1;33m\u001b[0m\u001b[1;33m\u001b[0m\u001b[0m\n",
      "\u001b[1;31mNameError\u001b[0m: name 'model' is not defined"
     ]
    }
   ],
   "source": [
    "df_coef_0 = pd.DataFrame({'coef' : model.coef_[0],'abs(coef_)': abs(model.coef_[0]), 'name': columns})\n",
    "df_coef_0=df_coef_0.sort_values('abs(coef_)', ascending = False)[-1:].reset_index()\n",
    "df_coef_0"
   ]
  },
  {
   "cell_type": "code",
   "execution_count": 68,
   "metadata": {},
   "outputs": [
    {
     "ename": "NameError",
     "evalue": "name 'df_coef_0' is not defined",
     "output_type": "error",
     "traceback": [
      "\u001b[1;31m---------------------------------------------------------------------------\u001b[0m",
      "\u001b[1;31mNameError\u001b[0m                                 Traceback (most recent call last)",
      "\u001b[1;32m<ipython-input-68-604108a0ec95>\u001b[0m in \u001b[0;36m<module>\u001b[1;34m\u001b[0m\n\u001b[1;32m----> 1\u001b[1;33m \u001b[0mtype\u001b[0m\u001b[1;33m(\u001b[0m\u001b[0mdf_coef_0\u001b[0m\u001b[1;33m[\u001b[0m\u001b[1;34m'name'\u001b[0m\u001b[1;33m]\u001b[0m\u001b[1;33m)\u001b[0m\u001b[1;33m\u001b[0m\u001b[1;33m\u001b[0m\u001b[0m\n\u001b[0m",
      "\u001b[1;31mNameError\u001b[0m: name 'df_coef_0' is not defined"
     ]
    }
   ],
   "source": [
    "type(df_coef_0['name'])"
   ]
  },
  {
   "cell_type": "code",
   "execution_count": 69,
   "metadata": {},
   "outputs": [
    {
     "ename": "NameError",
     "evalue": "name 'model' is not defined",
     "output_type": "error",
     "traceback": [
      "\u001b[1;31m---------------------------------------------------------------------------\u001b[0m",
      "\u001b[1;31mNameError\u001b[0m                                 Traceback (most recent call last)",
      "\u001b[1;32m<ipython-input-69-7fae5e7b39f8>\u001b[0m in \u001b[0;36m<module>\u001b[1;34m\u001b[0m\n\u001b[1;32m----> 1\u001b[1;33m \u001b[0mdf_coef_1\u001b[0m \u001b[1;33m=\u001b[0m \u001b[0mpd\u001b[0m\u001b[1;33m.\u001b[0m\u001b[0mDataFrame\u001b[0m\u001b[1;33m(\u001b[0m\u001b[1;33m{\u001b[0m\u001b[1;34m'coef'\u001b[0m \u001b[1;33m:\u001b[0m \u001b[0mmodel\u001b[0m\u001b[1;33m.\u001b[0m\u001b[0mcoef_\u001b[0m\u001b[1;33m[\u001b[0m\u001b[1;36m1\u001b[0m\u001b[1;33m]\u001b[0m\u001b[1;33m,\u001b[0m\u001b[1;34m'abs(coef_)'\u001b[0m\u001b[1;33m:\u001b[0m \u001b[0mabs\u001b[0m\u001b[1;33m(\u001b[0m\u001b[0mmodel\u001b[0m\u001b[1;33m.\u001b[0m\u001b[0mcoef_\u001b[0m\u001b[1;33m[\u001b[0m\u001b[1;36m1\u001b[0m\u001b[1;33m]\u001b[0m\u001b[1;33m)\u001b[0m\u001b[1;33m,\u001b[0m \u001b[1;34m'name'\u001b[0m\u001b[1;33m:\u001b[0m \u001b[0mcolumns\u001b[0m\u001b[1;33m}\u001b[0m\u001b[1;33m)\u001b[0m\u001b[1;33m\u001b[0m\u001b[1;33m\u001b[0m\u001b[0m\n\u001b[0m\u001b[0;32m      2\u001b[0m \u001b[0mdf_coef_1\u001b[0m\u001b[1;33m=\u001b[0m\u001b[0mdf_coef_1\u001b[0m\u001b[1;33m.\u001b[0m\u001b[0msort_values\u001b[0m\u001b[1;33m(\u001b[0m\u001b[1;34m'abs(coef_)'\u001b[0m\u001b[1;33m,\u001b[0m \u001b[0mascending\u001b[0m \u001b[1;33m=\u001b[0m \u001b[1;32mFalse\u001b[0m\u001b[1;33m)\u001b[0m\u001b[1;33m[\u001b[0m\u001b[1;33m-\u001b[0m\u001b[1;36m15\u001b[0m\u001b[1;33m:\u001b[0m\u001b[1;33m]\u001b[0m\u001b[1;33m.\u001b[0m\u001b[0mreset_index\u001b[0m\u001b[1;33m(\u001b[0m\u001b[1;33m)\u001b[0m\u001b[1;33m\u001b[0m\u001b[1;33m\u001b[0m\u001b[0m\n\u001b[0;32m      3\u001b[0m \u001b[0mdf_coef_1\u001b[0m\u001b[1;33m\u001b[0m\u001b[1;33m\u001b[0m\u001b[0m\n",
      "\u001b[1;31mNameError\u001b[0m: name 'model' is not defined"
     ]
    }
   ],
   "source": [
    "df_coef_1 = pd.DataFrame({'coef' : model.coef_[1],'abs(coef_)': abs(model.coef_[1]), 'name': columns})\n",
    "df_coef_1=df_coef_1.sort_values('abs(coef_)', ascending = False)[-15:].reset_index()\n",
    "df_coef_1"
   ]
  },
  {
   "cell_type": "code",
   "execution_count": 70,
   "metadata": {},
   "outputs": [
    {
     "ename": "NameError",
     "evalue": "name 'model' is not defined",
     "output_type": "error",
     "traceback": [
      "\u001b[1;31m---------------------------------------------------------------------------\u001b[0m",
      "\u001b[1;31mNameError\u001b[0m                                 Traceback (most recent call last)",
      "\u001b[1;32m<ipython-input-70-a01ea82e3439>\u001b[0m in \u001b[0;36m<module>\u001b[1;34m\u001b[0m\n\u001b[1;32m----> 1\u001b[1;33m \u001b[0mdf_coef_2\u001b[0m \u001b[1;33m=\u001b[0m \u001b[0mpd\u001b[0m\u001b[1;33m.\u001b[0m\u001b[0mDataFrame\u001b[0m\u001b[1;33m(\u001b[0m\u001b[1;33m{\u001b[0m\u001b[1;34m'coef'\u001b[0m \u001b[1;33m:\u001b[0m \u001b[0mmodel\u001b[0m\u001b[1;33m.\u001b[0m\u001b[0mcoef_\u001b[0m\u001b[1;33m[\u001b[0m\u001b[1;36m2\u001b[0m\u001b[1;33m]\u001b[0m\u001b[1;33m,\u001b[0m\u001b[1;34m'abs(coef_)'\u001b[0m\u001b[1;33m:\u001b[0m \u001b[0mabs\u001b[0m\u001b[1;33m(\u001b[0m\u001b[0mmodel\u001b[0m\u001b[1;33m.\u001b[0m\u001b[0mcoef_\u001b[0m\u001b[1;33m[\u001b[0m\u001b[1;36m2\u001b[0m\u001b[1;33m]\u001b[0m\u001b[1;33m)\u001b[0m\u001b[1;33m,\u001b[0m \u001b[1;34m'name'\u001b[0m\u001b[1;33m:\u001b[0m \u001b[0mcolumns\u001b[0m\u001b[1;33m}\u001b[0m\u001b[1;33m)\u001b[0m\u001b[1;33m\u001b[0m\u001b[1;33m\u001b[0m\u001b[0m\n\u001b[0m\u001b[0;32m      2\u001b[0m \u001b[0mdf_coef_2\u001b[0m\u001b[1;33m=\u001b[0m\u001b[0mdf_coef_2\u001b[0m\u001b[1;33m.\u001b[0m\u001b[0msort_values\u001b[0m\u001b[1;33m(\u001b[0m\u001b[1;34m'abs(coef_)'\u001b[0m\u001b[1;33m,\u001b[0m \u001b[0mascending\u001b[0m \u001b[1;33m=\u001b[0m \u001b[1;32mFalse\u001b[0m\u001b[1;33m)\u001b[0m\u001b[1;33m[\u001b[0m\u001b[1;33m-\u001b[0m\u001b[1;36m15\u001b[0m\u001b[1;33m:\u001b[0m\u001b[1;33m]\u001b[0m\u001b[1;33m.\u001b[0m\u001b[0mreset_index\u001b[0m\u001b[1;33m(\u001b[0m\u001b[1;33m)\u001b[0m\u001b[1;33m\u001b[0m\u001b[1;33m\u001b[0m\u001b[0m\n\u001b[0;32m      3\u001b[0m \u001b[0mdf_coef_2\u001b[0m\u001b[1;33m\u001b[0m\u001b[1;33m\u001b[0m\u001b[0m\n",
      "\u001b[1;31mNameError\u001b[0m: name 'model' is not defined"
     ]
    }
   ],
   "source": [
    "df_coef_2 = pd.DataFrame({'coef' : model.coef_[2],'abs(coef_)': abs(model.coef_[2]), 'name': columns})\n",
    "df_coef_2=df_coef_2.sort_values('abs(coef_)', ascending = False)[-15:].reset_index()\n",
    "df_coef_2"
   ]
  },
  {
   "cell_type": "code",
   "execution_count": 71,
   "metadata": {},
   "outputs": [
    {
     "ename": "NameError",
     "evalue": "name 'df_coef_0' is not defined",
     "output_type": "error",
     "traceback": [
      "\u001b[1;31m---------------------------------------------------------------------------\u001b[0m",
      "\u001b[1;31mNameError\u001b[0m                                 Traceback (most recent call last)",
      "\u001b[1;32m<ipython-input-71-0c457a086141>\u001b[0m in \u001b[0;36m<module>\u001b[1;34m\u001b[0m\n\u001b[0;32m      1\u001b[0m \u001b[1;31m#out of the bottom 20 coefficients in each of the 3 classes these below are the ones common to all three.\u001b[0m\u001b[1;33m\u001b[0m\u001b[1;33m\u001b[0m\u001b[1;33m\u001b[0m\u001b[0m\n\u001b[1;32m----> 2\u001b[1;33m \u001b[0mdf_least_important\u001b[0m \u001b[1;33m=\u001b[0m \u001b[0mdf_coef_0\u001b[0m\u001b[1;33m.\u001b[0m\u001b[0mmerge\u001b[0m\u001b[1;33m(\u001b[0m\u001b[0mdf_coef_1\u001b[0m\u001b[1;33m,\u001b[0m \u001b[0mon\u001b[0m \u001b[1;33m=\u001b[0m \u001b[1;34m'name'\u001b[0m\u001b[1;33m,\u001b[0m \u001b[0mhow\u001b[0m \u001b[1;33m=\u001b[0m \u001b[1;34m'inner'\u001b[0m\u001b[1;33m)\u001b[0m\u001b[1;33m.\u001b[0m\u001b[0mmerge\u001b[0m\u001b[1;33m(\u001b[0m\u001b[0mdf_coef_2\u001b[0m\u001b[1;33m,\u001b[0m \u001b[0mon\u001b[0m \u001b[1;33m=\u001b[0m \u001b[1;34m'name'\u001b[0m\u001b[1;33m,\u001b[0m \u001b[0mhow\u001b[0m \u001b[1;33m=\u001b[0m \u001b[1;34m'inner'\u001b[0m\u001b[1;33m)\u001b[0m\u001b[1;33m\u001b[0m\u001b[1;33m\u001b[0m\u001b[0m\n\u001b[0m",
      "\u001b[1;31mNameError\u001b[0m: name 'df_coef_0' is not defined"
     ]
    }
   ],
   "source": [
    "#out of the bottom 20 coefficients in each of the 3 classes these below are the ones common to all three.\n",
    "df_least_important = df_coef_0.merge(df_coef_1, on = 'name', how = 'inner').merge(df_coef_2, on = 'name', how = 'inner')"
   ]
  },
  {
   "cell_type": "code",
   "execution_count": 72,
   "metadata": {},
   "outputs": [
    {
     "ename": "NameError",
     "evalue": "name 'df_least_important' is not defined",
     "output_type": "error",
     "traceback": [
      "\u001b[1;31m---------------------------------------------------------------------------\u001b[0m",
      "\u001b[1;31mNameError\u001b[0m                                 Traceback (most recent call last)",
      "\u001b[1;32m<ipython-input-72-c0d79490e88d>\u001b[0m in \u001b[0;36m<module>\u001b[1;34m\u001b[0m\n\u001b[1;32m----> 1\u001b[1;33m \u001b[0mleast_important_list\u001b[0m \u001b[1;33m=\u001b[0m \u001b[0mdf_least_important\u001b[0m\u001b[1;33m[\u001b[0m\u001b[1;34m'name'\u001b[0m\u001b[1;33m]\u001b[0m\u001b[1;33m.\u001b[0m\u001b[0mto_list\u001b[0m\u001b[1;33m(\u001b[0m\u001b[1;33m)\u001b[0m\u001b[1;33m\u001b[0m\u001b[1;33m\u001b[0m\u001b[0m\n\u001b[0m\u001b[0;32m      2\u001b[0m \u001b[0mleast_important_list\u001b[0m\u001b[1;33m\u001b[0m\u001b[1;33m\u001b[0m\u001b[0m\n",
      "\u001b[1;31mNameError\u001b[0m: name 'df_least_important' is not defined"
     ]
    }
   ],
   "source": [
    "least_important_list = df_least_important['name'].to_list()\n",
    "least_important_list"
   ]
  },
  {
   "cell_type": "code",
   "execution_count": 73,
   "metadata": {},
   "outputs": [
    {
     "ename": "NameError",
     "evalue": "name 'model' is not defined",
     "output_type": "error",
     "traceback": [
      "\u001b[1;31m---------------------------------------------------------------------------\u001b[0m",
      "\u001b[1;31mNameError\u001b[0m                                 Traceback (most recent call last)",
      "\u001b[1;32m<ipython-input-73-af1230d5c6cb>\u001b[0m in \u001b[0;36m<module>\u001b[1;34m\u001b[0m\n\u001b[1;32m----> 1\u001b[1;33m \u001b[0mf_importances\u001b[0m\u001b[1;33m(\u001b[0m\u001b[0mmodel\u001b[0m\u001b[1;33m.\u001b[0m\u001b[0mcoef_\u001b[0m\u001b[1;33m[\u001b[0m\u001b[1;36m0\u001b[0m\u001b[1;33m]\u001b[0m\u001b[1;33m,\u001b[0m \u001b[0mcolumns\u001b[0m\u001b[1;33m)\u001b[0m\u001b[1;33m\u001b[0m\u001b[1;33m\u001b[0m\u001b[0m\n\u001b[0m",
      "\u001b[1;31mNameError\u001b[0m: name 'model' is not defined"
     ]
    }
   ],
   "source": [
    "f_importances(model.coef_[0], columns)\n"
   ]
  },
  {
   "cell_type": "code",
   "execution_count": 74,
   "metadata": {},
   "outputs": [
    {
     "data": {
      "text/plain": [
       "3"
      ]
     },
     "execution_count": 74,
     "metadata": {},
     "output_type": "execute_result"
    }
   ],
   "source": [
    "len(columns)"
   ]
  },
  {
   "cell_type": "code",
   "execution_count": 75,
   "metadata": {},
   "outputs": [
    {
     "ename": "NameError",
     "evalue": "name 'model' is not defined",
     "output_type": "error",
     "traceback": [
      "\u001b[1;31m---------------------------------------------------------------------------\u001b[0m",
      "\u001b[1;31mNameError\u001b[0m                                 Traceback (most recent call last)",
      "\u001b[1;32m<ipython-input-75-fa6f69db71d4>\u001b[0m in \u001b[0;36m<module>\u001b[1;34m\u001b[0m\n\u001b[1;32m----> 1\u001b[1;33m \u001b[0mpd\u001b[0m\u001b[1;33m.\u001b[0m\u001b[0mSeries\u001b[0m\u001b[1;33m(\u001b[0m\u001b[0mabs\u001b[0m\u001b[1;33m(\u001b[0m\u001b[0mmodel\u001b[0m\u001b[1;33m.\u001b[0m\u001b[0mcoef_\u001b[0m\u001b[1;33m[\u001b[0m\u001b[1;36m0\u001b[0m\u001b[1;33m]\u001b[0m\u001b[1;33m)\u001b[0m\u001b[1;33m,\u001b[0m \u001b[0mindex\u001b[0m\u001b[1;33m=\u001b[0m\u001b[0mcolumns\u001b[0m\u001b[1;33m)\u001b[0m\u001b[1;33m.\u001b[0m\u001b[0mnlargest\u001b[0m\u001b[1;33m(\u001b[0m\u001b[1;36m20\u001b[0m\u001b[1;33m)\u001b[0m\u001b[1;33m.\u001b[0m\u001b[0mplot\u001b[0m\u001b[1;33m(\u001b[0m\u001b[0mkind\u001b[0m\u001b[1;33m=\u001b[0m\u001b[1;34m'barh'\u001b[0m\u001b[1;33m)\u001b[0m\u001b[1;33m\u001b[0m\u001b[1;33m\u001b[0m\u001b[0m\n\u001b[0m",
      "\u001b[1;31mNameError\u001b[0m: name 'model' is not defined"
     ]
    }
   ],
   "source": [
    "pd.Series(abs(model.coef_[0]), index=columns).nlargest(20).plot(kind='barh')"
   ]
  },
  {
   "cell_type": "code",
   "execution_count": 76,
   "metadata": {},
   "outputs": [
    {
     "ename": "NameError",
     "evalue": "name 'model' is not defined",
     "output_type": "error",
     "traceback": [
      "\u001b[1;31m---------------------------------------------------------------------------\u001b[0m",
      "\u001b[1;31mNameError\u001b[0m                                 Traceback (most recent call last)",
      "\u001b[1;32m<ipython-input-76-3e09a139a776>\u001b[0m in \u001b[0;36m<module>\u001b[1;34m\u001b[0m\n\u001b[1;32m----> 1\u001b[1;33m \u001b[0mpd\u001b[0m\u001b[1;33m.\u001b[0m\u001b[0mSeries\u001b[0m\u001b[1;33m(\u001b[0m\u001b[0mabs\u001b[0m\u001b[1;33m(\u001b[0m\u001b[0mmodel\u001b[0m\u001b[1;33m.\u001b[0m\u001b[0mcoef_\u001b[0m\u001b[1;33m[\u001b[0m\u001b[1;36m1\u001b[0m\u001b[1;33m]\u001b[0m\u001b[1;33m)\u001b[0m\u001b[1;33m,\u001b[0m \u001b[0mindex\u001b[0m\u001b[1;33m=\u001b[0m\u001b[0mcolumns\u001b[0m\u001b[1;33m)\u001b[0m\u001b[1;33m.\u001b[0m\u001b[0mnlargest\u001b[0m\u001b[1;33m(\u001b[0m\u001b[1;36m20\u001b[0m\u001b[1;33m)\u001b[0m\u001b[1;33m.\u001b[0m\u001b[0mplot\u001b[0m\u001b[1;33m(\u001b[0m\u001b[0mkind\u001b[0m\u001b[1;33m=\u001b[0m\u001b[1;34m'barh'\u001b[0m\u001b[1;33m)\u001b[0m\u001b[1;33m\u001b[0m\u001b[1;33m\u001b[0m\u001b[0m\n\u001b[0m",
      "\u001b[1;31mNameError\u001b[0m: name 'model' is not defined"
     ]
    }
   ],
   "source": [
    "pd.Series(abs(model.coef_[1]), index=columns).nlargest(20).plot(kind='barh')"
   ]
  },
  {
   "cell_type": "code",
   "execution_count": 77,
   "metadata": {},
   "outputs": [
    {
     "ename": "NameError",
     "evalue": "name 'model' is not defined",
     "output_type": "error",
     "traceback": [
      "\u001b[1;31m---------------------------------------------------------------------------\u001b[0m",
      "\u001b[1;31mNameError\u001b[0m                                 Traceback (most recent call last)",
      "\u001b[1;32m<ipython-input-77-c314e7fcc30c>\u001b[0m in \u001b[0;36m<module>\u001b[1;34m\u001b[0m\n\u001b[1;32m----> 1\u001b[1;33m \u001b[0mpd\u001b[0m\u001b[1;33m.\u001b[0m\u001b[0mSeries\u001b[0m\u001b[1;33m(\u001b[0m\u001b[0mabs\u001b[0m\u001b[1;33m(\u001b[0m\u001b[0mmodel\u001b[0m\u001b[1;33m.\u001b[0m\u001b[0mcoef_\u001b[0m\u001b[1;33m[\u001b[0m\u001b[1;36m2\u001b[0m\u001b[1;33m]\u001b[0m\u001b[1;33m)\u001b[0m\u001b[1;33m,\u001b[0m \u001b[0mindex\u001b[0m\u001b[1;33m=\u001b[0m\u001b[0mcolumns\u001b[0m\u001b[1;33m)\u001b[0m\u001b[1;33m.\u001b[0m\u001b[0mnlargest\u001b[0m\u001b[1;33m(\u001b[0m\u001b[1;36m20\u001b[0m\u001b[1;33m)\u001b[0m\u001b[1;33m.\u001b[0m\u001b[0mplot\u001b[0m\u001b[1;33m(\u001b[0m\u001b[0mkind\u001b[0m\u001b[1;33m=\u001b[0m\u001b[1;34m'barh'\u001b[0m\u001b[1;33m)\u001b[0m\u001b[1;33m\u001b[0m\u001b[1;33m\u001b[0m\u001b[0m\n\u001b[0m",
      "\u001b[1;31mNameError\u001b[0m: name 'model' is not defined"
     ]
    }
   ],
   "source": [
    "pd.Series(abs(model.coef_[2]), index=columns).nlargest(20).plot(kind='barh')"
   ]
  },
  {
   "cell_type": "code",
   "execution_count": 78,
   "metadata": {},
   "outputs": [
    {
     "ename": "NameError",
     "evalue": "name 'lsvc' is not defined",
     "output_type": "error",
     "traceback": [
      "\u001b[1;31m---------------------------------------------------------------------------\u001b[0m",
      "\u001b[1;31mNameError\u001b[0m                                 Traceback (most recent call last)",
      "\u001b[1;32m<ipython-input-78-29282c3c5b8e>\u001b[0m in \u001b[0;36m<module>\u001b[1;34m\u001b[0m\n\u001b[0;32m      1\u001b[0m \u001b[1;32mfrom\u001b[0m \u001b[0msklearn\u001b[0m\u001b[1;33m.\u001b[0m\u001b[0mfeature_selection\u001b[0m \u001b[1;32mimport\u001b[0m \u001b[0mSelectFromModel\u001b[0m\u001b[1;33m\u001b[0m\u001b[1;33m\u001b[0m\u001b[0m\n\u001b[1;32m----> 2\u001b[1;33m \u001b[0mmodel1\u001b[0m \u001b[1;33m=\u001b[0m \u001b[0mSelectFromModel\u001b[0m\u001b[1;33m(\u001b[0m\u001b[0mlsvc\u001b[0m\u001b[1;33m,\u001b[0m \u001b[0mprefit\u001b[0m\u001b[1;33m=\u001b[0m\u001b[1;32mTrue\u001b[0m\u001b[1;33m)\u001b[0m\u001b[1;33m\u001b[0m\u001b[1;33m\u001b[0m\u001b[0m\n\u001b[0m\u001b[0;32m      3\u001b[0m \u001b[0mX_new\u001b[0m \u001b[1;33m=\u001b[0m \u001b[0mmodel1\u001b[0m\u001b[1;33m.\u001b[0m\u001b[0mtransform\u001b[0m\u001b[1;33m(\u001b[0m\u001b[0mX\u001b[0m\u001b[1;33m)\u001b[0m\u001b[1;33m\u001b[0m\u001b[1;33m\u001b[0m\u001b[0m\n",
      "\u001b[1;31mNameError\u001b[0m: name 'lsvc' is not defined"
     ]
    }
   ],
   "source": [
    "from sklearn.feature_selection import SelectFromModel\n",
    "model1 = SelectFromModel(lsvc, prefit=True)\n",
    "X_new = model1.transform(X)"
   ]
  },
  {
   "cell_type": "code",
   "execution_count": 79,
   "metadata": {},
   "outputs": [
    {
     "ename": "NameError",
     "evalue": "name 'X_new' is not defined",
     "output_type": "error",
     "traceback": [
      "\u001b[1;31m---------------------------------------------------------------------------\u001b[0m",
      "\u001b[1;31mNameError\u001b[0m                                 Traceback (most recent call last)",
      "\u001b[1;32m<ipython-input-79-1129f4f25788>\u001b[0m in \u001b[0;36m<module>\u001b[1;34m\u001b[0m\n\u001b[1;32m----> 1\u001b[1;33m \u001b[0mX_new\u001b[0m\u001b[1;33m\u001b[0m\u001b[1;33m\u001b[0m\u001b[0m\n\u001b[0m",
      "\u001b[1;31mNameError\u001b[0m: name 'X_new' is not defined"
     ]
    }
   ],
   "source": [
    "X_new"
   ]
  },
  {
   "cell_type": "markdown",
   "metadata": {},
   "source": [
    "# Hyperparameter Tuning\n",
    "# Use GridSearchCV to tune the model's parameters\n",
    "\n"
   ]
  },
  {
   "cell_type": "code",
   "execution_count": 80,
   "metadata": {},
   "outputs": [
    {
     "ename": "NameError",
     "evalue": "name 'model' is not defined",
     "output_type": "error",
     "traceback": [
      "\u001b[1;31m---------------------------------------------------------------------------\u001b[0m",
      "\u001b[1;31mNameError\u001b[0m                                 Traceback (most recent call last)",
      "\u001b[1;32m<ipython-input-80-abded8a89724>\u001b[0m in \u001b[0;36m<module>\u001b[1;34m\u001b[0m\n\u001b[0;32m      3\u001b[0m param_grid = {'C': [500,600, 700, 800 ,1000, 1100, 1200, 1300],\n\u001b[0;32m      4\u001b[0m               'gamma': [1e-16, 1e-15,1e-14,1e-13]}\n\u001b[1;32m----> 5\u001b[1;33m \u001b[0mgrid\u001b[0m \u001b[1;33m=\u001b[0m \u001b[0mGridSearchCV\u001b[0m\u001b[1;33m(\u001b[0m\u001b[0mmodel\u001b[0m\u001b[1;33m,\u001b[0m \u001b[0mparam_grid\u001b[0m\u001b[1;33m,\u001b[0m \u001b[0mn_jobs\u001b[0m \u001b[1;33m=\u001b[0m \u001b[1;36m10\u001b[0m\u001b[1;33m,\u001b[0m \u001b[0mverbose\u001b[0m\u001b[1;33m=\u001b[0m\u001b[1;36m3\u001b[0m\u001b[1;33m)\u001b[0m\u001b[1;33m\u001b[0m\u001b[1;33m\u001b[0m\u001b[0m\n\u001b[0m",
      "\u001b[1;31mNameError\u001b[0m: name 'model' is not defined"
     ]
    }
   ],
   "source": [
    "# Create the GridSearchCV model\n",
    "from sklearn.model_selection import GridSearchCV\n",
    "param_grid = {'C': [500,600, 700, 800 ,1000, 1100, 1200, 1300],\n",
    "              'gamma': [1e-16, 1e-15,1e-14,1e-13]}\n",
    "grid = GridSearchCV(model, param_grid, n_jobs = 10, verbose=3)"
   ]
  },
  {
   "cell_type": "code",
   "execution_count": 81,
   "metadata": {},
   "outputs": [
    {
     "ename": "NameError",
     "evalue": "name 'grid' is not defined",
     "output_type": "error",
     "traceback": [
      "\u001b[1;31m---------------------------------------------------------------------------\u001b[0m",
      "\u001b[1;31mNameError\u001b[0m                                 Traceback (most recent call last)",
      "\u001b[1;32m<ipython-input-81-1cd85303160e>\u001b[0m in \u001b[0;36m<module>\u001b[1;34m\u001b[0m\n\u001b[0;32m      1\u001b[0m \u001b[1;31m# Train the model with GridSearch\u001b[0m\u001b[1;33m\u001b[0m\u001b[1;33m\u001b[0m\u001b[1;33m\u001b[0m\u001b[0m\n\u001b[1;32m----> 2\u001b[1;33m \u001b[0mgrid\u001b[0m\u001b[1;33m.\u001b[0m\u001b[0mfit\u001b[0m\u001b[1;33m(\u001b[0m\u001b[0mX_scaled_train\u001b[0m\u001b[1;33m,\u001b[0m \u001b[0mencoded_y_train\u001b[0m\u001b[1;33m.\u001b[0m\u001b[0mravel\u001b[0m\u001b[1;33m(\u001b[0m\u001b[1;33m)\u001b[0m\u001b[1;33m)\u001b[0m\u001b[1;33m\u001b[0m\u001b[1;33m\u001b[0m\u001b[0m\n\u001b[0m",
      "\u001b[1;31mNameError\u001b[0m: name 'grid' is not defined"
     ]
    }
   ],
   "source": [
    "# Train the model with GridSearch\n",
    "grid.fit(X_scaled_train, encoded_y_train.ravel())"
   ]
  },
  {
   "cell_type": "code",
   "execution_count": 82,
   "metadata": {},
   "outputs": [
    {
     "ename": "NameError",
     "evalue": "name 'nan' is not defined",
     "output_type": "error",
     "traceback": [
      "\u001b[1;31m---------------------------------------------------------------------------\u001b[0m",
      "\u001b[1;31mNameError\u001b[0m                                 Traceback (most recent call last)",
      "\u001b[1;32m<ipython-input-82-5dca3fb6c768>\u001b[0m in \u001b[0;36m<module>\u001b[1;34m\u001b[0m\n\u001b[1;32m----> 1\u001b[1;33m GridSearchCV(cv=None, error_score=nan,\n\u001b[0m\u001b[0;32m      2\u001b[0m              estimator=SVC(C=1.0, break_ties=False, cache_size=200,\n\u001b[0;32m      3\u001b[0m                            \u001b[0mclass_weight\u001b[0m\u001b[1;33m=\u001b[0m\u001b[1;34m'balanced'\u001b[0m\u001b[1;33m,\u001b[0m \u001b[0mcoef0\u001b[0m\u001b[1;33m=\u001b[0m\u001b[1;36m0.0\u001b[0m\u001b[1;33m,\u001b[0m\u001b[1;33m\u001b[0m\u001b[1;33m\u001b[0m\u001b[0m\n\u001b[0;32m      4\u001b[0m                            \u001b[0mdecision_function_shape\u001b[0m\u001b[1;33m=\u001b[0m\u001b[1;34m'ovr'\u001b[0m\u001b[1;33m,\u001b[0m \u001b[0mdegree\u001b[0m\u001b[1;33m=\u001b[0m\u001b[1;36m3\u001b[0m\u001b[1;33m,\u001b[0m\u001b[1;33m\u001b[0m\u001b[1;33m\u001b[0m\u001b[0m\n\u001b[0;32m      5\u001b[0m                            \u001b[0mgamma\u001b[0m\u001b[1;33m=\u001b[0m\u001b[1;34m'scale'\u001b[0m\u001b[1;33m,\u001b[0m \u001b[0mkernel\u001b[0m\u001b[1;33m=\u001b[0m\u001b[1;34m'linear'\u001b[0m\u001b[1;33m,\u001b[0m \u001b[0mmax_iter\u001b[0m\u001b[1;33m=\u001b[0m\u001b[1;33m-\u001b[0m\u001b[1;36m1\u001b[0m\u001b[1;33m,\u001b[0m\u001b[1;33m\u001b[0m\u001b[1;33m\u001b[0m\u001b[0m\n",
      "\u001b[1;31mNameError\u001b[0m: name 'nan' is not defined"
     ]
    }
   ],
   "source": [
    "GridSearchCV(cv=None, error_score=nan,\n",
    "             estimator=SVC(C=1.0, break_ties=False, cache_size=200,\n",
    "                           class_weight='balanced', coef0=0.0,\n",
    "                           decision_function_shape='ovr', degree=3,\n",
    "                           gamma='scale', kernel='linear', max_iter=-1,\n",
    "                           probability=False, random_state=None, shrinking=True,\n",
    "                           tol=0.001, verbose=False),\n",
    "             iid='deprecated', n_jobs=10,\n",
    "             param_grid={'C': [500, 600, 700, 800, 1000, 1100, 1200, 1300],\n",
    "                         'gamma': [1e-16, 1e-15, 1e-14, 1e-13]},\n",
    "             pre_dispatch='2*n_jobs', refit=True, return_train_score=False,\n",
    "             scoring=None, verbose=3)"
   ]
  },
  {
   "cell_type": "code",
   "execution_count": 83,
   "metadata": {},
   "outputs": [
    {
     "ename": "NameError",
     "evalue": "name 'grid' is not defined",
     "output_type": "error",
     "traceback": [
      "\u001b[1;31m---------------------------------------------------------------------------\u001b[0m",
      "\u001b[1;31mNameError\u001b[0m                                 Traceback (most recent call last)",
      "\u001b[1;32m<ipython-input-83-a844c2d273f5>\u001b[0m in \u001b[0;36m<module>\u001b[1;34m\u001b[0m\n\u001b[1;32m----> 1\u001b[1;33m \u001b[0mgrid\u001b[0m\u001b[1;33m\u001b[0m\u001b[1;33m\u001b[0m\u001b[0m\n\u001b[0m",
      "\u001b[1;31mNameError\u001b[0m: name 'grid' is not defined"
     ]
    }
   ],
   "source": [
    "grid"
   ]
  },
  {
   "cell_type": "code",
   "execution_count": 84,
   "metadata": {},
   "outputs": [
    {
     "ename": "NameError",
     "evalue": "name 'grid' is not defined",
     "output_type": "error",
     "traceback": [
      "\u001b[1;31m---------------------------------------------------------------------------\u001b[0m",
      "\u001b[1;31mNameError\u001b[0m                                 Traceback (most recent call last)",
      "\u001b[1;32m<ipython-input-84-390f797d800c>\u001b[0m in \u001b[0;36m<module>\u001b[1;34m\u001b[0m\n\u001b[1;32m----> 1\u001b[1;33m \u001b[0msorted\u001b[0m\u001b[1;33m(\u001b[0m\u001b[0mgrid\u001b[0m\u001b[1;33m.\u001b[0m\u001b[0mcv_results_\u001b[0m\u001b[1;33m.\u001b[0m\u001b[0mkeys\u001b[0m\u001b[1;33m(\u001b[0m\u001b[1;33m)\u001b[0m\u001b[1;33m)\u001b[0m\u001b[1;33m\u001b[0m\u001b[1;33m\u001b[0m\u001b[0m\n\u001b[0m",
      "\u001b[1;31mNameError\u001b[0m: name 'grid' is not defined"
     ]
    }
   ],
   "source": [
    "sorted(grid.cv_results_.keys())"
   ]
  },
  {
   "cell_type": "code",
   "execution_count": 85,
   "metadata": {},
   "outputs": [
    {
     "ename": "NameError",
     "evalue": "name 'grid' is not defined",
     "output_type": "error",
     "traceback": [
      "\u001b[1;31m---------------------------------------------------------------------------\u001b[0m",
      "\u001b[1;31mNameError\u001b[0m                                 Traceback (most recent call last)",
      "\u001b[1;32m<ipython-input-85-307f9b705697>\u001b[0m in \u001b[0;36m<module>\u001b[1;34m\u001b[0m\n\u001b[1;32m----> 1\u001b[1;33m \u001b[0mprint\u001b[0m\u001b[1;33m(\u001b[0m\u001b[0mgrid\u001b[0m\u001b[1;33m.\u001b[0m\u001b[0mbest_params_\u001b[0m\u001b[1;33m)\u001b[0m\u001b[1;33m\u001b[0m\u001b[1;33m\u001b[0m\u001b[0m\n\u001b[0m\u001b[0;32m      2\u001b[0m \u001b[0mprint\u001b[0m\u001b[1;33m(\u001b[0m\u001b[0mgrid\u001b[0m\u001b[1;33m.\u001b[0m\u001b[0mbest_score_\u001b[0m\u001b[1;33m)\u001b[0m\u001b[1;33m\u001b[0m\u001b[1;33m\u001b[0m\u001b[0m\n\u001b[0;32m      3\u001b[0m \u001b[0mprint\u001b[0m\u001b[1;33m(\u001b[0m\u001b[0mgrid\u001b[0m\u001b[1;33m.\u001b[0m\u001b[0mbest_index_\u001b[0m\u001b[1;33m)\u001b[0m\u001b[1;33m\u001b[0m\u001b[1;33m\u001b[0m\u001b[0m\n",
      "\u001b[1;31mNameError\u001b[0m: name 'grid' is not defined"
     ]
    }
   ],
   "source": [
    "print(grid.best_params_)\n",
    "print(grid.best_score_)\n",
    "print(grid.best_index_)\n"
   ]
  },
  {
   "cell_type": "code",
   "execution_count": 86,
   "metadata": {},
   "outputs": [
    {
     "ename": "NameError",
     "evalue": "name 'grid' is not defined",
     "output_type": "error",
     "traceback": [
      "\u001b[1;31m---------------------------------------------------------------------------\u001b[0m",
      "\u001b[1;31mNameError\u001b[0m                                 Traceback (most recent call last)",
      "\u001b[1;32m<ipython-input-86-20120c6283d2>\u001b[0m in \u001b[0;36m<module>\u001b[1;34m\u001b[0m\n\u001b[1;32m----> 1\u001b[1;33m \u001b[0mgrid\u001b[0m\u001b[1;33m[\u001b[0m\u001b[1;36m1\u001b[0m\u001b[1;33m]\u001b[0m\u001b[1;33m\u001b[0m\u001b[1;33m\u001b[0m\u001b[0m\n\u001b[0m",
      "\u001b[1;31mNameError\u001b[0m: name 'grid' is not defined"
     ]
    }
   ],
   "source": [
    "grid[1]"
   ]
  },
  {
   "cell_type": "code",
   "execution_count": 87,
   "metadata": {},
   "outputs": [
    {
     "ename": "NameError",
     "evalue": "name 'model' is not defined",
     "output_type": "error",
     "traceback": [
      "\u001b[1;31m---------------------------------------------------------------------------\u001b[0m",
      "\u001b[1;31mNameError\u001b[0m                                 Traceback (most recent call last)",
      "\u001b[1;32m<ipython-input-87-2d594f9378eb>\u001b[0m in \u001b[0;36m<module>\u001b[1;34m\u001b[0m\n\u001b[1;32m----> 1\u001b[1;33m \u001b[0mmodel\u001b[0m\u001b[1;33m.\u001b[0m\u001b[0mpredict\u001b[0m\u001b[1;33m(\u001b[0m\u001b[0mX_scaled_test\u001b[0m\u001b[1;33m)\u001b[0m\u001b[1;33m\u001b[0m\u001b[1;33m\u001b[0m\u001b[0m\n\u001b[0m",
      "\u001b[1;31mNameError\u001b[0m: name 'model' is not defined"
     ]
    }
   ],
   "source": [
    "model.predict(X_scaled_test)"
   ]
  },
  {
   "cell_type": "code",
   "execution_count": 88,
   "metadata": {},
   "outputs": [
    {
     "data": {
      "text/plain": [
       "array([16,  7, 40, 34, 47,  1, 36, 50, 55, 33, 20, 14, 77, 15, 22, 52, 46,\n",
       "       22, 20,  4, 84, 82, 41,  4,  5, 14, 29, 54,  8, 43, 24, 76],\n",
       "      dtype=int64)"
      ]
     },
     "execution_count": 88,
     "metadata": {},
     "output_type": "execute_result"
    }
   ],
   "source": [
    "encoded_y_test.ravel()\n"
   ]
  },
  {
   "cell_type": "code",
   "execution_count": 89,
   "metadata": {},
   "outputs": [
    {
     "ename": "NameError",
     "evalue": "name 'model' is not defined",
     "output_type": "error",
     "traceback": [
      "\u001b[1;31m---------------------------------------------------------------------------\u001b[0m",
      "\u001b[1;31mNameError\u001b[0m                                 Traceback (most recent call last)",
      "\u001b[1;32m<ipython-input-89-5fe86ce9efd3>\u001b[0m in \u001b[0;36m<module>\u001b[1;34m\u001b[0m\n\u001b[1;32m----> 1\u001b[1;33m \u001b[0mdf_results\u001b[0m \u001b[1;33m=\u001b[0m \u001b[0mpd\u001b[0m\u001b[1;33m.\u001b[0m\u001b[0mDataFrame\u001b[0m\u001b[1;33m(\u001b[0m\u001b[1;33m{\u001b[0m\u001b[1;34m'col_1'\u001b[0m \u001b[1;33m:\u001b[0m \u001b[0mmodel\u001b[0m\u001b[1;33m.\u001b[0m\u001b[0mpredict\u001b[0m\u001b[1;33m(\u001b[0m\u001b[0mX_scaled_test\u001b[0m\u001b[1;33m)\u001b[0m\u001b[1;33m,\u001b[0m \u001b[1;34m'col_2'\u001b[0m \u001b[1;33m:\u001b[0m \u001b[0mencoded_y_test\u001b[0m\u001b[1;33m.\u001b[0m\u001b[0mravel\u001b[0m\u001b[1;33m(\u001b[0m\u001b[1;33m)\u001b[0m\u001b[1;33m}\u001b[0m\u001b[1;33m)\u001b[0m\u001b[1;33m\u001b[0m\u001b[1;33m\u001b[0m\u001b[0m\n\u001b[0m\u001b[0;32m      2\u001b[0m \u001b[0mdf_results\u001b[0m\u001b[1;33m\u001b[0m\u001b[1;33m\u001b[0m\u001b[0m\n",
      "\u001b[1;31mNameError\u001b[0m: name 'model' is not defined"
     ]
    }
   ],
   "source": [
    "df_results = pd.DataFrame({'col_1' : model.predict(X_scaled_test), 'col_2' : encoded_y_test.ravel()})\n",
    "df_results"
   ]
  },
  {
   "cell_type": "code",
   "execution_count": 90,
   "metadata": {},
   "outputs": [
    {
     "ename": "NameError",
     "evalue": "name 'search' is not defined",
     "output_type": "error",
     "traceback": [
      "\u001b[1;31m---------------------------------------------------------------------------\u001b[0m",
      "\u001b[1;31mNameError\u001b[0m                                 Traceback (most recent call last)",
      "\u001b[1;32m<ipython-input-90-3f8ec0f296c1>\u001b[0m in \u001b[0;36m<module>\u001b[1;34m\u001b[0m\n\u001b[1;32m----> 1\u001b[1;33m \u001b[0msearch\u001b[0m\u001b[1;33m.\u001b[0m\u001b[0mcv_results_\u001b[0m\u001b[1;33m[\u001b[0m\u001b[1;34m'params'\u001b[0m\u001b[1;33m]\u001b[0m\u001b[1;33m\u001b[0m\u001b[1;33m\u001b[0m\u001b[0m\n\u001b[0m",
      "\u001b[1;31mNameError\u001b[0m: name 'search' is not defined"
     ]
    }
   ],
   "source": [
    "search.cv_results_['params']"
   ]
  },
  {
   "cell_type": "code",
   "execution_count": 91,
   "metadata": {},
   "outputs": [
    {
     "ename": "NameError",
     "evalue": "name 'model' is not defined",
     "output_type": "error",
     "traceback": [
      "\u001b[1;31m---------------------------------------------------------------------------\u001b[0m",
      "\u001b[1;31mNameError\u001b[0m                                 Traceback (most recent call last)",
      "\u001b[1;32m<ipython-input-91-1f8a688cae5d>\u001b[0m in \u001b[0;36m<module>\u001b[1;34m\u001b[0m\n\u001b[1;32m----> 1\u001b[1;33m \u001b[0mmodel\u001b[0m\u001b[1;33m\u001b[0m\u001b[1;33m\u001b[0m\u001b[0m\n\u001b[0m",
      "\u001b[1;31mNameError\u001b[0m: name 'model' is not defined"
     ]
    }
   ],
   "source": [
    "model"
   ]
  },
  {
   "cell_type": "code",
   "execution_count": 93,
   "metadata": {},
   "outputs": [
    {
     "ename": "NameError",
     "evalue": "name 'model' is not defined",
     "output_type": "error",
     "traceback": [
      "\u001b[1;31m---------------------------------------------------------------------------\u001b[0m",
      "\u001b[1;31mNameError\u001b[0m                                 Traceback (most recent call last)",
      "\u001b[1;32m<ipython-input-93-c7df70a7f1a7>\u001b[0m in \u001b[0;36m<module>\u001b[1;34m\u001b[0m\n\u001b[0;32m      5\u001b[0m \u001b[1;32mimport\u001b[0m \u001b[0mjoblib\u001b[0m\u001b[1;33m\u001b[0m\u001b[1;33m\u001b[0m\u001b[0m\n\u001b[0;32m      6\u001b[0m \u001b[0mfilename\u001b[0m \u001b[1;33m=\u001b[0m \u001b[1;34m'nakouma_svc.sav'\u001b[0m\u001b[1;33m\u001b[0m\u001b[1;33m\u001b[0m\u001b[0m\n\u001b[1;32m----> 7\u001b[1;33m \u001b[0mjoblib\u001b[0m\u001b[1;33m.\u001b[0m\u001b[0mdump\u001b[0m\u001b[1;33m(\u001b[0m\u001b[0mmodel\u001b[0m\u001b[1;33m,\u001b[0m \u001b[0mfilename\u001b[0m\u001b[1;33m)\u001b[0m\u001b[1;33m\u001b[0m\u001b[1;33m\u001b[0m\u001b[0m\n\u001b[0m",
      "\u001b[1;31mNameError\u001b[0m: name 'model' is not defined"
     ]
    }
   ],
   "source": [
    "# save your model by updating \"your_name\" with your name\n",
    "# and \"your_model\" with your model variable\n",
    "# be sure to turn this in to BCS\n",
    "# if joblib fails to import, try running the command to install in terminal/git-bash\n",
    "import joblib\n",
    "filename = 'nakouma_svc.sav'\n",
    "joblib.dump(model, filename)"
   ]
  },
  {
   "cell_type": "code",
   "execution_count": null,
   "metadata": {},
   "outputs": [],
   "source": []
  }
 ],
 "metadata": {
  "kernelspec": {
   "display_name": "Python 3",
   "language": "python",
   "name": "python3"
  }
 },
 "nbformat": 4,
 "nbformat_minor": 4
}
