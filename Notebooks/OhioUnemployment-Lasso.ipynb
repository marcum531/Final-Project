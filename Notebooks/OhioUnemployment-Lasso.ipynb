{
 "cells": [
  {
   "cell_type": "code",
   "execution_count": 1,
   "metadata": {},
   "outputs": [
    {
     "name": "stdout",
     "output_type": "stream",
     "text": [
      "Requirement already up-to-date: sklearn in c:\\users\\sakon\\anaconda3.1\\lib\\site-packages (0.0)\n",
      "Requirement already satisfied, skipping upgrade: scikit-learn in c:\\users\\sakon\\anaconda3.1\\lib\\site-packages (from sklearn) (0.22.1)\n",
      "Requirement already satisfied, skipping upgrade: numpy>=1.11.0 in c:\\users\\sakon\\anaconda3.1\\lib\\site-packages (from scikit-learn->sklearn) (1.18.1)\n",
      "Requirement already satisfied, skipping upgrade: scipy>=0.17.0 in c:\\users\\sakon\\anaconda3.1\\lib\\site-packages (from scikit-learn->sklearn) (1.4.1)\n",
      "Requirement already satisfied, skipping upgrade: joblib>=0.11 in c:\\users\\sakon\\anaconda3.1\\lib\\site-packages (from scikit-learn->sklearn) (0.14.1)\n"
     ]
    }
   ],
   "source": [
    "# Update sklearn to prevent version mismatches\n",
    "!pip install sklearn --upgrade"
   ]
  },
  {
   "cell_type": "code",
   "execution_count": 2,
   "metadata": {},
   "outputs": [
    {
     "name": "stdout",
     "output_type": "stream",
     "text": [
      "Requirement already satisfied: joblib in c:\\users\\sakon\\anaconda3.1\\lib\\site-packages (0.14.1)\n"
     ]
    }
   ],
   "source": [
    "# install joblib. This will be used to save your model. \n",
    "# Restart your kernel after installing \n",
    "!pip install joblib"
   ]
  },
  {
   "cell_type": "code",
   "execution_count": 3,
   "metadata": {},
   "outputs": [],
   "source": [
    "import pandas as pd\n",
    "import numpy as np\n",
    "import matplotlib.pyplot as plt\n",
    "from sklearn.feature_extraction.text import CountVectorizer"
   ]
  },
  {
   "cell_type": "markdown",
   "metadata": {},
   "source": [
    "# Read CSV and perform data cleaning"
   ]
  },
  {
   "cell_type": "code",
   "execution_count": 4,
   "metadata": {},
   "outputs": [
    {
     "data": {
      "text/html": [
       "<div>\n",
       "<style scoped>\n",
       "    .dataframe tbody tr th:only-of-type {\n",
       "        vertical-align: middle;\n",
       "    }\n",
       "\n",
       "    .dataframe tbody tr th {\n",
       "        vertical-align: top;\n",
       "    }\n",
       "\n",
       "    .dataframe thead th {\n",
       "        text-align: right;\n",
       "    }\n",
       "</style>\n",
       "<table border=\"1\" class=\"dataframe\">\n",
       "  <thead>\n",
       "    <tr style=\"text-align: right;\">\n",
       "      <th></th>\n",
       "      <th>Cuy_Unpl</th>\n",
       "      <th>Franklin_Unpl</th>\n",
       "      <th>Butler_Unpl</th>\n",
       "      <th>Mean</th>\n",
       "    </tr>\n",
       "  </thead>\n",
       "  <tbody>\n",
       "    <tr>\n",
       "      <th>0</th>\n",
       "      <td>9.3</td>\n",
       "      <td>9.9</td>\n",
       "      <td>11.2</td>\n",
       "      <td>10.13</td>\n",
       "    </tr>\n",
       "    <tr>\n",
       "      <th>1</th>\n",
       "      <td>9.7</td>\n",
       "      <td>9.7</td>\n",
       "      <td>11.0</td>\n",
       "      <td>10.13</td>\n",
       "    </tr>\n",
       "    <tr>\n",
       "      <th>2</th>\n",
       "      <td>9.0</td>\n",
       "      <td>9.6</td>\n",
       "      <td>10.8</td>\n",
       "      <td>9.80</td>\n",
       "    </tr>\n",
       "    <tr>\n",
       "      <th>3</th>\n",
       "      <td>8.5</td>\n",
       "      <td>9.1</td>\n",
       "      <td>10.2</td>\n",
       "      <td>9.27</td>\n",
       "    </tr>\n",
       "    <tr>\n",
       "      <th>4</th>\n",
       "      <td>8.4</td>\n",
       "      <td>8.7</td>\n",
       "      <td>9.7</td>\n",
       "      <td>8.93</td>\n",
       "    </tr>\n",
       "  </tbody>\n",
       "</table>\n",
       "</div>"
      ],
      "text/plain": [
       "   Cuy_Unpl  Franklin_Unpl  Butler_Unpl   Mean\n",
       "0       9.3            9.9         11.2  10.13\n",
       "1       9.7            9.7         11.0  10.13\n",
       "2       9.0            9.6         10.8   9.80\n",
       "3       8.5            9.1         10.2   9.27\n",
       "4       8.4            8.7          9.7   8.93"
      ]
     },
     "execution_count": 4,
     "metadata": {},
     "output_type": "execute_result"
    }
   ],
   "source": [
    "df = pd.read_csv(\"Unemployment_cuy_Franklin_Butler.csv\")\n",
    "# Drop the null columns where all values are null\n",
    "df = df.dropna(axis='columns', how='all')\n",
    "# Drop the null rows\n",
    "df = df.dropna()\n",
    "df.head()"
   ]
  },
  {
   "cell_type": "markdown",
   "metadata": {},
   "source": [
    "# Select your features (columns)"
   ]
  },
  {
   "cell_type": "code",
   "execution_count": 5,
   "metadata": {},
   "outputs": [
    {
     "data": {
      "text/plain": [
       "array([10.13, 10.13,  9.8 ,  9.27,  8.93,  9.33,  9.33,  8.97,  8.67,\n",
       "        8.47,  8.57,  8.17,  8.93,  8.73,  8.23,  7.77,  8.07,  8.9 ,\n",
       "        8.8 ,  8.3 ,  8.07,  7.67,  7.1 ,  7.1 ,  7.77,  7.73,  7.27,\n",
       "        6.57,  6.7 ,  7.4 ,  7.47,  6.9 ,  6.47,  6.37,  6.2 ,  6.63,\n",
       "        7.9 ,  7.6 ,  6.97,  6.37,  6.77,  7.6 ,  7.4 ,  7.  ,  6.83,\n",
       "        6.8 ,  6.27,  5.97,  6.77,  6.7 ,  6.1 ,  5.03,  5.4 ,  5.9 ,\n",
       "        6.  ,  5.57,  5.07,  4.8 ,  4.7 ,  4.57,  5.47,  5.2 ,  4.8 ,\n",
       "        4.4 ,  4.73,  5.03,  4.83,  4.27,  4.17,  4.13,  4.2 ,  4.2 ,\n",
       "        4.87,  4.93,  4.8 ,  4.43,  4.23,  5.  ,  4.87,  4.8 ,  4.83,\n",
       "        4.7 ,  4.4 ,  4.67,  5.5 ,  5.4 ,  4.77,  4.4 ,  4.5 ,  5.1 ,\n",
       "        5.03,  5.  ,  4.5 ,  4.17,  4.07,  4.  ,  4.53,  4.63,  4.3 ,\n",
       "        4.  ,  4.  ,  4.93,  4.57,  4.23,  3.97,  3.9 ,  3.7 ,  4.  ,\n",
       "        4.5 ,  4.1 ,  3.87,  3.3 ,  3.5 ,  4.23,  4.37,  4.  ,  3.7 ,\n",
       "        3.5 ,  3.37,  3.4 ,  4.4 ,  4.3 ,  5.2 , 17.  , 13.87, 11.87,\n",
       "       10.13,  9.6 ])"
      ]
     },
     "execution_count": 5,
     "metadata": {},
     "output_type": "execute_result"
    }
   ],
   "source": [
    "# Set features. This is used as x values.\n",
    "df.columns\n",
    "selected_features = df[df.columns]\n",
    "selected_features = selected_features.drop(columns = 'Mean')\n",
    "X = selected_features\n",
    "y = df['Mean'].to_numpy()\n",
    "#y = df['Mean'].values.reshape(-1, 1)\n",
    "y"
   ]
  },
  {
   "cell_type": "code",
   "execution_count": 6,
   "metadata": {},
   "outputs": [
    {
     "data": {
      "text/html": [
       "<div>\n",
       "<style scoped>\n",
       "    .dataframe tbody tr th:only-of-type {\n",
       "        vertical-align: middle;\n",
       "    }\n",
       "\n",
       "    .dataframe tbody tr th {\n",
       "        vertical-align: top;\n",
       "    }\n",
       "\n",
       "    .dataframe thead th {\n",
       "        text-align: right;\n",
       "    }\n",
       "</style>\n",
       "<table border=\"1\" class=\"dataframe\">\n",
       "  <thead>\n",
       "    <tr style=\"text-align: right;\">\n",
       "      <th></th>\n",
       "      <th>Cuy_Unpl</th>\n",
       "      <th>Franklin_Unpl</th>\n",
       "      <th>Butler_Unpl</th>\n",
       "    </tr>\n",
       "  </thead>\n",
       "  <tbody>\n",
       "    <tr>\n",
       "      <th>0</th>\n",
       "      <td>9.3</td>\n",
       "      <td>9.9</td>\n",
       "      <td>11.2</td>\n",
       "    </tr>\n",
       "    <tr>\n",
       "      <th>1</th>\n",
       "      <td>9.7</td>\n",
       "      <td>9.7</td>\n",
       "      <td>11.0</td>\n",
       "    </tr>\n",
       "    <tr>\n",
       "      <th>2</th>\n",
       "      <td>9.0</td>\n",
       "      <td>9.6</td>\n",
       "      <td>10.8</td>\n",
       "    </tr>\n",
       "    <tr>\n",
       "      <th>3</th>\n",
       "      <td>8.5</td>\n",
       "      <td>9.1</td>\n",
       "      <td>10.2</td>\n",
       "    </tr>\n",
       "    <tr>\n",
       "      <th>4</th>\n",
       "      <td>8.4</td>\n",
       "      <td>8.7</td>\n",
       "      <td>9.7</td>\n",
       "    </tr>\n",
       "    <tr>\n",
       "      <th>...</th>\n",
       "      <td>...</td>\n",
       "      <td>...</td>\n",
       "      <td>...</td>\n",
       "    </tr>\n",
       "    <tr>\n",
       "      <th>123</th>\n",
       "      <td>22.9</td>\n",
       "      <td>13.9</td>\n",
       "      <td>14.2</td>\n",
       "    </tr>\n",
       "    <tr>\n",
       "      <th>124</th>\n",
       "      <td>18.1</td>\n",
       "      <td>11.6</td>\n",
       "      <td>11.9</td>\n",
       "    </tr>\n",
       "    <tr>\n",
       "      <th>125</th>\n",
       "      <td>15.2</td>\n",
       "      <td>10.6</td>\n",
       "      <td>9.8</td>\n",
       "    </tr>\n",
       "    <tr>\n",
       "      <th>126</th>\n",
       "      <td>13.1</td>\n",
       "      <td>9.1</td>\n",
       "      <td>8.2</td>\n",
       "    </tr>\n",
       "    <tr>\n",
       "      <th>127</th>\n",
       "      <td>11.6</td>\n",
       "      <td>9.1</td>\n",
       "      <td>8.1</td>\n",
       "    </tr>\n",
       "  </tbody>\n",
       "</table>\n",
       "<p>128 rows × 3 columns</p>\n",
       "</div>"
      ],
      "text/plain": [
       "     Cuy_Unpl  Franklin_Unpl  Butler_Unpl\n",
       "0         9.3            9.9         11.2\n",
       "1         9.7            9.7         11.0\n",
       "2         9.0            9.6         10.8\n",
       "3         8.5            9.1         10.2\n",
       "4         8.4            8.7          9.7\n",
       "..        ...            ...          ...\n",
       "123      22.9           13.9         14.2\n",
       "124      18.1           11.6         11.9\n",
       "125      15.2           10.6          9.8\n",
       "126      13.1            9.1          8.2\n",
       "127      11.6            9.1          8.1\n",
       "\n",
       "[128 rows x 3 columns]"
      ]
     },
     "execution_count": 6,
     "metadata": {},
     "output_type": "execute_result"
    }
   ],
   "source": [
    "selected_features"
   ]
  },
  {
   "cell_type": "code",
   "execution_count": 7,
   "metadata": {},
   "outputs": [],
   "source": [
    "columns = selected_features.columns.to_list()"
   ]
  },
  {
   "cell_type": "code",
   "execution_count": 8,
   "metadata": {},
   "outputs": [],
   "source": [
    "from sklearn.preprocessing import LabelEncoder\n",
    "label_encoder = LabelEncoder()\n",
    "label_encoder.fit(y)\n",
    "encoded_y = label_encoder.transform(y)"
   ]
  },
  {
   "cell_type": "code",
   "execution_count": 9,
   "metadata": {},
   "outputs": [
    {
     "name": "stdout",
     "output_type": "stream",
     "text": [
      "Original Class: 10.13\n",
      "Encoded Label: 83\n",
      "------------\n",
      "Original Class: 10.13\n",
      "Encoded Label: 83\n",
      "------------\n",
      "Original Class: 9.8\n",
      "Encoded Label: 82\n",
      "------------\n",
      "Original Class: 9.27\n",
      "Encoded Label: 79\n",
      "------------\n",
      "Original Class: 8.93\n",
      "Encoded Label: 77\n",
      "------------\n",
      "Original Class: 9.33\n",
      "Encoded Label: 80\n",
      "------------\n",
      "Original Class: 9.33\n",
      "Encoded Label: 80\n",
      "------------\n",
      "Original Class: 8.97\n",
      "Encoded Label: 78\n",
      "------------\n",
      "Original Class: 8.67\n",
      "Encoded Label: 73\n",
      "------------\n",
      "Original Class: 8.47\n",
      "Encoded Label: 71\n",
      "------------\n",
      "Original Class: 8.57\n",
      "Encoded Label: 72\n",
      "------------\n",
      "Original Class: 8.17\n",
      "Encoded Label: 68\n",
      "------------\n",
      "Original Class: 8.93\n",
      "Encoded Label: 77\n",
      "------------\n",
      "Original Class: 8.73\n",
      "Encoded Label: 74\n",
      "------------\n",
      "Original Class: 8.23\n",
      "Encoded Label: 69\n",
      "------------\n",
      "Original Class: 7.77\n",
      "Encoded Label: 65\n",
      "------------\n",
      "Original Class: 8.07\n",
      "Encoded Label: 67\n",
      "------------\n",
      "Original Class: 8.9\n",
      "Encoded Label: 76\n",
      "------------\n",
      "Original Class: 8.8\n",
      "Encoded Label: 75\n",
      "------------\n",
      "Original Class: 8.3\n",
      "Encoded Label: 70\n",
      "------------\n",
      "Original Class: 8.07\n",
      "Encoded Label: 67\n",
      "------------\n",
      "Original Class: 7.67\n",
      "Encoded Label: 63\n",
      "------------\n",
      "Original Class: 7.1\n",
      "Encoded Label: 58\n",
      "------------\n",
      "Original Class: 7.1\n",
      "Encoded Label: 58\n",
      "------------\n",
      "Original Class: 7.77\n",
      "Encoded Label: 65\n",
      "------------\n",
      "Original Class: 7.73\n",
      "Encoded Label: 64\n",
      "------------\n",
      "Original Class: 7.27\n",
      "Encoded Label: 59\n",
      "------------\n",
      "Original Class: 6.57\n",
      "Encoded Label: 49\n",
      "------------\n",
      "Original Class: 6.7\n",
      "Encoded Label: 51\n",
      "------------\n",
      "Original Class: 7.4\n",
      "Encoded Label: 60\n",
      "------------\n",
      "Original Class: 7.47\n",
      "Encoded Label: 61\n",
      "------------\n",
      "Original Class: 6.9\n",
      "Encoded Label: 55\n",
      "------------\n",
      "Original Class: 6.47\n",
      "Encoded Label: 48\n",
      "------------\n",
      "Original Class: 6.37\n",
      "Encoded Label: 47\n",
      "------------\n",
      "Original Class: 6.2\n",
      "Encoded Label: 45\n",
      "------------\n",
      "Original Class: 6.63\n",
      "Encoded Label: 50\n",
      "------------\n",
      "Original Class: 7.9\n",
      "Encoded Label: 66\n",
      "------------\n",
      "Original Class: 7.6\n",
      "Encoded Label: 62\n",
      "------------\n",
      "Original Class: 6.97\n",
      "Encoded Label: 56\n",
      "------------\n",
      "Original Class: 6.37\n",
      "Encoded Label: 47\n",
      "------------\n",
      "Original Class: 6.77\n",
      "Encoded Label: 52\n",
      "------------\n",
      "Original Class: 7.6\n",
      "Encoded Label: 62\n",
      "------------\n",
      "Original Class: 7.4\n",
      "Encoded Label: 60\n",
      "------------\n",
      "Original Class: 7.0\n",
      "Encoded Label: 57\n",
      "------------\n",
      "Original Class: 6.83\n",
      "Encoded Label: 54\n",
      "------------\n",
      "Original Class: 6.8\n",
      "Encoded Label: 53\n",
      "------------\n",
      "Original Class: 6.27\n",
      "Encoded Label: 46\n",
      "------------\n",
      "Original Class: 5.97\n",
      "Encoded Label: 42\n",
      "------------\n",
      "Original Class: 6.77\n",
      "Encoded Label: 52\n",
      "------------\n",
      "Original Class: 6.7\n",
      "Encoded Label: 51\n",
      "------------\n",
      "Original Class: 6.1\n",
      "Encoded Label: 44\n",
      "------------\n",
      "Original Class: 5.03\n",
      "Encoded Label: 33\n",
      "------------\n",
      "Original Class: 5.4\n",
      "Encoded Label: 37\n",
      "------------\n",
      "Original Class: 5.9\n",
      "Encoded Label: 41\n",
      "------------\n",
      "Original Class: 6.0\n",
      "Encoded Label: 43\n",
      "------------\n",
      "Original Class: 5.57\n",
      "Encoded Label: 40\n",
      "------------\n",
      "Original Class: 5.07\n",
      "Encoded Label: 34\n",
      "------------\n",
      "Original Class: 4.8\n",
      "Encoded Label: 28\n",
      "------------\n",
      "Original Class: 4.7\n",
      "Encoded Label: 25\n",
      "------------\n",
      "Original Class: 4.57\n",
      "Encoded Label: 22\n",
      "------------\n",
      "Original Class: 5.47\n",
      "Encoded Label: 38\n",
      "------------\n",
      "Original Class: 5.2\n",
      "Encoded Label: 36\n",
      "------------\n",
      "Original Class: 4.8\n",
      "Encoded Label: 28\n",
      "------------\n",
      "Original Class: 4.4\n",
      "Encoded Label: 18\n",
      "------------\n",
      "Original Class: 4.73\n",
      "Encoded Label: 26\n",
      "------------\n",
      "Original Class: 5.03\n",
      "Encoded Label: 33\n",
      "------------\n",
      "Original Class: 4.83\n",
      "Encoded Label: 29\n",
      "------------\n",
      "Original Class: 4.27\n",
      "Encoded Label: 15\n",
      "------------\n",
      "Original Class: 4.17\n",
      "Encoded Label: 12\n",
      "------------\n",
      "Original Class: 4.13\n",
      "Encoded Label: 11\n",
      "------------\n",
      "Original Class: 4.2\n",
      "Encoded Label: 13\n",
      "------------\n",
      "Original Class: 4.2\n",
      "Encoded Label: 13\n",
      "------------\n",
      "Original Class: 4.87\n",
      "Encoded Label: 30\n",
      "------------\n",
      "Original Class: 4.93\n",
      "Encoded Label: 31\n",
      "------------\n",
      "Original Class: 4.8\n",
      "Encoded Label: 28\n",
      "------------\n",
      "Original Class: 4.43\n",
      "Encoded Label: 19\n",
      "------------\n",
      "Original Class: 4.23\n",
      "Encoded Label: 14\n",
      "------------\n",
      "Original Class: 5.0\n",
      "Encoded Label: 32\n",
      "------------\n",
      "Original Class: 4.87\n",
      "Encoded Label: 30\n",
      "------------\n",
      "Original Class: 4.8\n",
      "Encoded Label: 28\n",
      "------------\n",
      "Original Class: 4.83\n",
      "Encoded Label: 29\n",
      "------------\n",
      "Original Class: 4.7\n",
      "Encoded Label: 25\n",
      "------------\n",
      "Original Class: 4.4\n",
      "Encoded Label: 18\n",
      "------------\n",
      "Original Class: 4.67\n",
      "Encoded Label: 24\n",
      "------------\n",
      "Original Class: 5.5\n",
      "Encoded Label: 39\n",
      "------------\n",
      "Original Class: 5.4\n",
      "Encoded Label: 37\n",
      "------------\n",
      "Original Class: 4.77\n",
      "Encoded Label: 27\n",
      "------------\n",
      "Original Class: 4.4\n",
      "Encoded Label: 18\n",
      "------------\n",
      "Original Class: 4.5\n",
      "Encoded Label: 20\n",
      "------------\n",
      "Original Class: 5.1\n",
      "Encoded Label: 35\n",
      "------------\n",
      "Original Class: 5.03\n",
      "Encoded Label: 33\n",
      "------------\n",
      "Original Class: 5.0\n",
      "Encoded Label: 32\n",
      "------------\n",
      "Original Class: 4.5\n",
      "Encoded Label: 20\n",
      "------------\n",
      "Original Class: 4.17\n",
      "Encoded Label: 12\n",
      "------------\n",
      "Original Class: 4.07\n",
      "Encoded Label: 9\n",
      "------------\n",
      "Original Class: 4.0\n",
      "Encoded Label: 8\n",
      "------------\n",
      "Original Class: 4.53\n",
      "Encoded Label: 21\n",
      "------------\n",
      "Original Class: 4.63\n",
      "Encoded Label: 23\n",
      "------------\n",
      "Original Class: 4.3\n",
      "Encoded Label: 16\n",
      "------------\n",
      "Original Class: 4.0\n",
      "Encoded Label: 8\n",
      "------------\n",
      "Original Class: 4.0\n",
      "Encoded Label: 8\n",
      "------------\n",
      "Original Class: 4.93\n",
      "Encoded Label: 31\n",
      "------------\n",
      "Original Class: 4.57\n",
      "Encoded Label: 22\n",
      "------------\n",
      "Original Class: 4.23\n",
      "Encoded Label: 14\n",
      "------------\n",
      "Original Class: 3.97\n",
      "Encoded Label: 7\n",
      "------------\n",
      "Original Class: 3.9\n",
      "Encoded Label: 6\n",
      "------------\n",
      "Original Class: 3.7\n",
      "Encoded Label: 4\n",
      "------------\n",
      "Original Class: 4.0\n",
      "Encoded Label: 8\n",
      "------------\n",
      "Original Class: 4.5\n",
      "Encoded Label: 20\n",
      "------------\n",
      "Original Class: 4.1\n",
      "Encoded Label: 10\n",
      "------------\n",
      "Original Class: 3.87\n",
      "Encoded Label: 5\n",
      "------------\n",
      "Original Class: 3.3\n",
      "Encoded Label: 0\n",
      "------------\n",
      "Original Class: 3.5\n",
      "Encoded Label: 3\n",
      "------------\n",
      "Original Class: 4.23\n",
      "Encoded Label: 14\n",
      "------------\n",
      "Original Class: 4.37\n",
      "Encoded Label: 17\n",
      "------------\n",
      "Original Class: 4.0\n",
      "Encoded Label: 8\n",
      "------------\n",
      "Original Class: 3.7\n",
      "Encoded Label: 4\n",
      "------------\n",
      "Original Class: 3.5\n",
      "Encoded Label: 3\n",
      "------------\n",
      "Original Class: 3.37\n",
      "Encoded Label: 1\n",
      "------------\n",
      "Original Class: 3.4\n",
      "Encoded Label: 2\n",
      "------------\n",
      "Original Class: 4.4\n",
      "Encoded Label: 18\n",
      "------------\n",
      "Original Class: 4.3\n",
      "Encoded Label: 16\n",
      "------------\n",
      "Original Class: 5.2\n",
      "Encoded Label: 36\n",
      "------------\n",
      "Original Class: 17.0\n",
      "Encoded Label: 86\n",
      "------------\n",
      "Original Class: 13.87\n",
      "Encoded Label: 85\n",
      "------------\n",
      "Original Class: 11.87\n",
      "Encoded Label: 84\n",
      "------------\n",
      "Original Class: 10.13\n",
      "Encoded Label: 83\n",
      "------------\n",
      "Original Class: 9.6\n",
      "Encoded Label: 81\n",
      "------------\n"
     ]
    }
   ],
   "source": [
    "for label, original_class in zip(encoded_y, y):\n",
    "    print('Original Class: ' + str(original_class))\n",
    "    print('Encoded Label: ' + str(label))\n",
    "    print('-' * 12)"
   ]
  },
  {
   "cell_type": "code",
   "execution_count": 10,
   "metadata": {},
   "outputs": [
    {
     "data": {
      "text/plain": [
       "array([83, 83, 82, 79, 77, 80, 80, 78, 73, 71, 72, 68, 77, 74, 69, 65, 67,\n",
       "       76, 75, 70, 67, 63, 58, 58, 65, 64, 59, 49, 51, 60, 61, 55, 48, 47,\n",
       "       45, 50, 66, 62, 56, 47, 52, 62, 60, 57, 54, 53, 46, 42, 52, 51, 44,\n",
       "       33, 37, 41, 43, 40, 34, 28, 25, 22, 38, 36, 28, 18, 26, 33, 29, 15,\n",
       "       12, 11, 13, 13, 30, 31, 28, 19, 14, 32, 30, 28, 29, 25, 18, 24, 39,\n",
       "       37, 27, 18, 20, 35, 33, 32, 20, 12,  9,  8, 21, 23, 16,  8,  8, 31,\n",
       "       22, 14,  7,  6,  4,  8, 20, 10,  5,  0,  3, 14, 17,  8,  4,  3,  1,\n",
       "        2, 18, 16, 36, 86, 85, 84, 83, 81], dtype=int64)"
      ]
     },
     "execution_count": 10,
     "metadata": {},
     "output_type": "execute_result"
    }
   ],
   "source": [
    "encoded_y"
   ]
  },
  {
   "cell_type": "code",
   "execution_count": 11,
   "metadata": {},
   "outputs": [],
   "source": [
    "encoded_y = encoded_y.reshape(-1,1)"
   ]
  },
  {
   "cell_type": "code",
   "execution_count": 12,
   "metadata": {},
   "outputs": [],
   "source": [
    "#from keras.utils import to_categorical\n",
    "#one_hot_y = to_categorical(encoded_y)\n",
    "#one_hot_y"
   ]
  },
  {
   "cell_type": "code",
   "execution_count": 13,
   "metadata": {},
   "outputs": [
    {
     "name": "stdout",
     "output_type": "stream",
     "text": [
      "(128, 3) (128,)\n"
     ]
    }
   ],
   "source": [
    "print(X.shape, y.shape)"
   ]
  },
  {
   "cell_type": "code",
   "execution_count": 14,
   "metadata": {},
   "outputs": [
    {
     "data": {
      "text/plain": [
       "(128, 1)"
      ]
     },
     "execution_count": 14,
     "metadata": {},
     "output_type": "execute_result"
    }
   ],
   "source": [
    "encoded_y.shape"
   ]
  },
  {
   "cell_type": "markdown",
   "metadata": {},
   "source": [
    "# Create a Train Test Split"
   ]
  },
  {
   "cell_type": "code",
   "execution_count": 15,
   "metadata": {},
   "outputs": [],
   "source": [
    "from sklearn.model_selection import train_test_split\n",
    "\n",
    "X_train, X_test, encoded_y_train, encoded_y_test = train_test_split(X, encoded_y, random_state=1)"
   ]
  },
  {
   "cell_type": "code",
   "execution_count": 16,
   "metadata": {},
   "outputs": [
    {
     "data": {
      "text/html": [
       "<div>\n",
       "<style scoped>\n",
       "    .dataframe tbody tr th:only-of-type {\n",
       "        vertical-align: middle;\n",
       "    }\n",
       "\n",
       "    .dataframe tbody tr th {\n",
       "        vertical-align: top;\n",
       "    }\n",
       "\n",
       "    .dataframe thead th {\n",
       "        text-align: right;\n",
       "    }\n",
       "</style>\n",
       "<table border=\"1\" class=\"dataframe\">\n",
       "  <thead>\n",
       "    <tr style=\"text-align: right;\">\n",
       "      <th></th>\n",
       "      <th>Cuy_Unpl</th>\n",
       "      <th>Franklin_Unpl</th>\n",
       "      <th>Butler_Unpl</th>\n",
       "    </tr>\n",
       "  </thead>\n",
       "  <tbody>\n",
       "    <tr>\n",
       "      <th>88</th>\n",
       "      <td>5.6</td>\n",
       "      <td>3.8</td>\n",
       "      <td>4.1</td>\n",
       "    </tr>\n",
       "    <tr>\n",
       "      <th>74</th>\n",
       "      <td>5.5</td>\n",
       "      <td>4.3</td>\n",
       "      <td>4.6</td>\n",
       "    </tr>\n",
       "    <tr>\n",
       "      <th>120</th>\n",
       "      <td>4.7</td>\n",
       "      <td>4.0</td>\n",
       "      <td>4.5</td>\n",
       "    </tr>\n",
       "    <tr>\n",
       "      <th>45</th>\n",
       "      <td>6.8</td>\n",
       "      <td>6.3</td>\n",
       "      <td>7.3</td>\n",
       "    </tr>\n",
       "    <tr>\n",
       "      <th>77</th>\n",
       "      <td>5.9</td>\n",
       "      <td>4.3</td>\n",
       "      <td>4.8</td>\n",
       "    </tr>\n",
       "  </tbody>\n",
       "</table>\n",
       "</div>"
      ],
      "text/plain": [
       "     Cuy_Unpl  Franklin_Unpl  Butler_Unpl\n",
       "88        5.6            3.8          4.1\n",
       "74        5.5            4.3          4.6\n",
       "120       4.7            4.0          4.5\n",
       "45        6.8            6.3          7.3\n",
       "77        5.9            4.3          4.8"
      ]
     },
     "execution_count": 16,
     "metadata": {},
     "output_type": "execute_result"
    }
   ],
   "source": [
    "X_train.head()"
   ]
  },
  {
   "cell_type": "code",
   "execution_count": 17,
   "metadata": {},
   "outputs": [
    {
     "name": "stdout",
     "output_type": "stream",
     "text": [
      "(96, 3) (96, 1)\n"
     ]
    }
   ],
   "source": [
    "print(X_train.shape, encoded_y_train.shape)"
   ]
  },
  {
   "cell_type": "code",
   "execution_count": 18,
   "metadata": {},
   "outputs": [],
   "source": [
    "#encoded_y_train.shape(128,1)"
   ]
  },
  {
   "cell_type": "markdown",
   "metadata": {},
   "source": [
    "# Pre-processing"
   ]
  },
  {
   "cell_type": "code",
   "execution_count": 19,
   "metadata": {},
   "outputs": [],
   "source": [
    "#Scale the data using the MinMaxScaler and perform some feature selection"
   ]
  },
  {
   "cell_type": "code",
   "execution_count": 20,
   "metadata": {},
   "outputs": [],
   "source": [
    "# Scale data\n",
    "from sklearn.preprocessing import MinMaxScaler\n",
    "X_scaler = MinMaxScaler().fit(X_train)\n",
    "#y_scaler = MinMaxScaler().fit (encoded_y_train)"
   ]
  },
  {
   "cell_type": "code",
   "execution_count": 21,
   "metadata": {},
   "outputs": [],
   "source": [
    "X_scaled_train = X_scaler.transform(X_train)\n",
    "X_scaled_test = X_scaler.transform(X_test)\n",
    "#y_scaled_train = y_scaler.transform(encoded_y_train)\n",
    "#y_scaled_test = y_scaler.transform(encoded_y_test)"
   ]
  },
  {
   "cell_type": "code",
   "execution_count": 22,
   "metadata": {},
   "outputs": [
    {
     "data": {
      "text/plain": [
       "array([[0.10824742, 0.0733945 , 0.09009009],\n",
       "       [0.10309278, 0.11926606, 0.13513514],\n",
       "       [0.06185567, 0.09174312, 0.12612613],\n",
       "       [0.17010309, 0.30275229, 0.37837838],\n",
       "       [0.12371134, 0.11926606, 0.15315315],\n",
       "       [0.03092784, 0.06422018, 0.07207207],\n",
       "       [0.10824742, 0.08256881, 0.11711712],\n",
       "       [0.08247423, 0.11009174, 0.15315315],\n",
       "       [0.20103093, 0.34862385, 0.44144144],\n",
       "       [0.10309278, 0.11009174, 0.15315315],\n",
       "       [0.17010309, 0.13761468, 0.16216216],\n",
       "       [0.22680412, 0.48623853, 0.57657658],\n",
       "       [0.09793814, 0.11009174, 0.15315315],\n",
       "       [0.1443299 , 0.27522936, 0.36036036],\n",
       "       [0.49484536, 0.55963303, 0.45945946],\n",
       "       [0.17010309, 0.32110092, 0.40540541],\n",
       "       [0.21134021, 0.4587156 , 0.55855856],\n",
       "       [0.41752577, 0.55963303, 0.45045045],\n",
       "       [0.1443299 , 0.28440367, 0.37837838],\n",
       "       [0.20618557, 0.40366972, 0.51351351],\n",
       "       [0.1185567 , 0.12844037, 0.15315315],\n",
       "       [0.13917526, 0.27522936, 0.34234234],\n",
       "       [0.11340206, 0.11926606, 0.15315315],\n",
       "       [0.07731959, 0.0733945 , 0.09009009],\n",
       "       [0.12886598, 0.11926606, 0.15315315],\n",
       "       [0.17010309, 0.30275229, 0.36936937],\n",
       "       [0.11340206, 0.12844037, 0.17117117],\n",
       "       [0.04123711, 0.08256881, 0.0990991 ],\n",
       "       [0.05670103, 0.0733945 , 0.09009009],\n",
       "       [0.16494845, 0.33027523, 0.44144144],\n",
       "       [0.12371134, 0.25688073, 0.34234234],\n",
       "       [0.08247423, 0.08256881, 0.0990991 ],\n",
       "       [0.0257732 , 0.01834862, 0.01801802],\n",
       "       [0.00515464, 0.01834862, 0.02702703],\n",
       "       [0.18556701, 0.41284404, 0.5045045 ],\n",
       "       [0.21649485, 0.36697248, 0.45045045],\n",
       "       [0.1443299 , 0.1559633 , 0.18918919],\n",
       "       [0.18041237, 0.33944954, 0.45045045],\n",
       "       [0.18041237, 0.32110092, 0.3963964 ],\n",
       "       [0.19587629, 0.39449541, 0.5045045 ],\n",
       "       [0.06701031, 0.08256881, 0.11711712],\n",
       "       [0.1185567 , 0.11009174, 0.13513514],\n",
       "       [0.13402062, 0.12844037, 0.15315315],\n",
       "       [0.21134021, 0.25688073, 0.32432432],\n",
       "       [0.18556701, 0.39449541, 0.4954955 ],\n",
       "       [0.04123711, 0.08256881, 0.11711712],\n",
       "       [0.25773196, 0.55963303, 0.63963964],\n",
       "       [0.03608247, 0.0733945 , 0.08108108],\n",
       "       [0.20103093, 0.34862385, 0.45945946],\n",
       "       [0.75257732, 0.78899083, 0.79279279],\n",
       "       [0.1443299 , 0.21100917, 0.28828829],\n",
       "       [0.05154639, 0.05504587, 0.07207207],\n",
       "       [0.2371134 , 0.49541284, 0.57657658],\n",
       "       [0.09793814, 0.11009174, 0.12612613],\n",
       "       [0.12371134, 0.17431193, 0.22522523],\n",
       "       [0.29896907, 0.63302752, 0.72972973],\n",
       "       [0.        , 0.03669725, 0.04504505],\n",
       "       [0.09278351, 0.11926606, 0.15315315],\n",
       "       [0.15979381, 0.33944954, 0.44144144],\n",
       "       [0.13402062, 0.12844037, 0.18018018],\n",
       "       [0.07731959, 0.08256881, 0.10810811],\n",
       "       [0.25257732, 0.52293578, 0.6036036 ],\n",
       "       [1.        , 1.        , 1.        ],\n",
       "       [0.25257732, 0.47706422, 0.58558559],\n",
       "       [0.12371134, 0.10091743, 0.10810811],\n",
       "       [0.08247423, 0.09174312, 0.12612613],\n",
       "       [0.05154639, 0.06422018, 0.08108108],\n",
       "       [0.06185567, 0.04587156, 0.06306306],\n",
       "       [0.09793814, 0.06422018, 0.09009009],\n",
       "       [0.05154639, 0.0733945 , 0.0990991 ],\n",
       "       [0.01546392, 0.        , 0.        ],\n",
       "       [0.21134021, 0.44954128, 0.54954955],\n",
       "       [0.20618557, 0.33944954, 0.44144144],\n",
       "       [0.16494845, 0.28440367, 0.37837838],\n",
       "       [0.20618557, 0.44954128, 0.54054054],\n",
       "       [0.14948454, 0.16513761, 0.1981982 ],\n",
       "       [0.24226804, 0.49541284, 0.6036036 ],\n",
       "       [0.10824742, 0.12844037, 0.15315315],\n",
       "       [0.20618557, 0.43119266, 0.53153153],\n",
       "       [0.17010309, 0.22018349, 0.27027027],\n",
       "       [0.21649485, 0.37614679, 0.47747748],\n",
       "       [0.27835052, 0.55045872, 0.63063063],\n",
       "       [0.06701031, 0.05504587, 0.07207207],\n",
       "       [0.04639175, 0.08256881, 0.10810811],\n",
       "       [0.08247423, 0.06422018, 0.07207207],\n",
       "       [0.31958763, 0.6146789 , 0.71171171],\n",
       "       [0.20618557, 0.43119266, 0.53153153],\n",
       "       [0.10824742, 0.10091743, 0.12612613],\n",
       "       [0.10824742, 0.11009174, 0.13513514],\n",
       "       [0.27835052, 0.55045872, 0.63063063],\n",
       "       [0.08247423, 0.08256881, 0.10810811],\n",
       "       [0.21649485, 0.48623853, 0.56756757],\n",
       "       [0.08247423, 0.13761468, 0.17117117],\n",
       "       [0.24226804, 0.51376147, 0.62162162],\n",
       "       [0.03608247, 0.0733945 , 0.08108108],\n",
       "       [0.22164948, 0.35779817, 0.45045045]])"
      ]
     },
     "execution_count": 22,
     "metadata": {},
     "output_type": "execute_result"
    }
   ],
   "source": [
    "X_scaled_train"
   ]
  },
  {
   "cell_type": "code",
   "execution_count": 23,
   "metadata": {},
   "outputs": [
    {
     "data": {
      "text/plain": [
       "array([20, 28, 18, 53, 32,  6, 23, 25, 60, 29, 37, 72, 28, 48, 83, 56, 70,\n",
       "       81, 49, 66, 32, 47, 31, 16, 33, 52, 33, 11, 12, 58, 45, 18,  3,  2,\n",
       "       65, 62, 37, 59, 57, 65, 17, 30, 35, 51, 63, 13, 79,  8, 61, 85, 42,\n",
       "        8, 73, 25, 38, 83,  3, 28, 58, 36, 18, 78, 86, 74, 27, 21,  9,  8,\n",
       "       18, 12,  0, 69, 60, 51, 68, 39, 75, 31, 67, 44, 64, 80, 10, 13, 14,\n",
       "       83, 67, 26, 28, 80, 19, 71, 30, 77,  8, 62], dtype=int64)"
      ]
     },
     "execution_count": 23,
     "metadata": {},
     "output_type": "execute_result"
    }
   ],
   "source": [
    "encoded_y_train.ravel()"
   ]
  },
  {
   "cell_type": "code",
   "execution_count": 24,
   "metadata": {},
   "outputs": [
    {
     "name": "stdout",
     "output_type": "stream",
     "text": [
      "(96, 3) (96, 1)\n"
     ]
    }
   ],
   "source": [
    "print(X_scaled_train.shape, encoded_y_train.shape)"
   ]
  },
  {
   "cell_type": "markdown",
   "metadata": {},
   "source": [
    "# Train the Model"
   ]
  },
  {
   "cell_type": "code",
   "execution_count": 25,
   "metadata": {},
   "outputs": [],
   "source": [
    "encoded_y_train = encoded_y_train.ravel()"
   ]
  },
  {
   "cell_type": "code",
   "execution_count": 26,
   "metadata": {},
   "outputs": [],
   "source": [
    "# Support vector machine linear classifier\n",
    "from sklearn.svm import SVC \n",
    "model = SVC(kernel='linear')\n",
    "model.fit(X_scaled_train, encoded_y_train.ravel())\n",
    "lsvc = model.fit(X_scaled_train, encoded_y_train.ravel())"
   ]
  },
  {
   "cell_type": "code",
   "execution_count": 27,
   "metadata": {},
   "outputs": [
    {
     "name": "stdout",
     "output_type": "stream",
     "text": [
      "Training Data Score: 0.15625\n",
      "Testing Data Score: 0.03125\n"
     ]
    }
   ],
   "source": [
    "print(f\"Training Data Score: {model.score(X_scaled_train, encoded_y_train)}\")\n",
    "print(f\"Testing Data Score: {model.score(X_scaled_test, encoded_y_test)}\")"
   ]
  },
  {
   "cell_type": "code",
   "execution_count": 28,
   "metadata": {},
   "outputs": [
    {
     "data": {
      "text/plain": [
       "array([ 0.01030928, -0.01834862, -0.02702703])"
      ]
     },
     "execution_count": 28,
     "metadata": {},
     "output_type": "execute_result"
    }
   ],
   "source": [
    "model.coef_[0]"
   ]
  },
  {
   "cell_type": "code",
   "execution_count": 29,
   "metadata": {},
   "outputs": [
    {
     "name": "stdout",
     "output_type": "stream",
     "text": [
      "[[ 0.01030928 -0.01834862 -0.02702703]\n",
      " [-0.01030928 -0.01834862 -0.01801802]\n",
      " [-0.01546392 -0.06422018 -0.07207207]\n",
      " ...\n",
      " [-0.35049294 -0.20022294 -0.19982045]\n",
      " [-0.63484908 -0.39963186 -0.35386852]\n",
      " [-0.24742268 -0.21100917 -0.20720721]] ['Cuy_Unpl', 'Franklin_Unpl', 'Butler_Unpl']\n"
     ]
    }
   ],
   "source": [
    "print(model.coef_, columns)\n"
   ]
  },
  {
   "cell_type": "code",
   "execution_count": 30,
   "metadata": {},
   "outputs": [],
   "source": [
    "def plot_coefficients(classifier, feature_names, top_features=40, class_num =1):\n",
    "\n",
    "    coef = classifier.coef_[class_num].ravel()\n",
    "    print(\"classifier.coef type\",type(classifier.coef_))\n",
    "    print(\"classifier.coef\", classifier.coef_)\n",
    "    print(\"type coef\",type(coef))\n",
    "    print(\"len(coeff)\", len(coef))\n",
    "    print(\"coef\",coef)\n",
    "    print(\"argsrt(coeff)\",np.argsort(coef))\n",
    "    top_positive_coefficients = np.argsort(coef)[-top_features:]\n",
    "    print(len(top_positive_coefficients))\n",
    "    print(type(top_positive_coefficients))\n",
    "    print(top_positive_coefficients)\n",
    "    top_negative_coefficients = np.argsort(coef)[:top_features]\n",
    "    print(top_negative_coefficients)\n",
    "    top_coefficients = np.hstack([top_negative_coefficients, top_positive_coefficients])\n",
    "    print(top_coefficients)\n",
    "    print(np.array(feature_names))\n",
    "    #print(np.array(feature_names)[top_coefficients])\n",
    "    #x_labels = np.array(feature_names)[top_coefficients]\n",
    "    \n",
    " # create plot\n",
    "    plt.figure(figsize=(15, 5))\n",
    "    colors = ['red' if c < 0 else 'blue' for c in coef[top_coefficients]]\n",
    "    print(\"coef[top_coefficients]\",coef[top_coefficients])\n",
    "    #print(feature_names[top_coefficients])\n",
    "    plt.bar(np.arange(2 * top_features), coef[top_coefficients], color=colors)\n",
    "    feature_names = np.array(feature_names)\n",
    "    print(\"feature names\",feature_names)\n",
    "    print(\"top coefficients\", top_coefficients)\n",
    "    print(\"feature_name_top\", feature_names[top_coefficients])\n",
    "    features = feature_names[top_coefficients]\n",
    "    plt.xticks(np.arange(1, 1 + 2 * top_features), features, rotation=60, ha='right')\n",
    "    plt.show()"
   ]
  },
  {
   "cell_type": "code",
   "execution_count": 31,
   "metadata": {},
   "outputs": [],
   "source": [
    "df_coef_1 = model.coef_[0]"
   ]
  },
  {
   "cell_type": "code",
   "execution_count": 32,
   "metadata": {},
   "outputs": [
    {
     "name": "stdout",
     "output_type": "stream",
     "text": [
      "3\n",
      "3\n",
      "['butler_unpl', 'cuy_unpl', 'franklin_unpl']\n"
     ]
    }
   ],
   "source": [
    "cv = CountVectorizer()\n",
    "cv.fit(selected_features)\n",
    "print (len(cv.vocabulary_))\n",
    "print(len(cv.get_feature_names()))\n",
    "print (cv.get_feature_names())"
   ]
  },
  {
   "cell_type": "code",
   "execution_count": 33,
   "metadata": {},
   "outputs": [
    {
     "name": "stdout",
     "output_type": "stream",
     "text": [
      "classifier.coef type <class 'numpy.ndarray'>\n",
      "classifier.coef [[ 0.01030928 -0.01834862 -0.02702703]\n",
      " [-0.01030928 -0.01834862 -0.01801802]\n",
      " [-0.01546392 -0.06422018 -0.07207207]\n",
      " ...\n",
      " [-0.35049294 -0.20022294 -0.19982045]\n",
      " [-0.63484908 -0.39963186 -0.35386852]\n",
      " [-0.24742268 -0.21100917 -0.20720721]]\n",
      "type coef <class 'numpy.ndarray'>\n",
      "len(coeff) 3\n",
      "coef [ 0.01030928 -0.01834862 -0.02702703]\n",
      "argsrt(coeff) [2 1 0]\n",
      "3\n",
      "<class 'numpy.ndarray'>\n",
      "[2 1 0]\n",
      "[2 1 0]\n",
      "[2 1 0 2 1 0]\n",
      "['butler_unpl' 'cuy_unpl' 'franklin_unpl']\n",
      "coef[top_coefficients] [-0.02702703 -0.01834862  0.01030928 -0.02702703 -0.01834862  0.01030928]\n",
      "feature names ['butler_unpl' 'cuy_unpl' 'franklin_unpl']\n",
      "top coefficients [2 1 0 2 1 0]\n",
      "feature_name_top ['franklin_unpl' 'cuy_unpl' 'butler_unpl' 'franklin_unpl' 'cuy_unpl'\n",
      " 'butler_unpl']\n"
     ]
    },
    {
     "data": {
      "image/png": "[encoded data removed]",
      "text/plain": [
       "<Figure size 1080x360 with 1 Axes>"
      ]
     },
     "metadata": {
      "needs_background": "light"
     },
     "output_type": "display_data"
    }
   ],
   "source": [
    "plot_coefficients(model, cv.get_feature_names(), 3,0)"
   ]
  },
  {
   "cell_type": "code",
   "execution_count": 34,
   "metadata": {},
   "outputs": [
    {
     "name": "stdout",
     "output_type": "stream",
     "text": [
      "classifier.coef type <class 'numpy.ndarray'>\n",
      "classifier.coef [[ 0.01030928 -0.01834862 -0.02702703]\n",
      " [-0.01030928 -0.01834862 -0.01801802]\n",
      " [-0.01546392 -0.06422018 -0.07207207]\n",
      " ...\n",
      " [-0.35049294 -0.20022294 -0.19982045]\n",
      " [-0.63484908 -0.39963186 -0.35386852]\n",
      " [-0.24742268 -0.21100917 -0.20720721]]\n",
      "type coef <class 'numpy.ndarray'>\n",
      "len(coeff) 3\n",
      "coef [-0.01030928 -0.01834862 -0.01801802]\n",
      "argsrt(coeff) [1 2 0]\n",
      "3\n",
      "<class 'numpy.ndarray'>\n",
      "[1 2 0]\n",
      "[1 2 0]\n",
      "[1 2 0 1 2 0]\n",
      "['butler_unpl' 'cuy_unpl' 'franklin_unpl']\n",
      "coef[top_coefficients] [-0.01834862 -0.01801802 -0.01030928 -0.01834862 -0.01801802 -0.01030928]\n",
      "feature names ['butler_unpl' 'cuy_unpl' 'franklin_unpl']\n",
      "top coefficients [1 2 0 1 2 0]\n",
      "feature_name_top ['cuy_unpl' 'franklin_unpl' 'butler_unpl' 'cuy_unpl' 'franklin_unpl'\n",
      " 'butler_unpl']\n"
     ]
    },
    {
     "data": {
      "image/png": "[encoded data removed]",
      "text/plain": [
       "<Figure size 1080x360 with 1 Axes>"
      ]
     },
     "metadata": {
      "needs_background": "light"
     },
     "output_type": "display_data"
    }
   ],
   "source": [
    "plot_coefficients(model, cv.get_feature_names(), 3, 1)"
   ]
  },
  {
   "cell_type": "code",
   "execution_count": 35,
   "metadata": {},
   "outputs": [
    {
     "name": "stdout",
     "output_type": "stream",
     "text": [
      "classifier.coef type <class 'numpy.ndarray'>\n",
      "classifier.coef [[ 0.01030928 -0.01834862 -0.02702703]\n",
      " [-0.01030928 -0.01834862 -0.01801802]\n",
      " [-0.01546392 -0.06422018 -0.07207207]\n",
      " ...\n",
      " [-0.35049294 -0.20022294 -0.19982045]\n",
      " [-0.63484908 -0.39963186 -0.35386852]\n",
      " [-0.24742268 -0.21100917 -0.20720721]]\n",
      "type coef <class 'numpy.ndarray'>\n",
      "len(coeff) 3\n",
      "coef [-0.01546392 -0.06422018 -0.07207207]\n",
      "argsrt(coeff) [2 1 0]\n",
      "3\n",
      "<class 'numpy.ndarray'>\n",
      "[2 1 0]\n",
      "[2 1 0]\n",
      "[2 1 0 2 1 0]\n",
      "['butler_unpl' 'cuy_unpl' 'franklin_unpl']\n",
      "coef[top_coefficients] [-0.07207207 -0.06422018 -0.01546392 -0.07207207 -0.06422018 -0.01546392]\n",
      "feature names ['butler_unpl' 'cuy_unpl' 'franklin_unpl']\n",
      "top coefficients [2 1 0 2 1 0]\n",
      "feature_name_top ['franklin_unpl' 'cuy_unpl' 'butler_unpl' 'franklin_unpl' 'cuy_unpl'\n",
      " 'butler_unpl']\n"
     ]
    },
    {
     "data": {
      "image/png": "[encoded data removed]",
      "text/plain": [
       "<Figure size 1080x360 with 1 Axes>"
      ]
     },
     "metadata": {
      "needs_background": "light"
     },
     "output_type": "display_data"
    }
   ],
   "source": [
    "plot_coefficients(model, cv.get_feature_names(), 3, 2)"
   ]
  },
  {
   "cell_type": "code",
   "execution_count": 36,
   "metadata": {},
   "outputs": [],
   "source": [
    "def f_importances(coef, names):\n",
    "    imp = coef\n",
    "    print(imp)\n",
    "    print(names)\n",
    "    imp,names = zip(*sorted(zip(imp,names)))\n",
    "    plt.barh(range(len(names)), imp, align='center')\n",
    "    plt.yticks(range(len(names)), names)\n",
    "    plt.show()"
   ]
  },
  {
   "cell_type": "code",
   "execution_count": 37,
   "metadata": {},
   "outputs": [
    {
     "data": {
      "text/html": [
       "<div>\n",
       "<style scoped>\n",
       "    .dataframe tbody tr th:only-of-type {\n",
       "        vertical-align: middle;\n",
       "    }\n",
       "\n",
       "    .dataframe tbody tr th {\n",
       "        vertical-align: top;\n",
       "    }\n",
       "\n",
       "    .dataframe thead th {\n",
       "        text-align: right;\n",
       "    }\n",
       "</style>\n",
       "<table border=\"1\" class=\"dataframe\">\n",
       "  <thead>\n",
       "    <tr style=\"text-align: right;\">\n",
       "      <th></th>\n",
       "      <th>index</th>\n",
       "      <th>coef</th>\n",
       "      <th>abs(coef_)</th>\n",
       "      <th>name</th>\n",
       "    </tr>\n",
       "  </thead>\n",
       "  <tbody>\n",
       "    <tr>\n",
       "      <th>0</th>\n",
       "      <td>2</td>\n",
       "      <td>-0.027027</td>\n",
       "      <td>0.027027</td>\n",
       "      <td>Butler_Unpl</td>\n",
       "    </tr>\n",
       "    <tr>\n",
       "      <th>1</th>\n",
       "      <td>1</td>\n",
       "      <td>-0.018349</td>\n",
       "      <td>0.018349</td>\n",
       "      <td>Franklin_Unpl</td>\n",
       "    </tr>\n",
       "    <tr>\n",
       "      <th>2</th>\n",
       "      <td>0</td>\n",
       "      <td>0.010309</td>\n",
       "      <td>0.010309</td>\n",
       "      <td>Cuy_Unpl</td>\n",
       "    </tr>\n",
       "  </tbody>\n",
       "</table>\n",
       "</div>"
      ],
      "text/plain": [
       "   index      coef  abs(coef_)           name\n",
       "0      2 -0.027027    0.027027    Butler_Unpl\n",
       "1      1 -0.018349    0.018349  Franklin_Unpl\n",
       "2      0  0.010309    0.010309       Cuy_Unpl"
      ]
     },
     "execution_count": 37,
     "metadata": {},
     "output_type": "execute_result"
    }
   ],
   "source": [
    "df_coef_0 = pd.DataFrame({'coef' : model.coef_[0],'abs(coef_)': abs(model.coef_[0]), 'name': columns})\n",
    "df_coef_0=df_coef_0.sort_values('abs(coef_)', ascending = False)[-20:].reset_index()\n",
    "df_coef_0"
   ]
  },
  {
   "cell_type": "code",
   "execution_count": 38,
   "metadata": {},
   "outputs": [
    {
     "data": {
      "text/html": [
       "<div>\n",
       "<style scoped>\n",
       "    .dataframe tbody tr th:only-of-type {\n",
       "        vertical-align: middle;\n",
       "    }\n",
       "\n",
       "    .dataframe tbody tr th {\n",
       "        vertical-align: top;\n",
       "    }\n",
       "\n",
       "    .dataframe thead th {\n",
       "        text-align: right;\n",
       "    }\n",
       "</style>\n",
       "<table border=\"1\" class=\"dataframe\">\n",
       "  <thead>\n",
       "    <tr style=\"text-align: right;\">\n",
       "      <th></th>\n",
       "      <th>index</th>\n",
       "      <th>coef</th>\n",
       "      <th>abs(coef_)</th>\n",
       "      <th>name</th>\n",
       "    </tr>\n",
       "  </thead>\n",
       "  <tbody>\n",
       "    <tr>\n",
       "      <th>0</th>\n",
       "      <td>1</td>\n",
       "      <td>-0.018349</td>\n",
       "      <td>0.018349</td>\n",
       "      <td>Franklin_Unpl</td>\n",
       "    </tr>\n",
       "    <tr>\n",
       "      <th>1</th>\n",
       "      <td>2</td>\n",
       "      <td>-0.018018</td>\n",
       "      <td>0.018018</td>\n",
       "      <td>Butler_Unpl</td>\n",
       "    </tr>\n",
       "    <tr>\n",
       "      <th>2</th>\n",
       "      <td>0</td>\n",
       "      <td>-0.010309</td>\n",
       "      <td>0.010309</td>\n",
       "      <td>Cuy_Unpl</td>\n",
       "    </tr>\n",
       "  </tbody>\n",
       "</table>\n",
       "</div>"
      ],
      "text/plain": [
       "   index      coef  abs(coef_)           name\n",
       "0      1 -0.018349    0.018349  Franklin_Unpl\n",
       "1      2 -0.018018    0.018018    Butler_Unpl\n",
       "2      0 -0.010309    0.010309       Cuy_Unpl"
      ]
     },
     "execution_count": 38,
     "metadata": {},
     "output_type": "execute_result"
    }
   ],
   "source": [
    "df_coef_1 = pd.DataFrame({'coef' : model.coef_[1],'abs(coef_)': abs(model.coef_[1]), 'name': columns})\n",
    "df_coef_1=df_coef_1.sort_values('abs(coef_)', ascending = False)[-20:].reset_index()\n",
    "df_coef_1"
   ]
  },
  {
   "cell_type": "code",
   "execution_count": 39,
   "metadata": {},
   "outputs": [
    {
     "data": {
      "text/html": [
       "<div>\n",
       "<style scoped>\n",
       "    .dataframe tbody tr th:only-of-type {\n",
       "        vertical-align: middle;\n",
       "    }\n",
       "\n",
       "    .dataframe tbody tr th {\n",
       "        vertical-align: top;\n",
       "    }\n",
       "\n",
       "    .dataframe thead th {\n",
       "        text-align: right;\n",
       "    }\n",
       "</style>\n",
       "<table border=\"1\" class=\"dataframe\">\n",
       "  <thead>\n",
       "    <tr style=\"text-align: right;\">\n",
       "      <th></th>\n",
       "      <th>index</th>\n",
       "      <th>coef</th>\n",
       "      <th>abs(coef_)</th>\n",
       "      <th>name</th>\n",
       "    </tr>\n",
       "  </thead>\n",
       "  <tbody>\n",
       "    <tr>\n",
       "      <th>0</th>\n",
       "      <td>2</td>\n",
       "      <td>-0.072072</td>\n",
       "      <td>0.072072</td>\n",
       "      <td>Butler_Unpl</td>\n",
       "    </tr>\n",
       "    <tr>\n",
       "      <th>1</th>\n",
       "      <td>1</td>\n",
       "      <td>-0.064220</td>\n",
       "      <td>0.064220</td>\n",
       "      <td>Franklin_Unpl</td>\n",
       "    </tr>\n",
       "    <tr>\n",
       "      <th>2</th>\n",
       "      <td>0</td>\n",
       "      <td>-0.015464</td>\n",
       "      <td>0.015464</td>\n",
       "      <td>Cuy_Unpl</td>\n",
       "    </tr>\n",
       "  </tbody>\n",
       "</table>\n",
       "</div>"
      ],
      "text/plain": [
       "   index      coef  abs(coef_)           name\n",
       "0      2 -0.072072    0.072072    Butler_Unpl\n",
       "1      1 -0.064220    0.064220  Franklin_Unpl\n",
       "2      0 -0.015464    0.015464       Cuy_Unpl"
      ]
     },
     "execution_count": 39,
     "metadata": {},
     "output_type": "execute_result"
    }
   ],
   "source": [
    "df_coef_2 = pd.DataFrame({'coef' : model.coef_[2],'abs(coef_)': abs(model.coef_[2]), 'name': columns})\n",
    "df_coef_2=df_coef_2.sort_values('abs(coef_)', ascending = False)[-20:].reset_index()\n",
    "df_coef_2"
   ]
  },
  {
   "cell_type": "code",
   "execution_count": 40,
   "metadata": {},
   "outputs": [],
   "source": [
    "#out of the bottom 20 coefficients in each of the 3 classes these below are the ones common to all three.\n",
    "df_least_important = df_coef_0.merge(df_coef_1, on = 'name', how = 'inner').merge(df_coef_2, on = 'name', how = 'inner')"
   ]
  },
  {
   "cell_type": "code",
   "execution_count": 41,
   "metadata": {},
   "outputs": [
    {
     "data": {
      "text/plain": [
       "['Butler_Unpl', 'Franklin_Unpl', 'Cuy_Unpl']"
      ]
     },
     "execution_count": 41,
     "metadata": {},
     "output_type": "execute_result"
    }
   ],
   "source": [
    "least_important_list = df_least_important['name'].to_list()\n",
    "least_important_list"
   ]
  },
  {
   "cell_type": "code",
   "execution_count": 42,
   "metadata": {},
   "outputs": [
    {
     "name": "stdout",
     "output_type": "stream",
     "text": [
      "[ 0.01030928 -0.01834862 -0.02702703]\n",
      "['Cuy_Unpl', 'Franklin_Unpl', 'Butler_Unpl']\n"
     ]
    },
    {
     "data": {
      "image/png": "[encoded data removed]",
      "text/plain": [
       "<Figure size 432x288 with 1 Axes>"
      ]
     },
     "metadata": {
      "needs_background": "light"
     },
     "output_type": "display_data"
    }
   ],
   "source": [
    "f_importances(model.coef_[0], columns)"
   ]
  },
  {
   "cell_type": "code",
   "execution_count": 43,
   "metadata": {},
   "outputs": [
    {
     "data": {
      "text/plain": [
       "3"
      ]
     },
     "execution_count": 43,
     "metadata": {},
     "output_type": "execute_result"
    }
   ],
   "source": [
    "len(columns)"
   ]
  },
  {
   "cell_type": "code",
   "execution_count": 44,
   "metadata": {},
   "outputs": [
    {
     "data": {
      "text/plain": [
       "<matplotlib.axes._subplots.AxesSubplot at 0x22c6cf8a088>"
      ]
     },
     "execution_count": 44,
     "metadata": {},
     "output_type": "execute_result"
    },
    {
     "data": {
      "image/png": "[encoded data removed]",
      "text/plain": [
       "<Figure size 432x288 with 1 Axes>"
      ]
     },
     "metadata": {
      "needs_background": "light"
     },
     "output_type": "display_data"
    }
   ],
   "source": [
    "pd.Series(abs(model.coef_[0]), index=columns).nlargest(30).plot(kind='barh')"
   ]
  },
  {
   "cell_type": "code",
   "execution_count": 45,
   "metadata": {},
   "outputs": [
    {
     "data": {
      "text/plain": [
       "array([[ 9.9, 11.2],\n",
       "       [ 9.7, 11. ],\n",
       "       [ 9.6, 10.8],\n",
       "       [ 9.1, 10.2],\n",
       "       [ 8.7,  9.7],\n",
       "       [ 9. , 10.1],\n",
       "       [ 9. , 10.1],\n",
       "       [ 8.7,  9.8],\n",
       "       [ 8.4,  9.5],\n",
       "       [ 8.3,  9.4],\n",
       "       [ 8.3,  9.5],\n",
       "       [ 7.9,  9.1],\n",
       "       [ 8.6, 10. ],\n",
       "       [ 8.2,  9.6],\n",
       "       [ 7.9,  9.2],\n",
       "       [ 7.5,  8.7],\n",
       "       [ 7.7,  9. ],\n",
       "       [ 8.4,  9.8],\n",
       "       [ 8.4,  9.8],\n",
       "       [ 8. ,  9.3],\n",
       "       [ 7.7,  9. ],\n",
       "       [ 7.3,  8.6],\n",
       "       [ 6.7,  8. ],\n",
       "       [ 6.6,  8. ],\n",
       "       [ 7.3,  8.7],\n",
       "       [ 7.1,  8.4],\n",
       "       [ 6.7,  8.1],\n",
       "       [ 6.1,  7.3],\n",
       "       [ 6.1,  7.3],\n",
       "       [ 6.7,  8. ],\n",
       "       [ 6.8,  8.2],\n",
       "       [ 6.4,  7.5],\n",
       "       [ 6. ,  7.1],\n",
       "       [ 5.9,  7. ],\n",
       "       [ 5.8,  6.9],\n",
       "       [ 6.1,  7.4],\n",
       "       [ 7.4,  8.8],\n",
       "       [ 6.9,  8.1],\n",
       "       [ 6.5,  7.6],\n",
       "       [ 6. ,  6.9],\n",
       "       [ 6.3,  7.2],\n",
       "       [ 7. ,  8.1],\n",
       "       [ 6.8,  8. ],\n",
       "       [ 6.5,  7.5],\n",
       "       [ 6.5,  7.3],\n",
       "       [ 6.3,  7.3],\n",
       "       [ 5.8,  6.7],\n",
       "       [ 5.3,  6.3],\n",
       "       [ 6.1,  7. ],\n",
       "       [ 5.8,  6.7],\n",
       "       [ 5.4,  6.1],\n",
       "       [ 4.4,  5. ],\n",
       "       [ 4.7,  5.2],\n",
       "       [ 5.1,  5.8],\n",
       "       [ 5.2,  6. ],\n",
       "       [ 4.9,  5.5],\n",
       "       [ 4.6,  5.1],\n",
       "       [ 4.3,  4.8],\n",
       "       [ 4.2,  4.8],\n",
       "       [ 4. ,  4.6],\n",
       "       [ 4.9,  5.6],\n",
       "       [ 4.4,  5.1],\n",
       "       [ 4.2,  4.8],\n",
       "       [ 3.9,  4.3],\n",
       "       [ 4.1,  4.5],\n",
       "       [ 4.4,  5. ],\n",
       "       [ 4.2,  4.8],\n",
       "       [ 3.8,  4.2],\n",
       "       [ 3.8,  4.2],\n",
       "       [ 3.9,  4.2],\n",
       "       [ 3.9,  4.4],\n",
       "       [ 3.9,  4.3],\n",
       "       [ 4.5,  5. ],\n",
       "       [ 4.3,  4.8],\n",
       "       [ 4.3,  4.6],\n",
       "       [ 3.9,  4.3],\n",
       "       [ 3.7,  3.9],\n",
       "       [ 4.3,  4.8],\n",
       "       [ 4.2,  4.6],\n",
       "       [ 4.2,  4.6],\n",
       "       [ 4.3,  4.7],\n",
       "       [ 4.2,  4.5],\n",
       "       [ 3.9,  4.2],\n",
       "       [ 4.1,  4.4],\n",
       "       [ 4.8,  5.3],\n",
       "       [ 4.5,  4.9],\n",
       "       [ 4.1,  4.3],\n",
       "       [ 3.7,  4.1],\n",
       "       [ 3.8,  4.1],\n",
       "       [ 4.4,  4.8],\n",
       "       [ 4.3,  4.8],\n",
       "       [ 4.4,  4.8],\n",
       "       [ 4. ,  4.3],\n",
       "       [ 3.8,  4.1],\n",
       "       [ 3.7,  4. ],\n",
       "       [ 3.6,  3.9],\n",
       "       [ 4. ,  4.5],\n",
       "       [ 3.9,  4.4],\n",
       "       [ 3.8,  4.1],\n",
       "       [ 3.6,  3.8],\n",
       "       [ 3.5,  3.8],\n",
       "       [ 4.4,  4.8],\n",
       "       [ 4. ,  4.5],\n",
       "       [ 3.9,  4.1],\n",
       "       [ 3.7,  3.9],\n",
       "       [ 3.7,  3.9],\n",
       "       [ 3.5,  3.7],\n",
       "       [ 3.8,  4. ],\n",
       "       [ 4.2,  4.5],\n",
       "       [ 3.6,  3.9],\n",
       "       [ 3.5,  3.7],\n",
       "       [ 3. ,  3.1],\n",
       "       [ 3.2,  3.3],\n",
       "       [ 3.8,  4.2],\n",
       "       [ 3.9,  4.4],\n",
       "       [ 3.8,  4. ],\n",
       "       [ 3.5,  3.7],\n",
       "       [ 3.4,  3.6],\n",
       "       [ 3.2,  3.4],\n",
       "       [ 3.2,  3.4],\n",
       "       [ 4. ,  4.5],\n",
       "       [ 3.7,  4.1],\n",
       "       [ 4. ,  4.4],\n",
       "       [13.9, 14.2],\n",
       "       [11.6, 11.9],\n",
       "       [10.6,  9.8],\n",
       "       [ 9.1,  8.2],\n",
       "       [ 9.1,  8.1]])"
      ]
     },
     "execution_count": 45,
     "metadata": {},
     "output_type": "execute_result"
    }
   ],
   "source": [
    "from sklearn.feature_selection import SelectFromModel\n",
    "model1 = SelectFromModel(lsvc, prefit=True)\n",
    "X_new = model1.transform(X)\n",
    "X_new"
   ]
  },
  {
   "cell_type": "markdown",
   "metadata": {},
   "source": [
    "# Hyperparameter Tuning"
   ]
  },
  {
   "cell_type": "code",
   "execution_count": 46,
   "metadata": {},
   "outputs": [],
   "source": [
    "# Use GridSearchCV to tune the model's parameters"
   ]
  },
  {
   "cell_type": "code",
   "execution_count": 47,
   "metadata": {},
   "outputs": [],
   "source": [
    "# Create the GridSearchCV model\n",
    "from sklearn.model_selection import GridSearchCV\n",
    "param_grid = {'C': [3,30, 31, 20,10, 11, 12, 13],\n",
    "              'gamma': [1e-16, 1e-15,1e-14,1e-13]}\n",
    "grid = GridSearchCV (model, param_grid, n_jobs = 5, verbose=3)"
   ]
  },
  {
   "cell_type": "code",
   "execution_count": 48,
   "metadata": {},
   "outputs": [
    {
     "name": "stdout",
     "output_type": "stream",
     "text": [
      "Fitting 5 folds for each of 32 candidates, totalling 160 fits\n"
     ]
    },
    {
     "ename": "ValueError",
     "evalue": "n_splits=5 cannot be greater than the number of members in each class.",
     "output_type": "error",
     "traceback": [
      "\u001b[1;31m---------------------------------------------------------------------------\u001b[0m",
      "\u001b[1;31mValueError\u001b[0m                                Traceback (most recent call last)",
      "\u001b[1;32m<ipython-input-48-1cd85303160e>\u001b[0m in \u001b[0;36m<module>\u001b[1;34m\u001b[0m\n\u001b[0;32m      1\u001b[0m \u001b[1;31m# Train the model with GridSearch\u001b[0m\u001b[1;33m\u001b[0m\u001b[1;33m\u001b[0m\u001b[1;33m\u001b[0m\u001b[0m\n\u001b[1;32m----> 2\u001b[1;33m \u001b[0mgrid\u001b[0m\u001b[1;33m.\u001b[0m\u001b[0mfit\u001b[0m\u001b[1;33m(\u001b[0m\u001b[0mX_scaled_train\u001b[0m\u001b[1;33m,\u001b[0m \u001b[0mencoded_y_train\u001b[0m\u001b[1;33m.\u001b[0m\u001b[0mravel\u001b[0m\u001b[1;33m(\u001b[0m\u001b[1;33m)\u001b[0m\u001b[1;33m)\u001b[0m\u001b[1;33m\u001b[0m\u001b[1;33m\u001b[0m\u001b[0m\n\u001b[0m",
      "\u001b[1;32m~\\anaconda3.1\\lib\\site-packages\\sklearn\\model_selection\\_search.py\u001b[0m in \u001b[0;36mfit\u001b[1;34m(self, X, y, groups, **fit_params)\u001b[0m\n\u001b[0;32m    708\u001b[0m                 \u001b[1;32mreturn\u001b[0m \u001b[0mresults\u001b[0m\u001b[1;33m\u001b[0m\u001b[1;33m\u001b[0m\u001b[0m\n\u001b[0;32m    709\u001b[0m \u001b[1;33m\u001b[0m\u001b[0m\n\u001b[1;32m--> 710\u001b[1;33m             \u001b[0mself\u001b[0m\u001b[1;33m.\u001b[0m\u001b[0m_run_search\u001b[0m\u001b[1;33m(\u001b[0m\u001b[0mevaluate_candidates\u001b[0m\u001b[1;33m)\u001b[0m\u001b[1;33m\u001b[0m\u001b[1;33m\u001b[0m\u001b[0m\n\u001b[0m\u001b[0;32m    711\u001b[0m \u001b[1;33m\u001b[0m\u001b[0m\n\u001b[0;32m    712\u001b[0m         \u001b[1;31m# For multi-metric evaluation, store the best_index_, best_params_ and\u001b[0m\u001b[1;33m\u001b[0m\u001b[1;33m\u001b[0m\u001b[1;33m\u001b[0m\u001b[0m\n",
      "\u001b[1;32m~\\anaconda3.1\\lib\\site-packages\\sklearn\\model_selection\\_search.py\u001b[0m in \u001b[0;36m_run_search\u001b[1;34m(self, evaluate_candidates)\u001b[0m\n\u001b[0;32m   1149\u001b[0m     \u001b[1;32mdef\u001b[0m \u001b[0m_run_search\u001b[0m\u001b[1;33m(\u001b[0m\u001b[0mself\u001b[0m\u001b[1;33m,\u001b[0m \u001b[0mevaluate_candidates\u001b[0m\u001b[1;33m)\u001b[0m\u001b[1;33m:\u001b[0m\u001b[1;33m\u001b[0m\u001b[1;33m\u001b[0m\u001b[0m\n\u001b[0;32m   1150\u001b[0m         \u001b[1;34m\"\"\"Search all candidates in param_grid\"\"\"\u001b[0m\u001b[1;33m\u001b[0m\u001b[1;33m\u001b[0m\u001b[0m\n\u001b[1;32m-> 1151\u001b[1;33m         \u001b[0mevaluate_candidates\u001b[0m\u001b[1;33m(\u001b[0m\u001b[0mParameterGrid\u001b[0m\u001b[1;33m(\u001b[0m\u001b[0mself\u001b[0m\u001b[1;33m.\u001b[0m\u001b[0mparam_grid\u001b[0m\u001b[1;33m)\u001b[0m\u001b[1;33m)\u001b[0m\u001b[1;33m\u001b[0m\u001b[1;33m\u001b[0m\u001b[0m\n\u001b[0m\u001b[0;32m   1152\u001b[0m \u001b[1;33m\u001b[0m\u001b[0m\n\u001b[0;32m   1153\u001b[0m \u001b[1;33m\u001b[0m\u001b[0m\n",
      "\u001b[1;32m~\\anaconda3.1\\lib\\site-packages\\sklearn\\model_selection\\_search.py\u001b[0m in \u001b[0;36mevaluate_candidates\u001b[1;34m(candidate_params)\u001b[0m\n\u001b[0;32m    687\u001b[0m                                \u001b[1;32mfor\u001b[0m \u001b[0mparameters\u001b[0m\u001b[1;33m,\u001b[0m \u001b[1;33m(\u001b[0m\u001b[0mtrain\u001b[0m\u001b[1;33m,\u001b[0m \u001b[0mtest\u001b[0m\u001b[1;33m)\u001b[0m\u001b[1;33m\u001b[0m\u001b[1;33m\u001b[0m\u001b[0m\n\u001b[0;32m    688\u001b[0m                                in product(candidate_params,\n\u001b[1;32m--> 689\u001b[1;33m                                           cv.split(X, y, groups)))\n\u001b[0m\u001b[0;32m    690\u001b[0m \u001b[1;33m\u001b[0m\u001b[0m\n\u001b[0;32m    691\u001b[0m                 \u001b[1;32mif\u001b[0m \u001b[0mlen\u001b[0m\u001b[1;33m(\u001b[0m\u001b[0mout\u001b[0m\u001b[1;33m)\u001b[0m \u001b[1;33m<\u001b[0m \u001b[1;36m1\u001b[0m\u001b[1;33m:\u001b[0m\u001b[1;33m\u001b[0m\u001b[1;33m\u001b[0m\u001b[0m\n",
      "\u001b[1;32m~\\anaconda3.1\\lib\\site-packages\\sklearn\\model_selection\\_split.py\u001b[0m in \u001b[0;36msplit\u001b[1;34m(self, X, y, groups)\u001b[0m\n\u001b[0;32m    333\u001b[0m                 .format(self.n_splits, n_samples))\n\u001b[0;32m    334\u001b[0m \u001b[1;33m\u001b[0m\u001b[0m\n\u001b[1;32m--> 335\u001b[1;33m         \u001b[1;32mfor\u001b[0m \u001b[0mtrain\u001b[0m\u001b[1;33m,\u001b[0m \u001b[0mtest\u001b[0m \u001b[1;32min\u001b[0m \u001b[0msuper\u001b[0m\u001b[1;33m(\u001b[0m\u001b[1;33m)\u001b[0m\u001b[1;33m.\u001b[0m\u001b[0msplit\u001b[0m\u001b[1;33m(\u001b[0m\u001b[0mX\u001b[0m\u001b[1;33m,\u001b[0m \u001b[0my\u001b[0m\u001b[1;33m,\u001b[0m \u001b[0mgroups\u001b[0m\u001b[1;33m)\u001b[0m\u001b[1;33m:\u001b[0m\u001b[1;33m\u001b[0m\u001b[1;33m\u001b[0m\u001b[0m\n\u001b[0m\u001b[0;32m    336\u001b[0m             \u001b[1;32myield\u001b[0m \u001b[0mtrain\u001b[0m\u001b[1;33m,\u001b[0m \u001b[0mtest\u001b[0m\u001b[1;33m\u001b[0m\u001b[1;33m\u001b[0m\u001b[0m\n\u001b[0;32m    337\u001b[0m \u001b[1;33m\u001b[0m\u001b[0m\n",
      "\u001b[1;32m~\\anaconda3.1\\lib\\site-packages\\sklearn\\model_selection\\_split.py\u001b[0m in \u001b[0;36msplit\u001b[1;34m(self, X, y, groups)\u001b[0m\n\u001b[0;32m     78\u001b[0m         \u001b[0mX\u001b[0m\u001b[1;33m,\u001b[0m \u001b[0my\u001b[0m\u001b[1;33m,\u001b[0m \u001b[0mgroups\u001b[0m \u001b[1;33m=\u001b[0m \u001b[0mindexable\u001b[0m\u001b[1;33m(\u001b[0m\u001b[0mX\u001b[0m\u001b[1;33m,\u001b[0m \u001b[0my\u001b[0m\u001b[1;33m,\u001b[0m \u001b[0mgroups\u001b[0m\u001b[1;33m)\u001b[0m\u001b[1;33m\u001b[0m\u001b[1;33m\u001b[0m\u001b[0m\n\u001b[0;32m     79\u001b[0m         \u001b[0mindices\u001b[0m \u001b[1;33m=\u001b[0m \u001b[0mnp\u001b[0m\u001b[1;33m.\u001b[0m\u001b[0marange\u001b[0m\u001b[1;33m(\u001b[0m\u001b[0m_num_samples\u001b[0m\u001b[1;33m(\u001b[0m\u001b[0mX\u001b[0m\u001b[1;33m)\u001b[0m\u001b[1;33m)\u001b[0m\u001b[1;33m\u001b[0m\u001b[1;33m\u001b[0m\u001b[0m\n\u001b[1;32m---> 80\u001b[1;33m         \u001b[1;32mfor\u001b[0m \u001b[0mtest_index\u001b[0m \u001b[1;32min\u001b[0m \u001b[0mself\u001b[0m\u001b[1;33m.\u001b[0m\u001b[0m_iter_test_masks\u001b[0m\u001b[1;33m(\u001b[0m\u001b[0mX\u001b[0m\u001b[1;33m,\u001b[0m \u001b[0my\u001b[0m\u001b[1;33m,\u001b[0m \u001b[0mgroups\u001b[0m\u001b[1;33m)\u001b[0m\u001b[1;33m:\u001b[0m\u001b[1;33m\u001b[0m\u001b[1;33m\u001b[0m\u001b[0m\n\u001b[0m\u001b[0;32m     81\u001b[0m             \u001b[0mtrain_index\u001b[0m \u001b[1;33m=\u001b[0m \u001b[0mindices\u001b[0m\u001b[1;33m[\u001b[0m\u001b[0mnp\u001b[0m\u001b[1;33m.\u001b[0m\u001b[0mlogical_not\u001b[0m\u001b[1;33m(\u001b[0m\u001b[0mtest_index\u001b[0m\u001b[1;33m)\u001b[0m\u001b[1;33m]\u001b[0m\u001b[1;33m\u001b[0m\u001b[1;33m\u001b[0m\u001b[0m\n\u001b[0;32m     82\u001b[0m             \u001b[0mtest_index\u001b[0m \u001b[1;33m=\u001b[0m \u001b[0mindices\u001b[0m\u001b[1;33m[\u001b[0m\u001b[0mtest_index\u001b[0m\u001b[1;33m]\u001b[0m\u001b[1;33m\u001b[0m\u001b[1;33m\u001b[0m\u001b[0m\n",
      "\u001b[1;32m~\\anaconda3.1\\lib\\site-packages\\sklearn\\model_selection\\_split.py\u001b[0m in \u001b[0;36m_iter_test_masks\u001b[1;34m(self, X, y, groups)\u001b[0m\n\u001b[0;32m    690\u001b[0m \u001b[1;33m\u001b[0m\u001b[0m\n\u001b[0;32m    691\u001b[0m     \u001b[1;32mdef\u001b[0m \u001b[0m_iter_test_masks\u001b[0m\u001b[1;33m(\u001b[0m\u001b[0mself\u001b[0m\u001b[1;33m,\u001b[0m \u001b[0mX\u001b[0m\u001b[1;33m,\u001b[0m \u001b[0my\u001b[0m\u001b[1;33m=\u001b[0m\u001b[1;32mNone\u001b[0m\u001b[1;33m,\u001b[0m \u001b[0mgroups\u001b[0m\u001b[1;33m=\u001b[0m\u001b[1;32mNone\u001b[0m\u001b[1;33m)\u001b[0m\u001b[1;33m:\u001b[0m\u001b[1;33m\u001b[0m\u001b[1;33m\u001b[0m\u001b[0m\n\u001b[1;32m--> 692\u001b[1;33m         \u001b[0mtest_folds\u001b[0m \u001b[1;33m=\u001b[0m \u001b[0mself\u001b[0m\u001b[1;33m.\u001b[0m\u001b[0m_make_test_folds\u001b[0m\u001b[1;33m(\u001b[0m\u001b[0mX\u001b[0m\u001b[1;33m,\u001b[0m \u001b[0my\u001b[0m\u001b[1;33m)\u001b[0m\u001b[1;33m\u001b[0m\u001b[1;33m\u001b[0m\u001b[0m\n\u001b[0m\u001b[0;32m    693\u001b[0m         \u001b[1;32mfor\u001b[0m \u001b[0mi\u001b[0m \u001b[1;32min\u001b[0m \u001b[0mrange\u001b[0m\u001b[1;33m(\u001b[0m\u001b[0mself\u001b[0m\u001b[1;33m.\u001b[0m\u001b[0mn_splits\u001b[0m\u001b[1;33m)\u001b[0m\u001b[1;33m:\u001b[0m\u001b[1;33m\u001b[0m\u001b[1;33m\u001b[0m\u001b[0m\n\u001b[0;32m    694\u001b[0m             \u001b[1;32myield\u001b[0m \u001b[0mtest_folds\u001b[0m \u001b[1;33m==\u001b[0m \u001b[0mi\u001b[0m\u001b[1;33m\u001b[0m\u001b[1;33m\u001b[0m\u001b[0m\n",
      "\u001b[1;32m~\\anaconda3.1\\lib\\site-packages\\sklearn\\model_selection\\_split.py\u001b[0m in \u001b[0;36m_make_test_folds\u001b[1;34m(self, X, y)\u001b[0m\n\u001b[0;32m    661\u001b[0m             raise ValueError(\"n_splits=%d cannot be greater than the\"\n\u001b[0;32m    662\u001b[0m                              \u001b[1;34m\" number of members in each class.\"\u001b[0m\u001b[1;33m\u001b[0m\u001b[1;33m\u001b[0m\u001b[0m\n\u001b[1;32m--> 663\u001b[1;33m                              % (self.n_splits))\n\u001b[0m\u001b[0;32m    664\u001b[0m         \u001b[1;32mif\u001b[0m \u001b[0mself\u001b[0m\u001b[1;33m.\u001b[0m\u001b[0mn_splits\u001b[0m \u001b[1;33m>\u001b[0m \u001b[0mmin_groups\u001b[0m\u001b[1;33m:\u001b[0m\u001b[1;33m\u001b[0m\u001b[1;33m\u001b[0m\u001b[0m\n\u001b[0;32m    665\u001b[0m             warnings.warn((\"The least populated class in y has only %d\"\n",
      "\u001b[1;31mValueError\u001b[0m: n_splits=5 cannot be greater than the number of members in each class."
     ]
    }
   ],
   "source": [
    "# Train the model with GridSearch\n",
    "grid.fit(X_scaled_train, encoded_y_train.ravel())"
   ]
  },
  {
   "cell_type": "code",
   "execution_count": null,
   "metadata": {},
   "outputs": [],
   "source": [
    "grid"
   ]
  },
  {
   "cell_type": "code",
   "execution_count": null,
   "metadata": {},
   "outputs": [],
   "source": [
    "sorted(grid.cv_results_.keys())"
   ]
  },
  {
   "cell_type": "code",
   "execution_count": null,
   "metadata": {},
   "outputs": [],
   "source": [
    "print(grid.best_params_)\n",
    "print(grid.best_score_)\n",
    "print(grid.best_index_)"
   ]
  },
  {
   "cell_type": "code",
   "execution_count": null,
   "metadata": {},
   "outputs": [],
   "source": [
    "df_results = pd.DataFrame({'col_1' : model.predict(X_scaled_test), 'col_2' : encoded_y_test.ravel()})\n",
    "df_results"
   ]
  },
  {
   "cell_type": "code",
   "execution_count": null,
   "metadata": {},
   "outputs": [],
   "source": [
    "search.cv_results_['params']"
   ]
  },
  {
   "cell_type": "markdown",
   "metadata": {},
   "source": [
    "# Save the Model"
   ]
  },
  {
   "cell_type": "code",
   "execution_count": null,
   "metadata": {},
   "outputs": [],
   "source": [
    "# save your model by updating \"your_name\" with your name\n",
    "# and \"your_model\" with your model variable\n",
    "# be sure to turn this in to BCS\n",
    "# if joblib fails to import, try running the command to install in terminal/git-bash\n",
    "import joblib\n",
    "filename = 'nakouma_svc.sav'\n",
    "joblib.dump(model, filename)"
   ]
  },
  {
   "cell_type": "code",
   "execution_count": null,
   "metadata": {},
   "outputs": [],
   "source": [
    "search.cv_results_['params']"
   ]
  },
  {
   "cell_type": "code",
   "execution_count": null,
   "metadata": {},
   "outputs": [],
   "source": []
  }
 ],
 "metadata": {
  "kernelspec": {
   "display_name": "Python 3",
   "language": "python",
   "name": "python3"
  },
  "language_info": {
   "codemirror_mode": {
    "name": "ipython",
    "version": 3
   },
   "file_extension": ".py",
   "mimetype": "text/x-python",
   "name": "python",
   "nbconvert_exporter": "python",
   "pygments_lexer": "ipython3",
   "version": "3.7.6"
  }
 },
 "nbformat": 4,
 "nbformat_minor": 4
}
