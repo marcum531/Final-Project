{
 "cells": [
  {
   "cell_type": "code",
   "execution_count": 41,
   "metadata": {},
   "outputs": [],
   "source": [
    "import pandas as pd\n",
    "import numpy as np\n",
    "import matplotlib.pyplot as plt"
   ]
  },
  {
   "cell_type": "code",
   "execution_count": 38,
   "metadata": {},
   "outputs": [
    {
     "data": {
      "text/html": [
       "<div>\n",
       "<style scoped>\n",
       "    .dataframe tbody tr th:only-of-type {\n",
       "        vertical-align: middle;\n",
       "    }\n",
       "\n",
       "    .dataframe tbody tr th {\n",
       "        vertical-align: top;\n",
       "    }\n",
       "\n",
       "    .dataframe thead th {\n",
       "        text-align: right;\n",
       "    }\n",
       "</style>\n",
       "<table border=\"1\" class=\"dataframe\">\n",
       "  <thead>\n",
       "    <tr style=\"text-align: right;\">\n",
       "      <th></th>\n",
       "      <th>County_Name</th>\n",
       "      <th>State</th>\n",
       "      <th>Labor_Force</th>\n",
       "      <th>Employed</th>\n",
       "      <th>Unemployed</th>\n",
       "      <th>Unemployment_Rate</th>\n",
       "    </tr>\n",
       "  </thead>\n",
       "  <tbody>\n",
       "    <tr>\n",
       "      <th>0</th>\n",
       "      <td>Adams County</td>\n",
       "      <td>OH</td>\n",
       "      <td>10,717</td>\n",
       "      <td>9,984</td>\n",
       "      <td>733</td>\n",
       "      <td>6.8</td>\n",
       "    </tr>\n",
       "    <tr>\n",
       "      <th>1</th>\n",
       "      <td>Allen County</td>\n",
       "      <td>OH</td>\n",
       "      <td>47,866</td>\n",
       "      <td>45,937</td>\n",
       "      <td>1,929</td>\n",
       "      <td>4.0</td>\n",
       "    </tr>\n",
       "    <tr>\n",
       "      <th>2</th>\n",
       "      <td>Ashland County</td>\n",
       "      <td>OH</td>\n",
       "      <td>26,801</td>\n",
       "      <td>25,687</td>\n",
       "      <td>1,114</td>\n",
       "      <td>4.2</td>\n",
       "    </tr>\n",
       "    <tr>\n",
       "      <th>3</th>\n",
       "      <td>Ashtabula County</td>\n",
       "      <td>OH</td>\n",
       "      <td>44,459</td>\n",
       "      <td>42,334</td>\n",
       "      <td>2,125</td>\n",
       "      <td>4.8</td>\n",
       "    </tr>\n",
       "    <tr>\n",
       "      <th>4</th>\n",
       "      <td>Athens County</td>\n",
       "      <td>OH</td>\n",
       "      <td>27,694</td>\n",
       "      <td>26,226</td>\n",
       "      <td>1,468</td>\n",
       "      <td>5.3</td>\n",
       "    </tr>\n",
       "  </tbody>\n",
       "</table>\n",
       "</div>"
      ],
      "text/plain": [
       "        County_Name State  Labor_Force     Employed  Unemployed  \\\n",
       "0      Adams County    OH  10,717        9,984         733        \n",
       "1      Allen County    OH  47,866       45,937       1,929        \n",
       "2    Ashland County    OH  26,801       25,687       1,114        \n",
       "3  Ashtabula County    OH  44,459       42,334       2,125        \n",
       "4     Athens County    OH  27,694       26,226       1,468        \n",
       "\n",
       "   Unemployment_Rate  \n",
       "0                6.8  \n",
       "1                4.0  \n",
       "2                4.2  \n",
       "3                4.8  \n",
       "4                5.3  "
      ]
     },
     "execution_count": 38,
     "metadata": {},
     "output_type": "execute_result"
    }
   ],
   "source": [
    "df = pd.read_csv(\"Unemployment Ohio.csv\")\n",
    "df = df.fillna(0)\n",
    "df.head()"
   ]
  },
  {
   "cell_type": "code",
   "execution_count": 42,
   "metadata": {},
   "outputs": [],
   "source": [
    "x_axis = np.arange(len(df))\n",
    "tick_locations = [value for value in x_axis]"
   ]
  },
  {
   "cell_type": "code",
   "execution_count": 47,
   "metadata": {},
   "outputs": [
    {
     "data": {
      "image/png": "[encoded data removed]",
      "text/plain": [
       "<Figure size 432x288 with 1 Axes>"
      ]
     },
     "metadata": {
      "needs_background": "light"
     },
     "output_type": "display_data"
    }
   ],
   "source": [
    "plt.bar(x_axis, df[\"Unemployment_Rate\"], color = 'r', alpha = 0.5, align = 'center')\n",
    "plt.xticks(tick_locations, df[\"Unemployment_Rate\"], rotation=45)\n",
    "plt.title(\"Unemployment Rates in Ohio by County\")\n",
    "plt.xlabel(\"County Name\")\n",
    "plt.ylabel(\"Unemployment Rate (%)\")\n",
    "plt.tight_layout()"
   ]
  },
  {
   "cell_type": "code",
   "execution_count": null,
   "metadata": {},
   "outputs": [],
   "source": []
  }
 ],
 "metadata": {
  "kernelspec": {
   "display_name": "Python 3",
   "language": "python",
   "name": "python3"
  },
  "language_info": {
   "codemirror_mode": {
    "name": "ipython",
    "version": 3
   },
   "file_extension": ".py",
   "mimetype": "text/x-python",
   "name": "python",
   "nbconvert_exporter": "python",
   "pygments_lexer": "ipython3",
   "version": "3.7.6"
  }
 },
 "nbformat": 4,
 "nbformat_minor": 4
}
